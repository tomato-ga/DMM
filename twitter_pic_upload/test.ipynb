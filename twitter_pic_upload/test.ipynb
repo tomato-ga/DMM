{
 "cells": [
  {
   "cell_type": "code",
   "execution_count": 3,
   "metadata": {},
   "outputs": [],
   "source": [
    "import os\n",
    "import random\n",
    "import tweepy"
   ]
  },
  {
   "cell_type": "code",
   "execution_count": 34,
   "metadata": {},
   "outputs": [],
   "source": [
    "pic_dir = 'E:\\\\twit_photos_gurasen\\\\'\n",
    "pic_subdir = os.listdir(pic_dir) # サブディレクトリ一覧\n",
    "random.shuffle(pic_subdir) # サブディレクトリをランダム化\n",
    "photo_lists = os.listdir(pic_dir + pic_subdir[0]) # 画像ファイル一覧\n",
    "random.shuffle(photo_lists) # 画像ファイル一覧をランダム化\n",
    "up_photo = os.path.abspath(pic_dir + pic_subdir[0] + '\\\\' + photo_lists[0]) # アップするファイルパス取得"
   ]
  },
  {
   "cell_type": "code",
   "execution_count": 35,
   "metadata": {},
   "outputs": [
    {
     "name": "stdout",
     "output_type": "stream",
     "text": [
      "4\n",
      "6cf26d23-s.jpg\n",
      "E:\\twit_photos_gurasen\\4\\6cf26d23-s.jpg\n"
     ]
    }
   ],
   "source": [
    "print(pic_subdir[0])\n",
    "print(photo_lists[0])\n",
    "print(up_photo)"
   ]
  },
  {
   "cell_type": "code",
   "execution_count": 24,
   "metadata": {},
   "outputs": [
    {
     "name": "stdout",
     "output_type": "stream",
     "text": [
      "jpgです\n"
     ]
    }
   ],
   "source": [
    "if up_photo.endswith('.jpg'):\n",
    "    print('jpgです')\n",
    "elif up_photo.endswith('.png'):\n",
    "    print('pngです')\n",
    "else:\n",
    "    print('jpgとpng以外です')"
   ]
  },
  {
   "cell_type": "code",
   "execution_count": null,
   "metadata": {},
   "outputs": [],
   "source": []
  }
 ],
 "metadata": {
  "interpreter": {
   "hash": "d7bf0850b2e09fe6966c7335a51f985356679b8822581eb564b12ae7cd098fb3"
  },
  "kernelspec": {
   "display_name": "Python 3.10.4 ('dmm')",
   "language": "python",
   "name": "python3"
  },
  "language_info": {
   "codemirror_mode": {
    "name": "ipython",
    "version": 3
   },
   "file_extension": ".py",
   "mimetype": "text/x-python",
   "name": "python",
   "nbconvert_exporter": "python",
   "pygments_lexer": "ipython3",
   "version": "3.10.4"
  },
  "orig_nbformat": 4
 },
 "nbformat": 4,
 "nbformat_minor": 2
}
