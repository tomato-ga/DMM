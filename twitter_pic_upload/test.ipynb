{
 "cells": [
  {
   "cell_type": "code",
   "execution_count": 37,
   "metadata": {},
   "outputs": [],
   "source": [
    "import os\n",
    "import random\n",
    "import tweepy\n"
   ]
  },
  {
   "cell_type": "code",
   "execution_count": 38,
   "metadata": {},
   "outputs": [
    {
     "name": "stdout",
     "output_type": "stream",
     "text": [
      "jpgです\n"
     ]
    }
   ],
   "source": [
    "pic_dir = 'E:\\\\twit_photos_gurasen\\\\'\n",
    "pic_subdir = os.listdir(pic_dir) # サブディレクトリ一覧\n",
    "random.shuffle(pic_subdir) # サブディレクトリをランダム化\n",
    "photo_lists = os.listdir(pic_dir + pic_subdir[0]) # 画像ファイル一覧\n",
    "random.shuffle(photo_lists) # 画像ファイル一覧をランダム化\n",
    "up_photo = os.path.abspath(pic_dir + pic_subdir[0] + '\\\\' + photo_lists[0]) # アップするファイルパス取得\n",
    "\n",
    "if up_photo.endswith('.jpg'):\n",
    "    print('jpgです')\n",
    "elif up_photo.endswith('.png'):\n",
    "    print('pngです')\n",
    "else:\n",
    "    print('jpgとpng以外です')"
   ]
  },
  {
   "cell_type": "code",
   "execution_count": 1,
   "metadata": {},
   "outputs": [],
   "source": [
    "import json"
   ]
  },
  {
   "cell_type": "code",
   "execution_count": 7,
   "metadata": {},
   "outputs": [
    {
     "ename": "KeyboardInterrupt",
     "evalue": "Interrupted by user",
     "output_type": "error",
     "traceback": [
      "\u001b[0;31m---------------------------------------------------------------------------\u001b[0m",
      "\u001b[0;31mKeyboardInterrupt\u001b[0m                         Traceback (most recent call last)",
      "\u001b[1;32m/Users/ore/Documents/GitHub/DMM/twitter_pic_upload/test.ipynb Cell 4'\u001b[0m in \u001b[0;36m<cell line: 4>\u001b[0;34m()\u001b[0m\n\u001b[1;32m      <a href='vscode-notebook-cell:/Users/ore/Documents/GitHub/DMM/twitter_pic_upload/test.ipynb#ch0000007?line=0'>1</a>\u001b[0m \u001b[39mimport\u001b[39;00m \u001b[39minstaloader\u001b[39;00m\n\u001b[1;32m      <a href='vscode-notebook-cell:/Users/ore/Documents/GitHub/DMM/twitter_pic_upload/test.ipynb#ch0000007?line=2'>3</a>\u001b[0m var \u001b[39m=\u001b[39m instaloader\u001b[39m.\u001b[39mInstaloader()\n\u001b[0;32m----> <a href='vscode-notebook-cell:/Users/ore/Documents/GitHub/DMM/twitter_pic_upload/test.ipynb#ch0000007?line=3'>4</a>\u001b[0m name \u001b[39m=\u001b[39m \u001b[39minput\u001b[39;49m(\u001b[39m\"\u001b[39;49m\u001b[39mユーザー名を入力する: \u001b[39;49m\u001b[39m\"\u001b[39;49m)\n\u001b[1;32m      <a href='vscode-notebook-cell:/Users/ore/Documents/GitHub/DMM/twitter_pic_upload/test.ipynb#ch0000007?line=4'>5</a>\u001b[0m var\u001b[39m.\u001b[39mdownload_profile(name,profile_pic_only\u001b[39m=\u001b[39m\u001b[39mTrue\u001b[39;00m)\n",
      "File \u001b[0;32m~/opt/anaconda3/envs/scraping/lib/python3.10/site-packages/ipykernel/kernelbase.py:1161\u001b[0m, in \u001b[0;36mKernel.raw_input\u001b[0;34m(self, prompt)\u001b[0m\n\u001b[1;32m   <a href='file:///Users/ore/opt/anaconda3/envs/scraping/lib/python3.10/site-packages/ipykernel/kernelbase.py?line=1156'>1157</a>\u001b[0m \u001b[39mif\u001b[39;00m \u001b[39mnot\u001b[39;00m \u001b[39mself\u001b[39m\u001b[39m.\u001b[39m_allow_stdin:\n\u001b[1;32m   <a href='file:///Users/ore/opt/anaconda3/envs/scraping/lib/python3.10/site-packages/ipykernel/kernelbase.py?line=1157'>1158</a>\u001b[0m     \u001b[39mraise\u001b[39;00m StdinNotImplementedError(\n\u001b[1;32m   <a href='file:///Users/ore/opt/anaconda3/envs/scraping/lib/python3.10/site-packages/ipykernel/kernelbase.py?line=1158'>1159</a>\u001b[0m         \u001b[39m\"\u001b[39m\u001b[39mraw_input was called, but this frontend does not support input requests.\u001b[39m\u001b[39m\"\u001b[39m\n\u001b[1;32m   <a href='file:///Users/ore/opt/anaconda3/envs/scraping/lib/python3.10/site-packages/ipykernel/kernelbase.py?line=1159'>1160</a>\u001b[0m     )\n\u001b[0;32m-> <a href='file:///Users/ore/opt/anaconda3/envs/scraping/lib/python3.10/site-packages/ipykernel/kernelbase.py?line=1160'>1161</a>\u001b[0m \u001b[39mreturn\u001b[39;00m \u001b[39mself\u001b[39;49m\u001b[39m.\u001b[39;49m_input_request(\n\u001b[1;32m   <a href='file:///Users/ore/opt/anaconda3/envs/scraping/lib/python3.10/site-packages/ipykernel/kernelbase.py?line=1161'>1162</a>\u001b[0m     \u001b[39mstr\u001b[39;49m(prompt),\n\u001b[1;32m   <a href='file:///Users/ore/opt/anaconda3/envs/scraping/lib/python3.10/site-packages/ipykernel/kernelbase.py?line=1162'>1163</a>\u001b[0m     \u001b[39mself\u001b[39;49m\u001b[39m.\u001b[39;49m_parent_ident[\u001b[39m\"\u001b[39;49m\u001b[39mshell\u001b[39;49m\u001b[39m\"\u001b[39;49m],\n\u001b[1;32m   <a href='file:///Users/ore/opt/anaconda3/envs/scraping/lib/python3.10/site-packages/ipykernel/kernelbase.py?line=1163'>1164</a>\u001b[0m     \u001b[39mself\u001b[39;49m\u001b[39m.\u001b[39;49mget_parent(\u001b[39m\"\u001b[39;49m\u001b[39mshell\u001b[39;49m\u001b[39m\"\u001b[39;49m),\n\u001b[1;32m   <a href='file:///Users/ore/opt/anaconda3/envs/scraping/lib/python3.10/site-packages/ipykernel/kernelbase.py?line=1164'>1165</a>\u001b[0m     password\u001b[39m=\u001b[39;49m\u001b[39mFalse\u001b[39;49;00m,\n\u001b[1;32m   <a href='file:///Users/ore/opt/anaconda3/envs/scraping/lib/python3.10/site-packages/ipykernel/kernelbase.py?line=1165'>1166</a>\u001b[0m )\n",
      "File \u001b[0;32m~/opt/anaconda3/envs/scraping/lib/python3.10/site-packages/ipykernel/kernelbase.py:1205\u001b[0m, in \u001b[0;36mKernel._input_request\u001b[0;34m(self, prompt, ident, parent, password)\u001b[0m\n\u001b[1;32m   <a href='file:///Users/ore/opt/anaconda3/envs/scraping/lib/python3.10/site-packages/ipykernel/kernelbase.py?line=1201'>1202</a>\u001b[0m             \u001b[39mbreak\u001b[39;00m\n\u001b[1;32m   <a href='file:///Users/ore/opt/anaconda3/envs/scraping/lib/python3.10/site-packages/ipykernel/kernelbase.py?line=1202'>1203</a>\u001b[0m \u001b[39mexcept\u001b[39;00m \u001b[39mKeyboardInterrupt\u001b[39;00m:\n\u001b[1;32m   <a href='file:///Users/ore/opt/anaconda3/envs/scraping/lib/python3.10/site-packages/ipykernel/kernelbase.py?line=1203'>1204</a>\u001b[0m     \u001b[39m# re-raise KeyboardInterrupt, to truncate traceback\u001b[39;00m\n\u001b[0;32m-> <a href='file:///Users/ore/opt/anaconda3/envs/scraping/lib/python3.10/site-packages/ipykernel/kernelbase.py?line=1204'>1205</a>\u001b[0m     \u001b[39mraise\u001b[39;00m \u001b[39mKeyboardInterrupt\u001b[39;00m(\u001b[39m\"\u001b[39m\u001b[39mInterrupted by user\u001b[39m\u001b[39m\"\u001b[39m) \u001b[39mfrom\u001b[39;00m \u001b[39mNone\u001b[39m\n\u001b[1;32m   <a href='file:///Users/ore/opt/anaconda3/envs/scraping/lib/python3.10/site-packages/ipykernel/kernelbase.py?line=1205'>1206</a>\u001b[0m \u001b[39mexcept\u001b[39;00m \u001b[39mException\u001b[39;00m:\n\u001b[1;32m   <a href='file:///Users/ore/opt/anaconda3/envs/scraping/lib/python3.10/site-packages/ipykernel/kernelbase.py?line=1206'>1207</a>\u001b[0m     \u001b[39mself\u001b[39m\u001b[39m.\u001b[39mlog\u001b[39m.\u001b[39mwarning(\u001b[39m\"\u001b[39m\u001b[39mInvalid Message:\u001b[39m\u001b[39m\"\u001b[39m, exc_info\u001b[39m=\u001b[39m\u001b[39mTrue\u001b[39;00m)\n",
      "\u001b[0;31mKeyboardInterrupt\u001b[0m: Interrupted by user"
     ]
    }
   ],
   "source": [
    "import instaloader\n",
    "\n",
    "var = instaloader.Instaloader()\n",
    "# name = input(\"ユーザー名を入力する: \")\n",
    "var.download_profile('kitagawakeiko0822',profile_pic_only=True)"
   ]
  },
  {
   "cell_type": "code",
   "execution_count": null,
   "metadata": {},
   "outputs": [],
   "source": []
  }
 ],
 "metadata": {
  "interpreter": {
   "hash": "d7bf0850b2e09fe6966c7335a51f985356679b8822581eb564b12ae7cd098fb3"
  },
  "kernelspec": {
   "display_name": "Python 3.10.4 ('dmm')",
   "language": "python",
   "name": "python3"
  },
  "language_info": {
   "codemirror_mode": {
    "name": "ipython",
    "version": 3
   },
   "file_extension": ".py",
   "mimetype": "text/x-python",
   "name": "python",
   "nbconvert_exporter": "python",
   "pygments_lexer": "ipython3",
   "version": "3.10.4"
  },
  "orig_nbformat": 4
 },
 "nbformat": 4,
 "nbformat_minor": 2
}
