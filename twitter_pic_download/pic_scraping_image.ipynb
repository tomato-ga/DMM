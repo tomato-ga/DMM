{
 "cells": [
  {
   "cell_type": "code",
   "execution_count": null,
   "metadata": {},
   "outputs": [],
   "source": [
    "from bs4 import BeautifulSoup\n",
    "import requests\n",
    "import pandas as pd\n",
    "import time\n",
    "import pandas as pd\n",
    "import glob\n",
    "import os\n",
    "import re\n",
    "\n",
    "from selenium import webdriver\n",
    "from selenium.webdriver.chrome.options import Options\n",
    "from selenium.webdriver.common.keys import Keys\n",
    "from selenium.webdriver.common.by import By\n",
    "from selenium.webdriver.support.ui import WebDriverWait\n",
    "from selenium.webdriver.support import expected_conditions as EC\n",
    "from selenium.webdriver.chrome import service as fs\n",
    "\n",
    "\n",
    "class Image:\n",
    "\n",
    "\n",
    "    def __init__(self):\n",
    "\n",
    "        self.img_urls = []\n",
    "\n",
    "        ###################Windows########################\n",
    "        # self.options = Options()\n",
    "        # #self.options.add_argument('--headless')\n",
    "        # self.options.add_argument('--user-agent=Mozilla/5.0 (Windows NT 10.0; Win64; x64) AppleWebKit/537.36 (KHTML, like Gecko) Chrome/100.0.4896.60 Safari/537.36')\n",
    "        # chromedriver = 'C:\\\\Users\\\\PC_User\\\\Documents\\\\GitHub\\\\kutikomi\\\\bakusai\\\\chromedriver.exe' # '/Users/oono/Documents/py_binary/chromedriver'\n",
    "        # chrome_service = fs.Service(executable_path=chromedriver)\n",
    "        # self.driver = webdriver.Chrome(service=chrome_service, options=self.options)\n",
    "        ###################Windows########################\n",
    "        self.wait = WebDriverWait(driver=self.driver, timeout=30)\n",
    "\n",
    "    def chrome_quit(self):\n",
    "        self.driver.quit()\n",
    "\n",
    "\n",
    "    def image_url_parse(self, url):\n",
    "\n",
    "        try:\n",
    "            self.driver.get(url)\n",
    "            self.wait.until(EC.presence_of_all_elements_located)\n",
    "            self.driver.find_element(by=By.TAG_NAME, value='body').send_keys(Keys.END)\n",
    "\n",
    "            source = self.driver.page_source\n",
    "            soup = BeautifulSoup(source, 'html.parser')\n",
    "            title = soup.find('h2', {'class': 'entry-title'}).text\n",
    "            blocks = soup.find('div', {'class': 'entry-content'})\n",
    "            img_url = blocks.find_all('img')\n",
    "            os.makedirs(f'E:\\\\twit_photos\\\\{title}', mode=0o777 , exist_ok=True)\n",
    "\n",
    "            for img in img_url:\n",
    "                self.img_urls.append(img['src'])\n",
    "            print(self.img_urls)\n",
    "\n",
    "            for img_url in self.img_urls:\n",
    "                image_get = requests.get(img_url)\n",
    "                time.sleep(0.3)\n",
    "                file_name = re.findall('([a-zA-z0-9_-]*)(.jpg)', img_url)\n",
    "                file_name = file_name[0][0]\n",
    "                file_name = file_name.replace('/', '')\n",
    "                with open(f'E:\\\\twit_photos\\\\{title}\\\\{str(file_name)}.jpg', 'wb') as image: #Win f'E:\\\\twit_photos\\\\{title}\\\\{str(file_name)}.jpg', 'wb'\n",
    "                    image.write(image_get.content)\n",
    "                    time.sleep(0.3)\n",
    "\n",
    "\n",
    "        except Exception as ex:\n",
    "            print('[article_url_parse]', ex)\n",
    "            pass\n",
    "\n",
    "\n",
    "t = Image()\n",
    "urls: list = pd.read_csv('url.csv')\n",
    "urls = urls.values\n",
    "for url in urls:\n",
    "    t.image_url_parse(url[0])\n",
    "\n",
    "t.chrome_quit()\n"
   ]
  },
  {
   "cell_type": "code",
   "execution_count": 14,
   "metadata": {},
   "outputs": [],
   "source": [
    "from bs4 import BeautifulSoup\n",
    "import requests\n",
    "from PIL import Image\n",
    "import io\n",
    "\n",
    "\n",
    "img_url = 'https://news.idolsenka.net/?p=8099#more-8099'\n",
    "r = requests.get(img_url)\n",
    "soup = BeautifulSoup(r.text, 'html.parser')\n",
    "title = soup.find('h2', {'class': 'entry-title'}).text\n",
    "blocks = soup.find('div', {'class': 'entry-content'})\n",
    "img_url_block = blocks.find_all('img')"
   ]
  },
  {
   "cell_type": "code",
   "execution_count": 16,
   "metadata": {},
   "outputs": [
    {
     "ename": "TypeError",
     "evalue": "a bytes-like object is required, not 'JpegImageFile'",
     "output_type": "error",
     "traceback": [
      "\u001b[1;31m---------------------------------------------------------------------------\u001b[0m",
      "\u001b[1;31mTypeError\u001b[0m                                 Traceback (most recent call last)",
      "\u001b[1;32mc:\\Users\\PC_User\\Documents\\GitHub\\DMM\\twitter_pic_download\\pic_scraping_image.ipynb Cell 3'\u001b[0m in \u001b[0;36m<cell line: 2>\u001b[1;34m()\u001b[0m\n\u001b[0;32m      <a href='vscode-notebook-cell:/c%3A/Users/PC_User/Documents/GitHub/DMM/twitter_pic_download/pic_scraping_image.ipynb#ch0000002?line=8'>9</a>\u001b[0m v \u001b[39m=\u001b[39m Image\u001b[39m.\u001b[39mopen(io\u001b[39m.\u001b[39mBytesIO(res\u001b[39m.\u001b[39mcontent))\n\u001b[0;32m     <a href='vscode-notebook-cell:/c%3A/Users/PC_User/Documents/GitHub/DMM/twitter_pic_download/pic_scraping_image.ipynb#ch0000002?line=9'>10</a>\u001b[0m \u001b[39mwith\u001b[39;00m \u001b[39mopen\u001b[39m(\u001b[39mf\u001b[39m\u001b[39m'\u001b[39m\u001b[39mE:\u001b[39m\u001b[39m\\\\\u001b[39;00m\u001b[39mtwit_photos_test\u001b[39m\u001b[39m\\\\\u001b[39;00m\u001b[39m{\u001b[39;00mcount\u001b[39m}\u001b[39;00m\u001b[39m.jpg\u001b[39m\u001b[39m'\u001b[39m, \u001b[39m'\u001b[39m\u001b[39mwb\u001b[39m\u001b[39m'\u001b[39m) \u001b[39mas\u001b[39;00m image: \u001b[39m#Win f'E:\\\\twit_photos\\\\{title}\\\\{str(file_name)}.jpg', 'wb'\u001b[39;00m\n\u001b[1;32m---> <a href='vscode-notebook-cell:/c%3A/Users/PC_User/Documents/GitHub/DMM/twitter_pic_download/pic_scraping_image.ipynb#ch0000002?line=10'>11</a>\u001b[0m     image\u001b[39m.\u001b[39;49mwrite(v)\n",
      "\u001b[1;31mTypeError\u001b[0m: a bytes-like object is required, not 'JpegImageFile'"
     ]
    }
   ],
   "source": [
    "count = 1\n",
    "for imgs in img_url_block:\n",
    "    down = imgs['src']\n",
    "    res = requests.get(down)\n",
    "    # name_search = re.findall('([a-zA-z0-9_-]*)(.[a-z]{3,4}$)', imgs)\n",
    "    # file_name = name_search[0][0]\n",
    "    # file_name = file_name.replace('/', '')\n",
    "    # file_ex =  name_search[0][1]\n",
    "    v = Image.open(io.BytesIO(res.content))\n",
    "    with open(f'E:\\\\twit_photos_test\\\\{count}.jpg', 'wb') as image: #Win f'E:\\\\twit_photos\\\\{title}\\\\{str(file_name)}.jpg', 'wb'\n",
    "        image.write(v)"
   ]
  },
  {
   "cell_type": "code",
   "execution_count": 13,
   "metadata": {},
   "outputs": [
    {
     "data": {
      "text/plain": [
       "[<img class=\"alignnone size-medium\" height=\"2048\" src=\"https://blogger.googleusercontent.com/img/a/AVvXsEh7efz3wL2RLQsHZKvx9RgBWeXJ6miGjjjdjkfgMnM2g4D4fQ6gm0zBqDSNdR588sTM0NmODi_ZBAfTY0HGya37wY7cMYeT1SJeVYcxhyzTpPtgYcPDfAyjF1tdH7OtXVdvhU9jqf6bDIUQ5orIBcjOfvtYyr2cZVzY06Uy5B9MybJsmQjhRSyHc-KI?jpg\" width=\"1364\"/>,\n",
       " <img class=\"alignnone size-medium\" height=\"2048\" loading=\"lazy\" src=\"https://blogger.googleusercontent.com/img/a/AVvXsEgbWZO1QGg-ecJh50j7cls58MZ_8lVzIjxbOCcDNkaofdt6C1rdDOMkmlSrSUD9JQX0-NtNFe6AFu-ewDdH87LM3JIzSR_2ruSESk3Scy-x3WmfIrgToBvczN2bqK2y_YPXJhVx9omhgCTzEpqFG7Y-BV9LKZrKpqOCwyC1hijQurQvvHNtKFJyBCdi?jpg\" width=\"1364\"/>,\n",
       " <img class=\"alignnone size-medium\" height=\"2048\" loading=\"lazy\" src=\"https://blogger.googleusercontent.com/img/a/AVvXsEhUg1jtX3KWftMV2cq302Fii4iz2cqKc-gMkxTy4UEPdoFMXZT0iaV_EBaWR53vP2DpdAakgmm94t9DHks72slQRc1WJuZ5XMsnyD2NAVrF-FzACPnUfOWV3ykrlAKlXKCpYhPWSgMX65ond41Ss40n7qTd7kcvKK1kTMLxY0YDTRzhYnLGdivK3sZY?jpg\" width=\"1364\"/>,\n",
       " <img class=\"alignnone size-medium\" height=\"2048\" loading=\"lazy\" src=\"https://blogger.googleusercontent.com/img/a/AVvXsEghFOYNBgM0ymVdLOrB906nS_vbn_hpXQpdMA9-ZRwx1Tf9-WSQswVLwpWE2Y_lSCd373s-Z0agX0yjV2N4JJzu0-BDqDNc779M2bzTuo3WMzuzbXl29DrrvY2Wh2HWmV8-2xZ_tzVNxuradQjunxoHMwnqzhUiBQxgWvaKNK4GipYybLYoyFN2LcUk?jpg\" width=\"1364\"/>,\n",
       " <img class=\"alignnone size-medium\" height=\"2048\" loading=\"lazy\" src=\"https://blogger.googleusercontent.com/img/a/AVvXsEhdr3eBB0ta3zWKACNancdq0d6v9n4AblHu-IEuGix_-nH_ONl8rh_QBpBTTXoQUuCIAIzhTXCs1_91iTCUGkoPxvq_Z34m5BZ2_6lEO8SWiIOC29LcaBUFzD5779Ku7WPyYyR-JBKjMYCndCZ0dMaK_A80EtjOSVmHg0m2yK4OXCEiaikK7IGK-uUr?jpg\" width=\"1364\"/>,\n",
       " <img class=\"alignnone size-medium\" height=\"2048\" loading=\"lazy\" src=\"https://blogger.googleusercontent.com/img/a/AVvXsEgXMdG77HzvSeH8U2VvOegHWiHNs3KBUm8VHx3u4aJPbPSpBjHmn9ZBhfIJfY9zyiRafifOSUgjIojN1M6vqcSTvsj51NJ2gs-6Ds9H1LLrF6AjA_VCzX7N-nkfw7zEvYcuKkd4hiJpTk9hiXiSGYcS4CWAeRUTHKjbMMB7IasntWD19VhuoyORCgj4?jpg\" width=\"1364\"/>,\n",
       " <img class=\"alignnone size-medium\" height=\"2048\" loading=\"lazy\" src=\"https://blogger.googleusercontent.com/img/a/AVvXsEiciI97pP2_bmQ2hXRQeD32ze2lsppJKCWvzpyAEI6IvNR7ElSbBpkR7ikOppwLD-dWT4xPKtRbYlO4K_W4NMg2HRikMYJ3DPpuNoZRFxzkEr2DzYbU0V-LC1FlgFaecr0503X8dm8ZLuOxB05PR0q0ZtjltkyvwXEDn4xqTrfWZb3WOrBOSpA14WKb?jpg\" width=\"1364\"/>,\n",
       " <img class=\"alignnone size-medium\" height=\"2048\" loading=\"lazy\" src=\"https://blogger.googleusercontent.com/img/a/AVvXsEixNZLDRcE07ypf0A1KOBF1sHtdOAY8Dy6unD2rmp6zDpdot_4oKVQ6aLqBR_CHJ2Guogv44Rqps9RSTKU9YNuP3UEByopeS8YedJFHOLmFnU0wD7opDO4CicHaFrw_Doju6CiJUPtMdDGIv5dbUW1hUA1cBGtvF7qbabWnsaGKsGfzmBTsv-xGWSps?jpg\" width=\"1364\"/>,\n",
       " <img class=\"alignnone size-medium\" height=\"2048\" loading=\"lazy\" src=\"https://blogger.googleusercontent.com/img/a/AVvXsEg9VY9GYJJV6Olqjr36I_QXlfKaTws-DO-7X9pS8JOw42eZYKlY7hSb8hTiInTVsqSCLt5Hqmf8rH2zXOeso3GStbVPrFyqnWZ0PcsObZExomGp6AucIZXxoGVHJxyhhClWe7XZOl58wG7aum6LGJlb5RqqUGq5yliKEEWeuwS9JDjr3Y1AS0zUCXAt?jpg\" width=\"1364\"/>,\n",
       " <img class=\"alignnone size-medium\" height=\"2048\" loading=\"lazy\" src=\"https://blogger.googleusercontent.com/img/a/AVvXsEhbqXcLsaGMAhES_77pYOAzVfV6iSl8IJkg-vmaFSPWlmZ8zOlcYnNGeQLkllSnipvv0FInQP9hijKo-YLBOYwg0NpTKiHodH7DAte5G7-98L-tqBdqqjK1mgDjaACrKyZaRgp-Ng_cqDkWrVcfdoth_0Zpb6hWgubsjP6fvOS6oxbv9DhNlaVosJRB?jpg\" width=\"1364\"/>,\n",
       " <img class=\"alignnone size-medium\" height=\"2556\" loading=\"lazy\" src=\"https://blogger.googleusercontent.com/img/a/AVvXsEjKpkhrLHdRjFO1YVLINBcyWbuhlHBEeK3BC6tNZItHlL-YD5_887f7cAjQbhPKqn4j20V2jIND2vXJZ0D9K-oDKpyCfTCDxWk488etAhd_tTe1zn2vgS5MwrAONJ2k339V_GcDpLAVzqMVlWa7ZpXcnCn7AsJbIZ8_apTxabOpFpB5uc1ubggl_n4-=w1800?jpg\" width=\"1800\"/>,\n",
       " <img class=\"alignnone size-medium\" height=\"1600\" loading=\"lazy\" src=\"https://blogger.googleusercontent.com/img/a/AVvXsEhhK_wjbHasrpoNidUE0cgf6uywXK7U4eYG8EekF637A5AQ-eG3GSZt6veeiDEjh4RlQ8-PT8vJvd43YVWWb0yh0lZGuFTGxmDQKetZr25VOXDg1bU15rSIgpje9ywRbzhhpiaeUW1QE0T7d7ceK_MGksZtOOvCTxIqDOwMd3kgtS-NbsNzGVqJwvru?jpg\" width=\"1126\"/>,\n",
       " <img class=\"alignnone size-medium\" height=\"1600\" loading=\"lazy\" src=\"https://blogger.googleusercontent.com/img/a/AVvXsEixDi6ZK9NRT3fpkIvrk3dzCL37HPve53kJFMQX3Ot15D6e4bJhMVs1o_ERwKfktLgLdPJl6_Jt5bLRp_ka-AyyjNUr7T8Ols5oXP7niRnQ8B0oid8S9rf7zZCdXEQjQi3WIrOnjwrIB5Yt2k5SQJyX6i-Wx_HHDOsp_Fza2a-1KLfSQXGXo9aqCGO7?jpg\" width=\"1126\"/>,\n",
       " <img class=\"alignnone size-medium\" height=\"1600\" loading=\"lazy\" src=\"https://blogger.googleusercontent.com/img/a/AVvXsEiPS5ibzZKbI0vmOj160b8oj80gwOyxZw0WuGTR98W9G-HlG_yn1ttPOFeZIar1nr0Y_k0h9tDeqe9v4iUGVQzc2Y_HtBLoj9pEw6Gs9Li3JCsLdAYBJtA3dGnbnl84NNyI9LlvRoW2OqTM4-6fG3QsssXGOBeWC4c4aC9rGa9iYiscKH-JHB6vEoP8?jpg\" width=\"1126\"/>,\n",
       " <img class=\"alignnone size-medium\" height=\"1279\" loading=\"lazy\" src=\"https://blogger.googleusercontent.com/img/a/AVvXsEiTE1A9zE_AfV6xS0fZv8Zr-NY-S0Ns3mXuuVHrA4PrSotJP0GgmsewS2_tQu1p0-6sgTfXVJqROC35_KqMBHIuPejC5c662Nl3Cz7rwDXaHXQjoWr3Sxi5V4ZFZc2YV8sI1fL7aAiC7GHMLhMLSLasFIzfd0bTx8GxY4VkDUhmsjE3nsIahUjUoHCS=w1800?jpg\" width=\"1800\"/>,\n",
       " <img class=\"alignnone size-medium\" height=\"1600\" loading=\"lazy\" src=\"https://blogger.googleusercontent.com/img/a/AVvXsEgh5KEigtzN_y1zunIEcnQ8OwNTuwUBYqJBGS8dg1RJRGv1LWVnRYCWkMUuVNdoQ7kOpnbHN9dhFidrR5IhOOEBtKFGEFE4YeloHTR1koxPb7OhXR7EkjJNfjVgW1C89XiM1AOqMtRk5GkUVbKAGt5K3d6yo1ROs5BfYKVq9_raeunbsa15mzKML_bf?jpg\" width=\"1126\"/>,\n",
       " <img class=\"alignnone size-medium\" height=\"1600\" loading=\"lazy\" src=\"https://blogger.googleusercontent.com/img/a/AVvXsEiOjziDk15-e6iBAWzZA1rFWTCCO-rN4Qh2ZabMl-0TJNsvyDydo3_ho7AsfXEgbBdZNxThHyKpen9LzYCQljYQLpp63yfqXnGdEl9LzKN-V4MPao-XAodWeFneO6Vg-nkLgl6vbVwyT_Sook00he50OgTYz1TldI4ZQYbyBBOBrDqM-yrxOSIHl8HK?jpg\" width=\"1126\"/>,\n",
       " <img class=\"alignnone size-medium\" height=\"1600\" loading=\"lazy\" src=\"https://blogger.googleusercontent.com/img/a/AVvXsEiC-gybnsJl3F2qZdT4dQLLpfZtilTGd-Yg2kFhnTnMV8_QpiziZ7e2D0lqzFiI2gaE1zln6Jz4433ujZv9T4zTPlRo6ghe6X1dVHHcq_Bn07_A3yueccI25Au8Vyavhl8VmeQBoCom3tzt3s_eqt7g72rtiQ78Hj8QppEDab0noxUF8w_g3Zi5pyDP?jpg\" width=\"1126\"/>,\n",
       " <img class=\"alignnone size-medium\" height=\"2556\" loading=\"lazy\" src=\"https://blogger.googleusercontent.com/img/a/AVvXsEhveBHEMkOaGCl9rhRqFJJGvVf-3pC7rPW8eExhi-7WJJsskDhXpgjh1oh-vjmItbNa5rQEPeFM6uDbyq4Khw1nlUNcKvzOUTAWNIDAAgfY8EwYDHbxGhO3FQCESyV-NL4laU_BRXjfF4q50YRreOxTTMc9BxZF4_jizi6yD5_hUgDTs4MMXJ9CW4CU=w1800?jpg\" width=\"1800\"/>,\n",
       " <img class=\"alignnone size-medium\" height=\"1600\" loading=\"lazy\" src=\"https://blogger.googleusercontent.com/img/a/AVvXsEjO_G1v3qoPF5b1W6_wHbVyoVnofZ4umA5XBYKYuJfzjOY3r0rGdzKOoCm9MDJZEbCE1xKNwNho5mP-PV_-90FGhs4BuktTah9qLFS2U661ZnZkMtuEUyiBbME1jEBOTVezjqovKJt-w6-6otIf9-k2mvK3bK6LdI1pztGPvuY5LSmf7XQBiD610zuP=w1800?jpg\" width=\"1126\"/>,\n",
       " <img class=\"alignnone size-medium\" height=\"1279\" loading=\"lazy\" src=\"https://blogger.googleusercontent.com/img/a/AVvXsEhF_eIqIqdYulndkqt4SOOOeF0RgGZV0l1Q38rw2DyciXXWNZo9mia50uWWcOYlI_Ge_v8m4i_d3cd-KCOX4G80VQV56VU2v0MaCO50UgXnMxtNNKS9OZIJ96vXjK4N_rabh36KRBP7qbVOY3KcAicXaRGR53zO3cCp4JjOvXWwkmxG4xWnYnAyPILj=w1800?jpg\" width=\"1800\"/>,\n",
       " <img class=\"alignnone size-medium\" height=\"1600\" loading=\"lazy\" src=\"https://blogger.googleusercontent.com/img/a/AVvXsEjJo2mkon5sdlF0FoEblixVjzZnCtqBfJp0bM7Qu2Qnx46ar-rQiv2l4DOkQnAtkKRApgXAd7kuX7lkZCzLakimxXiHcBadD-aJh3BQWqeYfjj3fYD5AM4XgnixtJ4ciproeuIzrZKCc7amumIavvMWQcl_6YKKHOdxanyoAsJr3RA9b2SAm_Kn6h0G?jpg\" width=\"1126\"/>,\n",
       " <img class=\"alignnone size-medium\" height=\"1600\" loading=\"lazy\" src=\"https://blogger.googleusercontent.com/img/a/AVvXsEhbRbHRckIAe5DGGgGu8wiJBF1D3nrmgT64ZFhYqzTKjSL62bSP8rbhSnSCEVqOwoQiGZL41-9SeIT74v-m87rr9ggwxSIrzT1Pd0pRgNmEyKbJrNDKzZv2zj1QLqGn5T4shec8dXVCH85g33clnzZmCBifSEMU0QNt12N5MvixUuwB0mUIBs4nT5oc?jpg\" width=\"1126\"/>,\n",
       " <img class=\"alignnone size-medium\" height=\"1600\" loading=\"lazy\" src=\"https://blogger.googleusercontent.com/img/a/AVvXsEgiLiSWxVojfWqyJBo1vQemLgPIAAOnjBwVsI_a33aIv0sKxbitpcn10lrfTkVB5X-LWqm2UhPj8rAJ9k15K_eJoG2u9t4_YPn8oc2OSQVtZSRBfEd5ns5uR9qaV-Hv2CWAT5_R9DzaHGNs1qZenX6Fd6y-hgHbYBUW0pWIjGluFbXtM8-s3xCHFoCy?jpg\" width=\"1126\"/>,\n",
       " <img class=\"alignnone size-medium\" height=\"1600\" loading=\"lazy\" src=\"https://blogger.googleusercontent.com/img/a/AVvXsEhIIAEx11izms1CjD9fYMxcZ4EL9g7cYSvbaDPz9qMHZFMKMx3NP8Eio8Dwm3xSAveLjKHZ_tbWlduP-brwWjb6S1-0s1e4fYxxaWPDO9uxyJLrDchhhK51kTPAoK5jiqJQjhTS9TezpV_CLbCoWHjjfpd6zg51LQpwobqXfr3yjGQcdTn7RGuXcfl8?jpg\" width=\"1126\"/>,\n",
       " <img class=\"alignnone size-medium\" height=\"1600\" loading=\"lazy\" src=\"https://blogger.googleusercontent.com/img/a/AVvXsEgjV876wDdL6Ucq3eTQJuTaahVbf1e47Ycd-xG2bZMFujrSxKZeKFeT_x22h1ph_piSbIAmbXc8Z-vceCjCpxTaExPHEtWP-eKihBqNtCrLtB2TNq-H0BobRbh_F_cJp4VMoU223jqAFTrZwqDTuKS-2IQlNTN9bXV36FomPaKG_eHjlek0C6umOpS_?jpg\" width=\"1126\"/>]"
      ]
     },
     "execution_count": 13,
     "metadata": {},
     "output_type": "execute_result"
    }
   ],
   "source": [
    "img_url_block"
   ]
  },
  {
   "cell_type": "code",
   "execution_count": null,
   "metadata": {},
   "outputs": [],
   "source": []
  }
 ],
 "metadata": {
  "interpreter": {
   "hash": "11feb1d78534596143a490751b3fe871ec66a4c47892607133a77b452356a240"
  },
  "kernelspec": {
   "display_name": "Python 3.10.4 ('scrapy-test')",
   "language": "python",
   "name": "python3"
  },
  "language_info": {
   "codemirror_mode": {
    "name": "ipython",
    "version": 3
   },
   "file_extension": ".py",
   "mimetype": "text/x-python",
   "name": "python",
   "nbconvert_exporter": "python",
   "pygments_lexer": "ipython3",
   "version": "3.10.4"
  },
  "orig_nbformat": 4
 },
 "nbformat": 4,
 "nbformat_minor": 2
}
