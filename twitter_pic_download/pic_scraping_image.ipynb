{
 "cells": [
  {
   "cell_type": "code",
   "execution_count": 1,
   "metadata": {},
   "outputs": [
    {
     "name": "stdout",
     "output_type": "stream",
     "text": [
      "['https://livedoor.blogimg.jp/adult_pics/imgs/8/8/88ce18e1.jpg', 'https://livedoor.blogimg.jp/adult_pics/imgs/8/4/84e4795f.jpg', 'https://livedoor.blogimg.jp/adult_pics/imgs/6/d/6d8b6b72.jpg', 'https://livedoor.blogimg.jp/adult_pics/imgs/c/e/cea8f5dd.jpg', 'https://livedoor.blogimg.jp/adult_pics/imgs/8/d/8dd72eb1.jpg', 'https://livedoor.blogimg.jp/adult_pics/imgs/8/e/8eee9f01.jpg', 'https://livedoor.blogimg.jp/adult_pics/imgs/c/0/c0596af9.jpg', 'https://livedoor.blogimg.jp/adult_pics/imgs/a/6/a682199d.jpg', 'https://livedoor.blogimg.jp/adult_pics/imgs/f/1/f16cd888.jpg', 'https://livedoor.blogimg.jp/adult_pics/imgs/0/b/0be715d9.jpg', 'https://livedoor.blogimg.jp/adult_pics/imgs/1/4/14cafcd0.jpg', 'https://livedoor.blogimg.jp/adult_pics/imgs/4/f/4f0d2a0d.jpg', 'https://livedoor.blogimg.jp/adult_pics/imgs/2/3/23781445.jpg', 'https://livedoor.blogimg.jp/adult_pics/imgs/6/7/6709dea2.jpg', 'https://livedoor.blogimg.jp/adult_pics/imgs/7/0/70ce0bee.jpg', 'https://livedoor.blogimg.jp/adult_pics/imgs/5/a/5a2ea42c.jpg', 'https://livedoor.blogimg.jp/adult_pics/imgs/0/1/019f33a0.jpg', 'https://livedoor.blogimg.jp/adult_pics/imgs/5/9/595d6c54.jpg', 'https://livedoor.blogimg.jp/adult_pics/imgs/8/a/8a9d0325.jpg', 'https://livedoor.blogimg.jp/adult_pics/imgs/a/b/ab529773.jpg', 'https://livedoor.blogimg.jp/adult_pics/imgs/f/7/f7d6c8a2.jpg', 'https://livedoor.blogimg.jp/adult_pics/imgs/7/a/7a433d74.jpg', 'https://livedoor.blogimg.jp/adult_pics/imgs/e/4/e45f2647.jpg', 'https://livedoor.blogimg.jp/adult_pics/imgs/9/2/927cc9fd.jpg', 'https://livedoor.blogimg.jp/adult_pics/imgs/7/c/7c6f8a21.jpg', 'https://livedoor.blogimg.jp/adult_pics/imgs/f/9/f99efd1e.jpg', 'https://livedoor.blogimg.jp/adult_pics/imgs/f/f/ffa63fef.jpg', 'https://livedoor.blogimg.jp/adult_pics/imgs/c/e/ce38f6a4.jpg', 'https://livedoor.blogimg.jp/adult_pics/imgs/6/5/6518b353.jpg', 'https://livedoor.blogimg.jp/adult_pics/imgs/5/9/59890a46.jpg', 'https://livedoor.blogimg.jp/adult_pics/imgs/9/7/979d35ad.jpg', 'https://livedoor.blogimg.jp/adult_pics/imgs/4/d/4dc32ed5.jpg', 'https://livedoor.blogimg.jp/adult_pics/imgs/f/2/f2971843.jpg', 'https://livedoor.blogimg.jp/adult_pics/imgs/7/c/7cdac6a7.jpg', 'https://livedoor.blogimg.jp/adult_pics/imgs/2/f/2f34c630.jpg', 'https://livedoor.blogimg.jp/adult_pics/imgs/a/b/aba56ab6.jpg', 'https://livedoor.blogimg.jp/adult_pics/imgs/4/d/4d243b56.jpg', 'https://livedoor.blogimg.jp/adult_pics/imgs/f/a/fa4bb8b0.jpg']\n",
      "['https://livedoor.blogimg.jp/adult_pics/imgs/8/8/88ce18e1.jpg', 'https://livedoor.blogimg.jp/adult_pics/imgs/8/4/84e4795f.jpg', 'https://livedoor.blogimg.jp/adult_pics/imgs/6/d/6d8b6b72.jpg', 'https://livedoor.blogimg.jp/adult_pics/imgs/c/e/cea8f5dd.jpg', 'https://livedoor.blogimg.jp/adult_pics/imgs/8/d/8dd72eb1.jpg', 'https://livedoor.blogimg.jp/adult_pics/imgs/8/e/8eee9f01.jpg', 'https://livedoor.blogimg.jp/adult_pics/imgs/c/0/c0596af9.jpg', 'https://livedoor.blogimg.jp/adult_pics/imgs/a/6/a682199d.jpg', 'https://livedoor.blogimg.jp/adult_pics/imgs/f/1/f16cd888.jpg', 'https://livedoor.blogimg.jp/adult_pics/imgs/0/b/0be715d9.jpg', 'https://livedoor.blogimg.jp/adult_pics/imgs/1/4/14cafcd0.jpg', 'https://livedoor.blogimg.jp/adult_pics/imgs/4/f/4f0d2a0d.jpg', 'https://livedoor.blogimg.jp/adult_pics/imgs/2/3/23781445.jpg', 'https://livedoor.blogimg.jp/adult_pics/imgs/6/7/6709dea2.jpg', 'https://livedoor.blogimg.jp/adult_pics/imgs/7/0/70ce0bee.jpg', 'https://livedoor.blogimg.jp/adult_pics/imgs/5/a/5a2ea42c.jpg', 'https://livedoor.blogimg.jp/adult_pics/imgs/0/1/019f33a0.jpg', 'https://livedoor.blogimg.jp/adult_pics/imgs/5/9/595d6c54.jpg', 'https://livedoor.blogimg.jp/adult_pics/imgs/8/a/8a9d0325.jpg', 'https://livedoor.blogimg.jp/adult_pics/imgs/a/b/ab529773.jpg', 'https://livedoor.blogimg.jp/adult_pics/imgs/f/7/f7d6c8a2.jpg', 'https://livedoor.blogimg.jp/adult_pics/imgs/7/a/7a433d74.jpg', 'https://livedoor.blogimg.jp/adult_pics/imgs/e/4/e45f2647.jpg', 'https://livedoor.blogimg.jp/adult_pics/imgs/9/2/927cc9fd.jpg', 'https://livedoor.blogimg.jp/adult_pics/imgs/7/c/7c6f8a21.jpg', 'https://livedoor.blogimg.jp/adult_pics/imgs/f/9/f99efd1e.jpg', 'https://livedoor.blogimg.jp/adult_pics/imgs/f/f/ffa63fef.jpg', 'https://livedoor.blogimg.jp/adult_pics/imgs/c/e/ce38f6a4.jpg', 'https://livedoor.blogimg.jp/adult_pics/imgs/6/5/6518b353.jpg', 'https://livedoor.blogimg.jp/adult_pics/imgs/5/9/59890a46.jpg', 'https://livedoor.blogimg.jp/adult_pics/imgs/9/7/979d35ad.jpg', 'https://livedoor.blogimg.jp/adult_pics/imgs/4/d/4dc32ed5.jpg', 'https://livedoor.blogimg.jp/adult_pics/imgs/f/2/f2971843.jpg', 'https://livedoor.blogimg.jp/adult_pics/imgs/7/c/7cdac6a7.jpg', 'https://livedoor.blogimg.jp/adult_pics/imgs/2/f/2f34c630.jpg', 'https://livedoor.blogimg.jp/adult_pics/imgs/a/b/aba56ab6.jpg', 'https://livedoor.blogimg.jp/adult_pics/imgs/4/d/4d243b56.jpg', 'https://livedoor.blogimg.jp/adult_pics/imgs/f/a/fa4bb8b0.jpg', 'https://livedoor.blogimg.jp/adult_pics/imgs/4/a/4a59170d.jpg', 'https://livedoor.blogimg.jp/adult_pics/imgs/7/6/763202ab.jpg', 'https://livedoor.blogimg.jp/adult_pics/imgs/4/0/409f5dc9.jpg', 'https://livedoor.blogimg.jp/adult_pics/imgs/4/f/4fdb05b7.jpg', 'https://livedoor.blogimg.jp/adult_pics/imgs/f/c/fc127655.jpg', 'https://livedoor.blogimg.jp/adult_pics/imgs/b/d/bd53eefb.jpg', 'https://livedoor.blogimg.jp/adult_pics/imgs/a/5/a55204ff.jpg', 'https://livedoor.blogimg.jp/adult_pics/imgs/4/0/4031bc2d.jpg', 'https://livedoor.blogimg.jp/adult_pics/imgs/4/a/4a21b7e2.jpg', 'https://livedoor.blogimg.jp/adult_pics/imgs/a/e/ae5a646d.jpg', 'https://livedoor.blogimg.jp/adult_pics/imgs/a/b/ab661bc0.jpg', 'https://livedoor.blogimg.jp/adult_pics/imgs/5/c/5c6031f6.jpg', 'https://livedoor.blogimg.jp/adult_pics/imgs/5/4/547f053f.jpg', 'https://livedoor.blogimg.jp/adult_pics/imgs/3/0/307bc46d.jpg', 'https://livedoor.blogimg.jp/adult_pics/imgs/4/0/4094a6ec.jpg', 'https://livedoor.blogimg.jp/adult_pics/imgs/b/7/b7f1e80d.jpg', 'https://livedoor.blogimg.jp/adult_pics/imgs/4/c/4c8dd724.jpg', 'https://livedoor.blogimg.jp/adult_pics/imgs/d/7/d7171ad8.jpg', 'https://livedoor.blogimg.jp/adult_pics/imgs/6/d/6dd164e2.jpg', 'https://livedoor.blogimg.jp/adult_pics/imgs/8/5/859b4268.jpg', 'https://livedoor.blogimg.jp/adult_pics/imgs/a/4/a4a5371b.jpg', 'https://livedoor.blogimg.jp/adult_pics/imgs/2/4/24ed9950.jpg']\n",
      "['https://livedoor.blogimg.jp/adult_pics/imgs/8/8/88ce18e1.jpg', 'https://livedoor.blogimg.jp/adult_pics/imgs/8/4/84e4795f.jpg', 'https://livedoor.blogimg.jp/adult_pics/imgs/6/d/6d8b6b72.jpg', 'https://livedoor.blogimg.jp/adult_pics/imgs/c/e/cea8f5dd.jpg', 'https://livedoor.blogimg.jp/adult_pics/imgs/8/d/8dd72eb1.jpg', 'https://livedoor.blogimg.jp/adult_pics/imgs/8/e/8eee9f01.jpg', 'https://livedoor.blogimg.jp/adult_pics/imgs/c/0/c0596af9.jpg', 'https://livedoor.blogimg.jp/adult_pics/imgs/a/6/a682199d.jpg', 'https://livedoor.blogimg.jp/adult_pics/imgs/f/1/f16cd888.jpg', 'https://livedoor.blogimg.jp/adult_pics/imgs/0/b/0be715d9.jpg', 'https://livedoor.blogimg.jp/adult_pics/imgs/1/4/14cafcd0.jpg', 'https://livedoor.blogimg.jp/adult_pics/imgs/4/f/4f0d2a0d.jpg', 'https://livedoor.blogimg.jp/adult_pics/imgs/2/3/23781445.jpg', 'https://livedoor.blogimg.jp/adult_pics/imgs/6/7/6709dea2.jpg', 'https://livedoor.blogimg.jp/adult_pics/imgs/7/0/70ce0bee.jpg', 'https://livedoor.blogimg.jp/adult_pics/imgs/5/a/5a2ea42c.jpg', 'https://livedoor.blogimg.jp/adult_pics/imgs/0/1/019f33a0.jpg', 'https://livedoor.blogimg.jp/adult_pics/imgs/5/9/595d6c54.jpg', 'https://livedoor.blogimg.jp/adult_pics/imgs/8/a/8a9d0325.jpg', 'https://livedoor.blogimg.jp/adult_pics/imgs/a/b/ab529773.jpg', 'https://livedoor.blogimg.jp/adult_pics/imgs/f/7/f7d6c8a2.jpg', 'https://livedoor.blogimg.jp/adult_pics/imgs/7/a/7a433d74.jpg', 'https://livedoor.blogimg.jp/adult_pics/imgs/e/4/e45f2647.jpg', 'https://livedoor.blogimg.jp/adult_pics/imgs/9/2/927cc9fd.jpg', 'https://livedoor.blogimg.jp/adult_pics/imgs/7/c/7c6f8a21.jpg', 'https://livedoor.blogimg.jp/adult_pics/imgs/f/9/f99efd1e.jpg', 'https://livedoor.blogimg.jp/adult_pics/imgs/f/f/ffa63fef.jpg', 'https://livedoor.blogimg.jp/adult_pics/imgs/c/e/ce38f6a4.jpg', 'https://livedoor.blogimg.jp/adult_pics/imgs/6/5/6518b353.jpg', 'https://livedoor.blogimg.jp/adult_pics/imgs/5/9/59890a46.jpg', 'https://livedoor.blogimg.jp/adult_pics/imgs/9/7/979d35ad.jpg', 'https://livedoor.blogimg.jp/adult_pics/imgs/4/d/4dc32ed5.jpg', 'https://livedoor.blogimg.jp/adult_pics/imgs/f/2/f2971843.jpg', 'https://livedoor.blogimg.jp/adult_pics/imgs/7/c/7cdac6a7.jpg', 'https://livedoor.blogimg.jp/adult_pics/imgs/2/f/2f34c630.jpg', 'https://livedoor.blogimg.jp/adult_pics/imgs/a/b/aba56ab6.jpg', 'https://livedoor.blogimg.jp/adult_pics/imgs/4/d/4d243b56.jpg', 'https://livedoor.blogimg.jp/adult_pics/imgs/f/a/fa4bb8b0.jpg', 'https://livedoor.blogimg.jp/adult_pics/imgs/4/a/4a59170d.jpg', 'https://livedoor.blogimg.jp/adult_pics/imgs/7/6/763202ab.jpg', 'https://livedoor.blogimg.jp/adult_pics/imgs/4/0/409f5dc9.jpg', 'https://livedoor.blogimg.jp/adult_pics/imgs/4/f/4fdb05b7.jpg', 'https://livedoor.blogimg.jp/adult_pics/imgs/f/c/fc127655.jpg', 'https://livedoor.blogimg.jp/adult_pics/imgs/b/d/bd53eefb.jpg', 'https://livedoor.blogimg.jp/adult_pics/imgs/a/5/a55204ff.jpg', 'https://livedoor.blogimg.jp/adult_pics/imgs/4/0/4031bc2d.jpg', 'https://livedoor.blogimg.jp/adult_pics/imgs/4/a/4a21b7e2.jpg', 'https://livedoor.blogimg.jp/adult_pics/imgs/a/e/ae5a646d.jpg', 'https://livedoor.blogimg.jp/adult_pics/imgs/a/b/ab661bc0.jpg', 'https://livedoor.blogimg.jp/adult_pics/imgs/5/c/5c6031f6.jpg', 'https://livedoor.blogimg.jp/adult_pics/imgs/5/4/547f053f.jpg', 'https://livedoor.blogimg.jp/adult_pics/imgs/3/0/307bc46d.jpg', 'https://livedoor.blogimg.jp/adult_pics/imgs/4/0/4094a6ec.jpg', 'https://livedoor.blogimg.jp/adult_pics/imgs/b/7/b7f1e80d.jpg', 'https://livedoor.blogimg.jp/adult_pics/imgs/4/c/4c8dd724.jpg', 'https://livedoor.blogimg.jp/adult_pics/imgs/d/7/d7171ad8.jpg', 'https://livedoor.blogimg.jp/adult_pics/imgs/6/d/6dd164e2.jpg', 'https://livedoor.blogimg.jp/adult_pics/imgs/8/5/859b4268.jpg', 'https://livedoor.blogimg.jp/adult_pics/imgs/a/4/a4a5371b.jpg', 'https://livedoor.blogimg.jp/adult_pics/imgs/2/4/24ed9950.jpg', 'https://livedoor.blogimg.jp/adult_pics/imgs/6/0/604bc99f.jpg', 'https://livedoor.blogimg.jp/adult_pics/imgs/c/c/cc114db3.jpg', 'https://livedoor.blogimg.jp/adult_pics/imgs/6/b/6b299cbb.jpg', 'https://livedoor.blogimg.jp/adult_pics/imgs/1/2/128c7fea.jpg', 'https://livedoor.blogimg.jp/adult_pics/imgs/3/8/38f85274.jpg', 'https://livedoor.blogimg.jp/adult_pics/imgs/2/b/2bbca5f2.jpg', 'https://livedoor.blogimg.jp/adult_pics/imgs/0/a/0afd5365.jpg', 'https://livedoor.blogimg.jp/adult_pics/imgs/f/4/f41e6766.jpg', 'https://livedoor.blogimg.jp/adult_pics/imgs/9/2/92b58ae6.jpg', 'https://livedoor.blogimg.jp/adult_pics/imgs/4/8/483eaa76.jpg', 'https://livedoor.blogimg.jp/adult_pics/imgs/c/3/c39115c4.jpg', 'https://livedoor.blogimg.jp/adult_pics/imgs/a/2/a2c580cb.jpg', 'https://livedoor.blogimg.jp/adult_pics/imgs/c/e/ce285e6e.jpg', 'https://livedoor.blogimg.jp/adult_pics/imgs/8/7/876e6aa6.jpg', 'https://livedoor.blogimg.jp/adult_pics/imgs/c/f/cf3d833f.jpg', 'https://livedoor.blogimg.jp/adult_pics/imgs/d/1/d1d68f69.jpg', 'https://livedoor.blogimg.jp/adult_pics/imgs/0/c/0ca34aa6.jpg', 'https://livedoor.blogimg.jp/adult_pics/imgs/6/7/674250d3.jpg', 'https://livedoor.blogimg.jp/adult_pics/imgs/9/e/9e8f4516.jpg', 'https://livedoor.blogimg.jp/adult_pics/imgs/9/a/9a2667ee.jpg', 'https://livedoor.blogimg.jp/adult_pics/imgs/8/4/84397461.jpg', 'https://livedoor.blogimg.jp/adult_pics/imgs/9/7/975a5786.jpg', 'https://livedoor.blogimg.jp/adult_pics/imgs/6/a/6a7cd233.jpg', 'https://livedoor.blogimg.jp/adult_pics/imgs/5/7/575a8a38.jpg', 'https://livedoor.blogimg.jp/adult_pics/imgs/f/f/ffa8d4ee.jpg', 'https://livedoor.blogimg.jp/adult_pics/imgs/f/5/f5538416.jpg', 'https://livedoor.blogimg.jp/adult_pics/imgs/f/6/f6aaef0b.jpg', 'https://livedoor.blogimg.jp/adult_pics/imgs/e/0/e08ab7de.jpg', 'https://livedoor.blogimg.jp/adult_pics/imgs/3/c/3c12a925.jpg', 'https://livedoor.blogimg.jp/adult_pics/imgs/8/6/86caa6ef.jpg', 'https://livedoor.blogimg.jp/adult_pics/imgs/1/a/1a762515.jpg', 'https://livedoor.blogimg.jp/adult_pics/imgs/d/6/d6972eca.jpg', 'https://livedoor.blogimg.jp/adult_pics/imgs/a/4/a459667c.jpg', 'https://livedoor.blogimg.jp/adult_pics/imgs/a/e/ae3d1ea3.jpg', 'https://livedoor.blogimg.jp/adult_pics/imgs/9/4/94b1ebf9.jpg', 'https://livedoor.blogimg.jp/adult_pics/imgs/f/7/f7120581.jpg', 'https://livedoor.blogimg.jp/adult_pics/imgs/6/2/62582029.jpg', 'https://livedoor.blogimg.jp/adult_pics/imgs/a/6/a6021c30.jpg', 'https://livedoor.blogimg.jp/adult_pics/imgs/c/c/cca96f0b.jpg', 'https://livedoor.blogimg.jp/adult_pics/imgs/0/5/05a24e3b.jpg', 'https://livedoor.blogimg.jp/adult_pics/imgs/1/0/10443e78.jpg', 'https://livedoor.blogimg.jp/adult_pics/imgs/5/c/5c72f6ff.jpg', 'https://livedoor.blogimg.jp/adult_pics/imgs/c/3/c3099b04.jpg', 'https://livedoor.blogimg.jp/adult_pics/imgs/4/0/40f5df2b.jpg', 'https://livedoor.blogimg.jp/adult_pics/imgs/2/b/2bb8a399.jpg', 'https://livedoor.blogimg.jp/adult_pics/imgs/7/6/76e56970.jpg', 'https://livedoor.blogimg.jp/adult_pics/imgs/5/6/56a0dd0c.jpg']\n"
     ]
    },
    {
     "ename": "KeyboardInterrupt",
     "evalue": "",
     "output_type": "error",
     "traceback": [
      "\u001b[1;31m---------------------------------------------------------------------------\u001b[0m",
      "\u001b[1;31mKeyboardInterrupt\u001b[0m                         Traceback (most recent call last)",
      "\u001b[1;32mc:\\Users\\PC_User\\Documents\\GitHub\\DMM\\twitter_pic_download\\pic_scraping_image.ipynb Cell 1'\u001b[0m in \u001b[0;36m<cell line: 77>\u001b[1;34m()\u001b[0m\n\u001b[0;32m     <a href='vscode-notebook-cell:/c%3A/Users/PC_User/Documents/GitHub/DMM/twitter_pic_download/pic_scraping_image.ipynb#ch0000001?line=75'>76</a>\u001b[0m urls \u001b[39m=\u001b[39m urls\u001b[39m.\u001b[39mvalues\n\u001b[0;32m     <a href='vscode-notebook-cell:/c%3A/Users/PC_User/Documents/GitHub/DMM/twitter_pic_download/pic_scraping_image.ipynb#ch0000001?line=76'>77</a>\u001b[0m \u001b[39mfor\u001b[39;00m url \u001b[39min\u001b[39;00m urls:\n\u001b[1;32m---> <a href='vscode-notebook-cell:/c%3A/Users/PC_User/Documents/GitHub/DMM/twitter_pic_download/pic_scraping_image.ipynb#ch0000001?line=77'>78</a>\u001b[0m     t\u001b[39m.\u001b[39;49mimage_url_parse(url[\u001b[39m0\u001b[39;49m])\n\u001b[0;32m     <a href='vscode-notebook-cell:/c%3A/Users/PC_User/Documents/GitHub/DMM/twitter_pic_download/pic_scraping_image.ipynb#ch0000001?line=79'>80</a>\u001b[0m t\u001b[39m.\u001b[39mchrome_quit()\n",
      "\u001b[1;32mc:\\Users\\PC_User\\Documents\\GitHub\\DMM\\twitter_pic_download\\pic_scraping_image.ipynb Cell 1'\u001b[0m in \u001b[0;36mImage.image_url_parse\u001b[1;34m(self, url)\u001b[0m\n\u001b[0;32m     <a href='vscode-notebook-cell:/c%3A/Users/PC_User/Documents/GitHub/DMM/twitter_pic_download/pic_scraping_image.ipynb#ch0000001?line=63'>64</a>\u001b[0m         \u001b[39mwith\u001b[39;00m \u001b[39mopen\u001b[39m(\u001b[39mf\u001b[39m\u001b[39m'\u001b[39m\u001b[39mE:\u001b[39m\u001b[39m\\\\\u001b[39;00m\u001b[39mtwit_photos\u001b[39m\u001b[39m\\\\\u001b[39;00m\u001b[39m{\u001b[39;00mtitle\u001b[39m}\u001b[39;00m\u001b[39m\\\\\u001b[39;00m\u001b[39m{\u001b[39;00m\u001b[39mstr\u001b[39m(file_name)\u001b[39m}\u001b[39;00m\u001b[39m.jpg\u001b[39m\u001b[39m'\u001b[39m, \u001b[39m'\u001b[39m\u001b[39mwb\u001b[39m\u001b[39m'\u001b[39m) \u001b[39mas\u001b[39;00m image: \u001b[39m#Win f'E:\\\\twit_photos\\\\{title}\\\\{str(file_name)}.jpg', 'wb'\u001b[39;00m\n\u001b[0;32m     <a href='vscode-notebook-cell:/c%3A/Users/PC_User/Documents/GitHub/DMM/twitter_pic_download/pic_scraping_image.ipynb#ch0000001?line=64'>65</a>\u001b[0m             image\u001b[39m.\u001b[39mwrite(image_get\u001b[39m.\u001b[39mcontent)\n\u001b[1;32m---> <a href='vscode-notebook-cell:/c%3A/Users/PC_User/Documents/GitHub/DMM/twitter_pic_download/pic_scraping_image.ipynb#ch0000001?line=65'>66</a>\u001b[0m             time\u001b[39m.\u001b[39;49msleep(\u001b[39m0.3\u001b[39;49m)\n\u001b[0;32m     <a href='vscode-notebook-cell:/c%3A/Users/PC_User/Documents/GitHub/DMM/twitter_pic_download/pic_scraping_image.ipynb#ch0000001?line=68'>69</a>\u001b[0m \u001b[39mexcept\u001b[39;00m \u001b[39mException\u001b[39;00m \u001b[39mas\u001b[39;00m ex:\n\u001b[0;32m     <a href='vscode-notebook-cell:/c%3A/Users/PC_User/Documents/GitHub/DMM/twitter_pic_download/pic_scraping_image.ipynb#ch0000001?line=69'>70</a>\u001b[0m     \u001b[39mprint\u001b[39m(\u001b[39m'\u001b[39m\u001b[39m[article_url_parse]\u001b[39m\u001b[39m'\u001b[39m, ex)\n",
      "\u001b[1;31mKeyboardInterrupt\u001b[0m: "
     ]
    }
   ],
   "source": [
    "from bs4 import BeautifulSoup\n",
    "import requests\n",
    "import pandas as pd\n",
    "import time\n",
    "import pandas as pd\n",
    "import glob\n",
    "import os\n",
    "import re\n",
    "\n",
    "from selenium import webdriver\n",
    "from selenium.webdriver.chrome.options import Options\n",
    "from selenium.webdriver.common.keys import Keys\n",
    "from selenium.webdriver.common.by import By\n",
    "from selenium.webdriver.support.ui import WebDriverWait\n",
    "from selenium.webdriver.support import expected_conditions as EC\n",
    "from selenium.webdriver.chrome import service as fs\n",
    "\n",
    "\n",
    "class Image:\n",
    "\n",
    "\n",
    "    def __init__(self):\n",
    "\n",
    "        self.img_urls = []\n",
    "\n",
    "        ###################Windows########################\n",
    "        # self.options = Options()\n",
    "        # #self.options.add_argument('--headless')\n",
    "        # self.options.add_argument('--user-agent=Mozilla/5.0 (Windows NT 10.0; Win64; x64) AppleWebKit/537.36 (KHTML, like Gecko) Chrome/100.0.4896.60 Safari/537.36')\n",
    "        # chromedriver = 'C:\\\\Users\\\\PC_User\\\\Documents\\\\GitHub\\\\kutikomi\\\\bakusai\\\\chromedriver.exe' # '/Users/oono/Documents/py_binary/chromedriver'\n",
    "        # chrome_service = fs.Service(executable_path=chromedriver)\n",
    "        # self.driver = webdriver.Chrome(service=chrome_service, options=self.options)\n",
    "        ###################Windows########################\n",
    "        self.wait = WebDriverWait(driver=self.driver, timeout=30)\n",
    "\n",
    "    def chrome_quit(self):\n",
    "        self.driver.quit()\n",
    "\n",
    "\n",
    "    def image_url_parse(self, url):\n",
    "\n",
    "        try:\n",
    "            self.driver.get(url)\n",
    "            self.wait.until(EC.presence_of_all_elements_located)\n",
    "            self.driver.find_element(by=By.TAG_NAME, value='body').send_keys(Keys.END)\n",
    "\n",
    "            source = self.driver.page_source\n",
    "            soup = BeautifulSoup(source, 'html.parser')\n",
    "            title = soup.find('h2', {'class': 'entry-title'}).text\n",
    "            blocks = soup.find('div', {'class': 'entry-content'})\n",
    "            img_url = blocks.find_all('img')\n",
    "            os.makedirs(f'E:\\\\twit_photos\\\\{title}', mode=0o777 , exist_ok=True)\n",
    "\n",
    "            for img in img_url:\n",
    "                self.img_urls.append(img['src'])\n",
    "            print(self.img_urls)\n",
    "\n",
    "            for img_url in self.img_urls:\n",
    "                image_get = requests.get(img_url)\n",
    "                time.sleep(0.3)\n",
    "                file_name = re.findall('([a-zA-z0-9_-]*)(.jpg)', img_url)\n",
    "                file_name = file_name[0][0]\n",
    "                file_name = file_name.replace('/', '')\n",
    "                with open(f'E:\\\\twit_photos\\\\{title}\\\\{str(file_name)}.jpg', 'wb') as image: #Win f'E:\\\\twit_photos\\\\{title}\\\\{str(file_name)}.jpg', 'wb'\n",
    "                    image.write(image_get.content)\n",
    "                    time.sleep(0.3)\n",
    "\n",
    "\n",
    "        except Exception as ex:\n",
    "            print('[article_url_parse]', ex)\n",
    "            pass\n",
    "\n",
    "\n",
    "t = Image()\n",
    "urls: list = pd.read_csv('url.csv')\n",
    "urls = urls.values\n",
    "for url in urls:\n",
    "    t.image_url_parse(url[0])\n",
    "\n",
    "t.chrome_quit()\n"
   ]
  },
  {
   "cell_type": "code",
   "execution_count": null,
   "metadata": {},
   "outputs": [],
   "source": []
  },
  {
   "cell_type": "code",
   "execution_count": null,
   "metadata": {},
   "outputs": [],
   "source": []
  }
 ],
 "metadata": {
  "interpreter": {
   "hash": "11feb1d78534596143a490751b3fe871ec66a4c47892607133a77b452356a240"
  },
  "kernelspec": {
   "display_name": "Python 3.10.4 ('scrapy-test')",
   "language": "python",
   "name": "python3"
  },
  "language_info": {
   "codemirror_mode": {
    "name": "ipython",
    "version": 3
   },
   "file_extension": ".py",
   "mimetype": "text/x-python",
   "name": "python",
   "nbconvert_exporter": "python",
   "pygments_lexer": "ipython3",
   "version": "3.10.4"
  },
  "orig_nbformat": 4
 },
 "nbformat": 4,
 "nbformat_minor": 2
}
