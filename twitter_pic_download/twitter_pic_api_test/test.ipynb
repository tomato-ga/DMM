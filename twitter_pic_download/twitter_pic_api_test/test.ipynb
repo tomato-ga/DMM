{
 "cells": [
  {
   "cell_type": "code",
   "execution_count": 2,
   "metadata": {},
   "outputs": [],
   "source": [
    "import os\n",
    "import random\n",
    "import requests\n",
    "import json\n",
    "import time\n",
    "from bs4 import BeautifulSoup"
   ]
  },
  {
   "cell_type": "code",
   "execution_count": 6,
   "metadata": {},
   "outputs": [
    {
     "name": "stdout",
     "output_type": "stream",
     "text": [
      "{'tag': '巨乳女優', 'imgs': 'https://mizugazo.com/wp-content/uploads/2022/05/13CEFBDD-86D2-4670-9FA5-E45F7827B656.jpeg'}\n",
      "{'tag': '新川優愛,水着', 'imgs': 'https://mizugazo.com/wp-content/uploads/2022/05/F106468D-EC52-494A-A547-9C130915F41A.jpeg'}\n",
      "{'tag': '新川優愛,水着', 'imgs': 'https://mizugazo.com/wp-content/uploads/2022/05/8026B3E2-9536-40F8-B388-53726E9009E4.jpeg'}\n",
      "{'tag': '新川優愛,水着', 'imgs': 'https://mizugazo.com/wp-content/uploads/2022/05/34025148-C0F0-4CD4-854C-C20A657818D4.jpeg'}\n",
      "{'tag': '新川優愛,水着', 'imgs': 'https://mizugazo.com/wp-content/uploads/2022/05/0B5A106F-672F-4DA3-A559-8CEB6840B0CB.jpeg'}\n",
      "{'tag': '新川優愛,水着', 'imgs': 'https://mizugazo.com/wp-content/uploads/2022/05/4CAF4EFC-BBCC-405A-A177-2EBAA5C4FB65.jpeg'}\n",
      "{'tag': '新川優愛,水着', 'imgs': 'https://mizugazo.com/wp-content/uploads/2022/05/B76E5EBD-3754-4B07-91DC-8634E4DAEE70.jpeg'}\n",
      "{'tag': '新川優愛,水着', 'imgs': 'https://mizugazo.com/wp-content/uploads/2022/05/AA46BA14-88A2-4611-98E5-B85394128254.jpeg'}\n",
      "{'tag': '新川優愛,水着', 'imgs': 'https://mizugazo.com/wp-content/uploads/2022/05/AA90F8A4-F2DB-4F34-8825-F4A4E54CE7AE.jpeg'}\n",
      "{'tag': '新川優愛,水着', 'imgs': 'https://mizugazo.com/wp-content/uploads/2022/05/2FC91C29-F55E-42EB-A061-1A9566C93EA1.jpeg'}\n",
      "{'tag': '新川優愛,水着', 'imgs': 'https://mizugazo.com/wp-content/uploads/2022/05/8863404E-0BC2-4C87-8362-B5F5CE9995AB.jpeg'}\n",
      "{'tag': '新川優愛,水着', 'imgs': 'https://mizugazo.com/wp-content/uploads/2022/05/7116C5E9-ACCE-44CA-AC9F-3402A33C1B1E.jpeg'}\n",
      "{'tag': '新川優愛,水着', 'imgs': 'https://mizugazo.com/wp-content/uploads/2022/05/E4452B7B-E458-4965-8ED6-8E8A0102FB71.jpeg'}\n",
      "{'tag': '新川優愛,水着', 'imgs': 'https://mizugazo.com/wp-content/uploads/2022/05/15179F5B-6D01-4126-ACE9-3A5B6A000A9B.jpeg'}\n",
      "{'tag': '新川優愛,水着', 'imgs': 'https://mizugazo.com/wp-content/uploads/2022/05/52C29868-4280-42A3-9D78-C594D14C8E43.jpeg'}\n",
      "{'tag': '新川優愛,水着', 'imgs': 'https://mizugazo.com/wp-content/uploads/2022/05/9F399D65-FDB8-4C1E-B6A1-9363BBDBA7DE.jpeg'}\n"
     ]
    },
    {
     "ename": "KeyboardInterrupt",
     "evalue": "",
     "output_type": "error",
     "traceback": [
      "\u001b[1;31m---------------------------------------------------------------------------\u001b[0m",
      "\u001b[1;31mKeyboardInterrupt\u001b[0m                         Traceback (most recent call last)",
      "\u001b[1;32mc:\\Users\\PC_User\\Documents\\GitHub\\DMM\\twitter_pic_download\\twitter_pic_api_test\\test.ipynb Cell 2'\u001b[0m in \u001b[0;36m<cell line: 6>\u001b[1;34m()\u001b[0m\n\u001b[0;32m     <a href='vscode-notebook-cell:/c%3A/Users/PC_User/Documents/GitHub/DMM/twitter_pic_download/twitter_pic_api_test/test.ipynb#ch0000001?line=27'>28</a>\u001b[0m     \u001b[39melse\u001b[39;00m:\n\u001b[0;32m     <a href='vscode-notebook-cell:/c%3A/Users/PC_User/Documents/GitHub/DMM/twitter_pic_download/twitter_pic_api_test/test.ipynb#ch0000001?line=28'>29</a>\u001b[0m         media_info \u001b[39m=\u001b[39m {\n\u001b[0;32m     <a href='vscode-notebook-cell:/c%3A/Users/PC_User/Documents/GitHub/DMM/twitter_pic_download/twitter_pic_api_test/test.ipynb#ch0000001?line=29'>30</a>\u001b[0m             \u001b[39m'\u001b[39m\u001b[39mtag\u001b[39m\u001b[39m'\u001b[39m: load_json[\u001b[39m'\u001b[39m\u001b[39malt_text\u001b[39m\u001b[39m'\u001b[39m],\n\u001b[0;32m     <a href='vscode-notebook-cell:/c%3A/Users/PC_User/Documents/GitHub/DMM/twitter_pic_download/twitter_pic_api_test/test.ipynb#ch0000001?line=30'>31</a>\u001b[0m             \u001b[39m'\u001b[39m\u001b[39mimgs\u001b[39m\u001b[39m'\u001b[39m: load_json[\u001b[39m'\u001b[39m\u001b[39msource_url\u001b[39m\u001b[39m'\u001b[39m]\n\u001b[0;32m     <a href='vscode-notebook-cell:/c%3A/Users/PC_User/Documents/GitHub/DMM/twitter_pic_download/twitter_pic_api_test/test.ipynb#ch0000001?line=31'>32</a>\u001b[0m         }\n\u001b[1;32m---> <a href='vscode-notebook-cell:/c%3A/Users/PC_User/Documents/GitHub/DMM/twitter_pic_download/twitter_pic_api_test/test.ipynb#ch0000001?line=33'>34</a>\u001b[0m     time\u001b[39m.\u001b[39;49msleep(\u001b[39m0.3\u001b[39;49m)\n\u001b[0;32m     <a href='vscode-notebook-cell:/c%3A/Users/PC_User/Documents/GitHub/DMM/twitter_pic_download/twitter_pic_api_test/test.ipynb#ch0000001?line=34'>35</a>\u001b[0m     \u001b[39mprint\u001b[39m(media_info)\n\u001b[0;32m     <a href='vscode-notebook-cell:/c%3A/Users/PC_User/Documents/GitHub/DMM/twitter_pic_download/twitter_pic_api_test/test.ipynb#ch0000001?line=36'>37</a>\u001b[0m \u001b[39melse\u001b[39;00m:\n",
      "\u001b[1;31mKeyboardInterrupt\u001b[0m: "
     ]
    }
   ],
   "source": [
    "count = 100\n",
    "response_offset = 0\n",
    "media_offset = 0\n",
    "\n",
    "\n",
    "while True:\n",
    "    json_url = f'https://mizugazo.com/wp-json/wp/v2/media?per_page={count}&offset={response_offset}'\n",
    "    res = requests.get(json_url, headers={'User-Agent': 'Mozilla/5.0 (Windows NT 10.0; Win64; x64) AppleWebKit/537.36 (KHTML, like Gecko) Chrome/100.0.4896.60 Safari/537.36'})\n",
    "    load_jsons = json.loads(res.text)\n",
    "    response_offset += 100\n",
    "\n",
    "    for load_json in load_jsons:\n",
    "        if not load_json:\n",
    "            break\n",
    "        elif load_json:\n",
    "            if ' ' in load_json['alt_text']:\n",
    "                split = load_json['alt_text']\n",
    "                split_tag = split.split()\n",
    "\n",
    "                if len(split_tag) == 2:\n",
    "                    media_info = {\n",
    "                        'tag': f'{split_tag[0]},{split_tag[1]}',\n",
    "                        'imgs': load_json['source_url']\n",
    "                    }\n",
    "                elif len(split_tag) == 3:\n",
    "                    media_info = {\n",
    "                        'tag': f'{split_tag[0]},{split_tag[1]},{split_tag[2]}',\n",
    "                        'imgs': load_json['source_url']\n",
    "                    }\n",
    "            else:\n",
    "                media_info = {\n",
    "                    'tag': load_json['alt_text'],\n",
    "                    'imgs': load_json['source_url']\n",
    "                }\n",
    "            time.sleep(0.3)\n",
    "            print(media_info)\n",
    "        else:\n",
    "            pass\n",
    "    if res.status_code != 200:\n",
    "        break"
   ]
  },
  {
   "cell_type": "code",
   "execution_count": 38,
   "metadata": {},
   "outputs": [
    {
     "name": "stdout",
     "output_type": "stream",
     "text": [
      "jpgです\n"
     ]
    }
   ],
   "source": [
    "pic_dir = 'E:\\\\twit_photos_gurasen\\\\'\n",
    "pic_subdir = os.listdir(pic_dir) # サブディレクトリ一覧\n",
    "random.shuffle(pic_subdir) # サブディレクトリをランダム化\n",
    "photo_lists = os.listdir(pic_dir + pic_subdir[0]) # 画像ファイル一覧\n",
    "random.shuffle(photo_lists) # 画像ファイル一覧をランダム化\n",
    "up_photo = os.path.abspath(pic_dir + pic_subdir[0] + '\\\\' + photo_lists[0]) # アップするファイルパス取得\n",
    "\n",
    "if up_photo.endswith('.jpg'):\n",
    "    print('jpgです')\n",
    "elif up_photo.endswith('.png'):\n",
    "    print('pngです')\n",
    "else:\n",
    "    print('jpgとpng以外です')"
   ]
  },
  {
   "cell_type": "code",
   "execution_count": null,
   "metadata": {},
   "outputs": [],
   "source": []
  }
 ],
 "metadata": {
  "interpreter": {
   "hash": "d7bf0850b2e09fe6966c7335a51f985356679b8822581eb564b12ae7cd098fb3"
  },
  "kernelspec": {
   "display_name": "Python 3.10.4 ('dmm')",
   "language": "python",
   "name": "python3"
  },
  "language_info": {
   "codemirror_mode": {
    "name": "ipython",
    "version": 3
   },
   "file_extension": ".py",
   "mimetype": "text/x-python",
   "name": "python",
   "nbconvert_exporter": "python",
   "pygments_lexer": "ipython3",
   "version": "3.10.4"
  },
  "orig_nbformat": 4
 },
 "nbformat": 4,
 "nbformat_minor": 2
}
