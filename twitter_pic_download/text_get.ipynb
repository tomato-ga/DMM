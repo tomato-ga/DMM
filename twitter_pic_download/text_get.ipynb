{
 "cells": [
  {
   "cell_type": "markdown",
   "metadata": {},
   "source": [
    "今田美桜アカウントのテキストもらう"
   ]
  },
  {
   "cell_type": "code",
   "execution_count": 51,
   "metadata": {},
   "outputs": [
    {
     "name": "stdout",
     "output_type": "stream",
     "text": [
      "Response(data=<User id=1159353246114181120 name=今田美桜好き username=_mio_mio_imada>, includes={}, errors=[], meta={})\n",
      "Response(data=[<Tweet id=1522524820680093697 text='可愛い今田美桜ちゃんを眺めましょ。https://t.co/CRCSP0f9lH'>, <Tweet id=1522519861490073600 text='今田美桜ちゃんは可愛いが渋滞してますな。https://t.co/D1vm74la5f'>, <Tweet id=1522514451349766144 text='美桜ちゃんで癒されタイム。 https://t.co/8NWjVHKJmD'>, <Tweet id=1522512315253497857 text='美桜ちゃんで癒されタイム。https://t.co/LNBEgFGVHa'>, <Tweet id=1522503233633423362 text='美桜ちゃんで癒されタイム。 https://t.co/wZ4chyht7A'>, <Tweet id=1522491815835750400 text='はい、癒やしの時間です。今田美桜ちゃん可愛い。 https://t.co/gdKF1i7Kes'>, <Tweet id=1522489650656555008 text='美桜ちゃんで癒されタイム。https://t.co/6agJ4qLv4h'>, <Tweet id=1522479520078467072 text='美桜ちゃんで癒されタイム。https://t.co/PyVWZjY67r'>, <Tweet id=1522477078117031937 text='はい、美桜ちゃん優勝。https://t.co/ovM0jzha24'>, <Tweet id=1522469169522167809 text='可愛い今田美桜ちゃんを眺めましょ。https://t.co/TXTlVGIwsH'>], includes={'media': [<Media media_key=3_1229205865997074432 type=photo>, <Media media_key=3_1373992188493791237 type=photo>, <Media media_key=3_1163809320871481346 type=photo>, <Media media_key=3_1225784993433055233 type=photo>, <Media media_key=3_1225784151527190530 type=photo>, <Media media_key=3_1160885349284904960 type=photo>, <Media media_key=3_1225785359566397440 type=photo>, <Media media_key=3_1225785448364011520 type=photo>, <Media media_key=3_1375354958728454148 type=photo>, <Media media_key=3_1229206717243674626 type=photo>]}, errors=[], meta={'next_token': '7140dibdnow9c7btw421dyyl1qs5t3q87ux7g018ua0qh', 'result_count': 10, 'newest_id': '1522524820680093697', 'oldest_id': '1522469169522167809'})\n",
      "可愛い今田美桜ちゃんを眺めましょ。https://t.co/CRCSP0f9lH\n"
     ]
    },
    {
     "ename": "AttributeError",
     "evalue": "",
     "output_type": "error",
     "traceback": [
      "\u001b[0;31m---------------------------------------------------------------------------\u001b[0m",
      "\u001b[0;31mAttributeError\u001b[0m                            Traceback (most recent call last)",
      "\u001b[1;32m/Users/ore/Documents/GitHub/DMM/twitter_pic_download/text_get.ipynb Cell 2'\u001b[0m in \u001b[0;36m<cell line: 42>\u001b[0;34m()\u001b[0m\n\u001b[1;32m     <a href='vscode-notebook-cell:/Users/ore/Documents/GitHub/DMM/twitter_pic_download/text_get.ipynb#ch0000000?line=38'>39</a>\u001b[0m                 json\u001b[39m.\u001b[39mdump(tweet, f, indent\u001b[39m=\u001b[39m\u001b[39m4\u001b[39m, ensure_ascii\u001b[39m=\u001b[39m\u001b[39mFalse\u001b[39;00m)\n\u001b[1;32m     <a href='vscode-notebook-cell:/Users/ore/Documents/GitHub/DMM/twitter_pic_download/text_get.ipynb#ch0000000?line=40'>41</a>\u001b[0m t \u001b[39m=\u001b[39m Tweet_text()\n\u001b[0;32m---> <a href='vscode-notebook-cell:/Users/ore/Documents/GitHub/DMM/twitter_pic_download/text_get.ipynb#ch0000000?line=41'>42</a>\u001b[0m t\u001b[39m.\u001b[39;49mtext_get\n",
      "\u001b[1;32m/Users/ore/Documents/GitHub/DMM/twitter_pic_download/text_get.ipynb Cell 2'\u001b[0m in \u001b[0;36mTweet_text.text_get\u001b[0;34m(self)\u001b[0m\n\u001b[1;32m     <a href='vscode-notebook-cell:/Users/ore/Documents/GitHub/DMM/twitter_pic_download/text_get.ipynb#ch0000000?line=26'>27</a>\u001b[0m \u001b[39mprint\u001b[39m(tweets)\n\u001b[1;32m     <a href='vscode-notebook-cell:/Users/ore/Documents/GitHub/DMM/twitter_pic_download/text_get.ipynb#ch0000000?line=30'>31</a>\u001b[0m text \u001b[39m=\u001b[39m tweets\u001b[39m.\u001b[39mdata[\u001b[39m'\u001b[39m\u001b[39mtext\u001b[39m\u001b[39m'\u001b[39m]\n\u001b[0;32m---> <a href='vscode-notebook-cell:/Users/ore/Documents/GitHub/DMM/twitter_pic_download/text_get.ipynb#ch0000000?line=31'>32</a>\u001b[0m img_url: \u001b[39mlist\u001b[39m \u001b[39m=\u001b[39m [urls[\u001b[39m'\u001b[39m\u001b[39murl\u001b[39m\u001b[39m'\u001b[39m] \u001b[39mfor\u001b[39;00m urls \u001b[39min\u001b[39;00m tweets\u001b[39m.\u001b[39;49mincludes[\u001b[39m'\u001b[39m\u001b[39mmedia\u001b[39m\u001b[39m'\u001b[39m]]\n\u001b[1;32m     <a href='vscode-notebook-cell:/Users/ore/Documents/GitHub/DMM/twitter_pic_download/text_get.ipynb#ch0000000?line=32'>33</a>\u001b[0m \u001b[39mprint\u001b[39m(text)\n\u001b[1;32m     <a href='vscode-notebook-cell:/Users/ore/Documents/GitHub/DMM/twitter_pic_download/text_get.ipynb#ch0000000?line=34'>35</a>\u001b[0m tweet[\u001b[39m'\u001b[39m\u001b[39mtweet\u001b[39m\u001b[39m'\u001b[39m]\u001b[39m.\u001b[39mappend({\u001b[39m\"\u001b[39m\u001b[39mtext\u001b[39m\u001b[39m\"\u001b[39m: text,\u001b[39m\"\u001b[39m\u001b[39mimg\u001b[39m\u001b[39m\"\u001b[39m: img_url})\n",
      "File \u001b[0;32m~/opt/anaconda3/envs/scraping/lib/python3.10/site-packages/tweepy/mixins.py:35\u001b[0m, in \u001b[0;36mDataMapping.__getattr__\u001b[0;34m(self, name)\u001b[0m\n\u001b[1;32m     <a href='file:///Users/ore/opt/anaconda3/envs/scraping/lib/python3.10/site-packages/tweepy/mixins.py?line=32'>33</a>\u001b[0m     \u001b[39mreturn\u001b[39;00m \u001b[39mself\u001b[39m\u001b[39m.\u001b[39mdata[name]\n\u001b[1;32m     <a href='file:///Users/ore/opt/anaconda3/envs/scraping/lib/python3.10/site-packages/tweepy/mixins.py?line=33'>34</a>\u001b[0m \u001b[39mexcept\u001b[39;00m \u001b[39mKeyError\u001b[39;00m:\n\u001b[0;32m---> <a href='file:///Users/ore/opt/anaconda3/envs/scraping/lib/python3.10/site-packages/tweepy/mixins.py?line=34'>35</a>\u001b[0m     \u001b[39mraise\u001b[39;00m \u001b[39mAttributeError\u001b[39;00m \u001b[39mfrom\u001b[39;00m \u001b[39mNone\u001b[39m\n",
      "\u001b[0;31mAttributeError\u001b[0m: "
     ]
    }
   ],
   "source": [
    "import tweepy\n",
    "import API_config_katudon\n",
    "import json\n",
    "\n",
    "\n",
    "class Tweet_text:\n",
    "\n",
    "    def __init__(self):\n",
    "\n",
    "        self.client = tweepy.Client(consumer_key=API_config_katudon.API_KEY, consumer_secret=API_config_katudon.API_SECRET, access_token=API_config_katudon.ACCESS_TOKEN, access_token_secret=API_config_katudon.ACCESS_TOKEN_SECRET, bearer_token=API_config_katudon.Bearer_token)\n",
    "        self.count = 5\n",
    "\n",
    "\n",
    "    @property\n",
    "    def text_get(self):\n",
    "        tweet = {}\n",
    "        tweet['tweet'] = []\n",
    "\n",
    "        target_response = self.client.get_user(username='_mio_mio_imada')\n",
    "        print(target_response)\n",
    "\n",
    "#todo ここから再開\n",
    "        target_tweets = self.client.get_users_tweets(target_response.data['id'], expansions=[\"attachments.media_keys\"], max_results=10, media_fields=['preview_image_url', 'url'], tweet_fields=[\"entities\"])\n",
    "        print(target_tweets)\n",
    "\n",
    "        # for tweets in tweepy.Paginator(self.client.get_users_tweets, target_response.data['id'], max_results=10, media_fields=['preview_image_url', 'url'], tweet_fields=[\"context_annotations\", \"attachments\"], expansions=[\"attachments.media_keys\"]).flatten(limit=250):\n",
    "        #     print(tweets)\n",
    "\n",
    "\n",
    "\n",
    "        text = tweets.data['text']\n",
    "        img_url: list = [urls['url'] for urls in tweets.includes['media']]\n",
    "        print(text)\n",
    "\n",
    "        tweet['tweet'].append({\"text\": text,\"img\": img_url})\n",
    "        print(tweet)\n",
    "\n",
    "        with open('imada_mio.json', 'w', encoding='utf-8') as f:\n",
    "            json.dump(tweet, f, indent=4, ensure_ascii=False)\n",
    "\n",
    "t = Tweet_text()\n",
    "t.text_get\n",
    "\n"
   ]
  },
  {
   "cell_type": "code",
   "execution_count": null,
   "metadata": {},
   "outputs": [],
   "source": []
  }
 ],
 "metadata": {
  "interpreter": {
   "hash": "0a1ece316646461d52424eec54ae6b7be77db122250a261dac31fc3040797f8d"
  },
  "kernelspec": {
   "display_name": "Python 3.10.4 ('scraping')",
   "language": "python",
   "name": "python3"
  },
  "language_info": {
   "codemirror_mode": {
    "name": "ipython",
    "version": 3
   },
   "file_extension": ".py",
   "mimetype": "text/x-python",
   "name": "python",
   "nbconvert_exporter": "python",
   "pygments_lexer": "ipython3",
   "version": "3.10.4"
  },
  "orig_nbformat": 4
 },
 "nbformat": 4,
 "nbformat_minor": 2
}
