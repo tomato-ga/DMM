{
 "cells": [
  {
   "cell_type": "markdown",
   "metadata": {},
   "source": [
    "# 今田美桜アカウントのテキストと画像をもらう"
   ]
  },
  {
   "cell_type": "code",
   "execution_count": null,
   "metadata": {},
   "outputs": [],
   "source": [
    "import tweepy\n",
    "import API_config_katudon\n",
    "import json\n",
    "\n",
    "\n",
    "class Tweet_text:\n",
    "\n",
    "    def __init__(self):\n",
    "\n",
    "        self.client = tweepy.Client(consumer_key=API_config_katudon.API_KEY, consumer_secret=API_config_katudon.API_SECRET, access_token=API_config_katudon.ACCESS_TOKEN, access_token_secret=API_config_katudon.ACCESS_TOKEN_SECRET, bearer_token=API_config_katudon.Bearer_token)\n",
    "        self.count = 5\n",
    "\n",
    "\n",
    "    @property\n",
    "    def text_get(self):\n",
    "        \"\"\"_summary_\n",
    "        usernameにアカウント名を入力\n",
    "\n",
    "        画像を取る場合は以下を有効にする\n",
    "        for tweets_img in target_tweets.includes['media']:\n",
    "\n",
    "        \"\"\"\n",
    "\n",
    "        tweet: dict[dict] = {}\n",
    "        tweet['tweet'] = []\n",
    "\n",
    "        target_response = self.client.get_user(username='hikarinspecial') # usernameにアカウント名を入力\n",
    "        target_tweets = self.client.get_users_tweets(target_response.data['id'], expansions=[\"attachments.media_keys\"], max_results=10, media_fields=['preview_image_url', 'url'], exclude='retweets')\n",
    "\n",
    "        while True:\n",
    "            print(target_tweets)\n",
    "            next_token = target_tweets.meta['next_token']\n",
    "\n",
    "            # テキストを取る\n",
    "            for tweets in target_tweets.data:\n",
    "                text = tweets.data['text']\n",
    "                print(text)\n",
    "\n",
    "            # 画像を取る\n",
    "            for tweets_img in target_tweets.includes['media']:\n",
    "                img_url = tweets_img['url']\n",
    "                print(img_url)\n",
    "\n",
    "            tweet['tweet'].append({\"text\": text,\"img\": img_url})\n",
    "            print(tweet)\n",
    "\n",
    "            with open('imada_mio.json', 'w', encoding='utf-8') as f:\n",
    "                json.dump(tweet, f, indent=4, ensure_ascii=False)\n",
    "\n",
    "            target_tweets = self.client.get_users_tweets(target_response.data['id'], expansions=[\"attachments.media_keys\"], max_results=10, media_fields=['preview_image_url', 'url'], exclude='retweets', pagination_token=next_token)\n",
    "\n",
    "            if next_token is None:\n",
    "                break\n",
    "\n",
    "\n",
    "\n",
    "t = Tweet_text()\n",
    "t.text_get\n",
    "\n",
    "\n",
    "        # for tweets in tweepy.Paginator(self.client.get_users_tweets, target_response.data['id'], max_results=10, media_fields=['preview_image_url', 'url'], expansions=['attachments.media_keys'], tweet_fields=[\"entities\"]).flatten(limit=250):\n"
   ]
  },
  {
   "cell_type": "code",
   "execution_count": 16,
   "metadata": {},
   "outputs": [],
   "source": [
    "load = json.load(open('imada_mio.json', 'r'))\n",
    "l = load['tweet']\n",
    "\n",
    "\n",
    "for i in l:\n",
    "    i['img']\n"
   ]
  },
  {
   "cell_type": "markdown",
   "metadata": {},
   "source": [
    "# エロアカウントからテキストだけもらう"
   ]
  },
  {
   "cell_type": "code",
   "execution_count": 1,
   "metadata": {},
   "outputs": [],
   "source": [
    "import tweepy\n",
    "import API_config_katudon\n",
    "import json\n",
    "\n",
    "\n",
    "class Tweet_text:\n",
    "\n",
    "    def __init__(self, username):\n",
    "\n",
    "        self.client = tweepy.Client(consumer_key=API_config_katudon.API_KEY, consumer_secret=API_config_katudon.API_SECRET, access_token=API_config_katudon.ACCESS_TOKEN, access_token_secret=API_config_katudon.ACCESS_TOKEN_SECRET, bearer_token=API_config_katudon.Bearer_token, wait_on_rate_limit=True)\n",
    "        self.count = 5\n",
    "        self.__username = username\n",
    "\n",
    "    @property\n",
    "    def text_get(self):\n",
    "        pass\n",
    "\n",
    "    @text_get.getter\n",
    "    def text_get(self):\n",
    "        \"\"\"_summary_\n",
    "        usernameにアカウント名を入力\n",
    "\n",
    "        \"\"\"\n",
    "\n",
    "        tweet: dict[dict] = {}\n",
    "        tweet['tweet'] = []\n",
    "\n",
    "        target_response = self.client.get_user(username=self.__username) # usernameにアカウント名を入力\n",
    "        # テキストだけ\n",
    "        target_tweets = self.client.get_users_tweets(target_response.data['id'], max_results=100, exclude=['retweets', 'replies'])\n",
    "        print(target_tweets)\n",
    "\n",
    "        while True:\n",
    "            next_token = target_tweets.meta['next_token']\n",
    "\n",
    "            for tweets in target_tweets.data:\n",
    "                text = tweets.data['text']\n",
    "                tweet['tweet'].append({\"text\": text})\n",
    "\n",
    "            with open(f'{self.__username}.json', 'w', encoding='utf-8') as f:\n",
    "                json.dump(tweet, f, indent=4, ensure_ascii=False)\n",
    "\n",
    "            target_tweets = self.client.get_users_tweets(target_response.data['id'], max_results=100, exclude=['retweets', 'replies'])\n",
    "\n",
    "            if next_token is None:\n",
    "                break\n",
    "\n",
    "        # if next_token:\n",
    "        #     while True:\n",
    "        #         target_tweets_next = self.client.get_users_tweets(target_response.data['id'], max_results=100, exclude=['retweets', 'replies'], pagination_token=next_token)\n",
    "        #         next_token = target_tweets_next.meta['next_token']\n",
    "\n",
    "        #         for tweets in target_tweets_next.data:\n",
    "        #             text = tweets.data['text']\n",
    "        #             print(text)\n",
    "\n",
    "        #             tweet['tweet'].append({\"text\": text})\n",
    "        #             print(tweet)\n",
    "\n",
    "        #             with open(f'{self.__username}.json', 'w', encoding='utf-8') as f:\n",
    "        #                 json.dump(tweet, f, indent=4, ensure_ascii=False)\n",
    "\n",
    "        #         if next_token is None:\n",
    "        #             break\n",
    "\n",
    "        # for tweets in tweepy.Paginator(self.client.get_users_tweets, target_response.data['id'], max_results=10, media_fields=['preview_image_url', 'url'], expansions=['attachments.media_keys'], tweet_fields=[\"entities\"]).flatten(limit=250):\n"
   ]
  },
  {
   "cell_type": "code",
   "execution_count": 2,
   "metadata": {},
   "outputs": [
    {
     "name": "stdout",
     "output_type": "stream",
     "text": [
      "Response(data=[<Tweet id=1521655657476153345 text='いきそうになったら、だいしゅきボールドで強制中出しですよ。'>, <Tweet id=1519814406615359491 text='私のマンションに来てください。駅からすぐなので、玄関で四つん這いになって待ってます。そのまま入ってきてぶち込んでください。'>, <Tweet id=1517275202018701312 text='エロい人妻でも抱けるなら会ってください'>, <Tweet id=1516395994862088194 text='LINEを教えるなというツイートが気に入らないのか、業者のご一行（中の人は多分1人）から執拗な攻撃を受けています。'>, <Tweet id=1516371457651011584 text='リプでLINEに誘う輩がいますが、通報してください。危険です。絶対に返事をしないでください。'>, <Tweet id=1516370203449331713 text='知人の頼み事に応え…乗っ取られたＬＩＮＥ\\u3000「友だち」に次々プリカ購入要求：朝日新聞デジタル https://t.co/tj3nnMw6vq #'>, <Tweet id=1516347118176202754 text='LINEは乗っ取りませんが、あなたの股間は乗っ取ります。あるいは乗っかります。'>, <Tweet id=1516344461193736192 text='LINEの乗っ取りはすぐに始まらないんですよ。何ヶ月もやり取りをして信用した頃に実行するので、犯人が分からないのです。'>, <Tweet id=1516343369953275904 text='気楽にLINEを教える＝セキュリティの知識が乏しい人です。\\n簡単に乗っ取られ、友達に勝手に接触されて自宅や職場などの個人情報が特定。\\n友達全員に「お金貸して」などとメッセージを送られた人も多数です。乗っ取られたらアカウント削除は出来ず友達を失うだけです。 https://t.co/DU4SxeACSi'>, <Tweet id=1516320967668101124 text='DMをしたがる裏アカ女子は全員業者ですよ。絶対にLINEを教えないでください。'>, <Tweet id=1516304028371628032 text='おっぱい揉んで？'>, <Tweet id=1514507092236795907 text='アナル舐めてもらったことある？私、得意だからしてあげるよ'>, <Tweet id=1511266683121401856 text='中出し希望？顔射希望？'>, <Tweet id=1510968712890707973 text='私がいなきゃボッキもできない男にしてあげるね。'>, <Tweet id=1508064422073298944 text='婚活をしていたことがありますが、今は野獣セックスがしたいので結婚はしません。'>, <Tweet id=1504646625351725056 text='お正月以来の募集です🎍久しぶりですね。ババアでよければ抱いてください。私の家に来てもいいし、私が会いに行ってもいいし😻中出しもOKですよ。未成年者と援関係はお断り。\\nhttps://t.co/rBm7oMW3JD杉並区、ひかりです。ホテル代は私が出しますからね。財布は持って来ないでください。'>, <Tweet id=1503224385452187649 text='ソープなんて行くよりも私の方がいいのに。無料だし、中出しOKだし。ホテル代も払ってあげるのに。'>, <Tweet id=1503224152202747910 text='先日サイトで知り合った男性とお茶をしました。20年前にソープにハマって大借金をしたそうです。名の知れたサラ金は全て制覇し自己破産。10年ほど前に破産の喪が明けてクレカを作れるようになったそうですが、再びソープにハマって借金で首が回らないそうです。そんなにソープっていいもんなんですか❓'>, <Tweet id=1498928724468645891 text='セックスしましょうか。締まりはいいと思いますよ。'>, <Tweet id=1497845077380530176 text='わたし、ゴムは必要ないですよ。ピル飲んでるので中に沢山出して。'>, <Tweet id=1497748356814147585 text='自宅は西荻窪のマンションなんですが、駅から西友を通り抜けて来てねって教えると西友さんから叱られます。'>, <Tweet id=1497613666459422720 text='バカな私のおっぱいも少しは価値ありますか'>, <Tweet id=1496968377474052097 text='ホテルより私の家に来て。コスプレもおもちゃもいっぱいあるよ。'>, <Tweet id=1496356951420469257 text='結婚相談所に登録したことがあるんですよ。男性とデートした初日にホテルに誘ったら苦情になって、退会処分となりました。私は婚活ではなくセフレが欲しかったみたいです🍄'>, <Tweet id=1495676603824852995 text='一発お試し中出ししませんか♡気に入ったら2回目は顔射で。'>, <Tweet id=1494491746675216387 text='フォロワーとセックスするの、とっても興奮するんですよ'>, <Tweet id=1492965969156710400 text='ホテル代は私が出しますよ😍'>, <Tweet id=1492965864953446401 text='人妻はヤリマンしかいない。。。確かに🤣'>, <Tweet id=1492328657834020870 text='女が1人でラーメンを食べに行くと、周りの男性達が嫌ですかね？食べたい🥺'>, <Tweet id=1491740453149949960 text='これです😂😂😂 https://t.co/Pd8IfIj3zo'>, <Tweet id=1491734958548807680 text='死ぬほどキモいし貧乏臭いな。つまんないし。 https://t.co/4xYMAbI2jd'>, <Tweet id=1491637638276677636 text='ワクチンちん3回目打ちましたか❓'>, <Tweet id=1489212578270093313 text='俺の恵方巻きじゃなくて、俺のかんぴょう巻きの間違いじゃなくて？'>, <Tweet id=1487322397703213056 text='婚活そっちのけでしゃぶり放題。'>, <Tweet id=1484772660630650881 text='股間に俵ハンバーグがあると思ったら、キンタマなんですね。'>, <Tweet id=1484156982739484673 text='外出するのが怖くなってきましたね。。。でもセックスしたいので会いましょう。'>, <Tweet id=1481827716928524289 text='いつもの場所でエロ友募集でございます。お上品な顔をして、喘ぎ声は寝起きの熊みたいに激しいのです。大丈夫ですか❓中出しOKなので、ぜひお誘いくださいませ♡\\nhttps://t.co/rBm7oMF0HDひかり、杉並区です。ホテル代くらいは私が出しますよ。'>, <Tweet id=1479952597729824768 text='最近、ここの人気がすごいので私も登録してみました。こちらでもエロ友を募集していますが結構アポが取れますね。https://t.co/De1qFlhDxbまぎれもなく、私もヤリモクですけど。'>, <Tweet id=1479951829710798848 text='理想を言うと、セフレは30人くらい欲しいです。'>, <Tweet id=1477455581829287938 text='中出しセフレちゃん募集♡既婚者でも気にしません。未成年者だけは🆖です。ひかりです。杉並区です。\\n https://t.co/rBm7oMF0HD\\n日本全国どこでも会いに行きますよ。ただし会えますかやれますかだけのメールには返事はしません✋ホテル代は私が払いますよ。しつこく誘ってくれると気が付きやすいです。'>, <Tweet id=1477455500833091585 text='去年も今期を逃してしまった私ですが、今年もセフレ遊びに精を出して精子を出してもらおうと思います。'>, <Tweet id=1474511873735540736 text='出会ってすぐにホテルに行きたがる女はお嫌いですか？'>, <Tweet id=1472797095019294720 text='私に中出ししたい？立候補してくださいね。'>, <Tweet id=1472796798632992776 text='クリスマスが近づくと発情期です😻'>, <Tweet id=1469592475396620291 text='ホテルに行ったらピザでも注文して一緒に食べたいです♪'>, <Tweet id=1467680112091222017 text='誰でもいいなら私とセックスしてよ♡'>, <Tweet id=1467679906440318979 text='中出しセフレちゃん募集♡既婚者でも気にしません。未成年者だけは🆖です。ひかりです。杉並区です。\\n https://t.co/rBm7oMF0HD\\n日本全国どこでも会いに行きますよ。ただし会えますかやれますかだけのメールには返事はしません✋ホテル代は私が払いますよ。しつこく誘ってくれると気が付きやすいです。'>, <Tweet id=1466713401712078852 text='バチバチに犯して欲しいです♡'>, <Tweet id=1465816925796069381 text='アナル舐めるね'>, <Tweet id=1465104832365137927 text='私のためにレースクィーンのコスプレしてくれませんか？マリモみたいなキンタマはみ出させてください。興奮します。'>, <Tweet id=1464491293711560707 text='そもそも処女だったのに不倫をして、最初からアナルを開発された女ですから、エロさでは負けません。'>, <Tweet id=1464491129382993921 text='ハメ撮りしたい？オカズにしてくれるならいいよ♡'>, <Tweet id=1463687627333373962 text='中出しセフレちゃん募集♡既婚者でも気にしません。未成年者だけは🆖です。ひかりです。杉並区です。\\n https://t.co/rBm7oMEsS5\\n日本全国どこでも会いに行きますよ。ただし会えますかやれますかだけのメールには返事はしません✋ホテル代は私が払いますよ。しつこく誘ってくれると気が付きやすいです。'>, <Tweet id=1463687445698920449 text='顔射されたい'>, <Tweet id=1462933483861393410 text='ぬるぬるさせようか？'>, <Tweet id=1461898017926119428 text='妻や彼女からDVを受けたことがありますか？'>, <Tweet id=1461698957159985153 text='おっぱいを揺らしながら駆け寄りますね。鷲掴みしてください。'>, <Tweet id=1460802365653590025 text='田舎に行って空気がおいしーって言うのと、ちんぽしゃぶっておいしーって言うのと、同じくらい気持ちがこもってない言葉ですよね。'>, <Tweet id=1460613380775944201 text='おじさんって可愛い。若い男は苦手。'>, <Tweet id=1460212863188930566 text='コロナの不景気をぶっ飛ばしましょう。セックスしたい人は大きな声で好きな体位を叫んでください♡'>, <Tweet id=1459387786407006208 text='同感です。安全な女が欲しい卑屈な中年男は本当に嫌。抱かれる女がいるわけがないでしょ。 https://t.co/yQpZWH4QMV'>, <Tweet id=1455163038340816913 text='京王線も小田急線も、裏垢妻がたくさんいる路線ですね'>, <Tweet id=1455162450970480640 text='寒くなってくると、股間のゾウさんがそばを食いますか？'>, <Tweet id=1453560601146318853 text='私とおセックスすると、おちんちんが負傷するかもしれません。締まりが良すぎて痛くなるよ？'>, <Tweet id=1453285532155396103 text='日暮れが早くなりましたね。夜になると性欲が高まるので、これからが大変な季節です。'>, <Tweet id=1452453393578872832 text='中出しセフレちゃん募集♡既婚者でも気にしません。未成年者だけは🆖です。ひかりです。杉並区です。\\n https://t.co/rBm7oMW3JD\\n日本全国どこでも会いに行きますよ。ただし会えますかやれますかだけのメールには返事はしません✋ホテル代は私が払いますよ。しつこく誘ってくれると気が付きやすいです。'>, <Tweet id=1452189294165061632 text='金玉おじさん、どこにいますか？'>, <Tweet id=1451845605467115527 text='セフレが見つからないので秋茄子でオナニーします'>, <Tweet id=1451841928685780999 text='削除したようなのでサービスで載せてあげます。 https://t.co/LGLt7U6Ome'>, <Tweet id=1451838245474504714 text='お母さんにオナニーを見られたことはありますか？'>, <Tweet id=1451801754404732929 text='ちんぽとちんこはニュアンスが違いますよね？'>, <Tweet id=1451707274288713729 text='EDのトラック運転手さんがいて、かなり悩んでいました。座りっぱなしが良くないんでしょうかね。'>, <Tweet id=1451551882250309635 text='わたしのオケツ触ったら興奮しますか？'>, <Tweet id=1450824717489741830 text='みなさんお久しぶりです。締まりが良すぎるおばさんです。'>, <Tweet id=1445322013870989322 text='既婚者でも全然良いですよ。セックスしましょう。誘ってください？'>, <Tweet id=1444161981791948805 text='割と誰とでもセックスする。でも馬鹿すぎるとムリです💩'>, <Tweet id=1443916126346383360 text='許可するまでおしっこ禁止❣️'>, <Tweet id=1443104604229566466 text='スカートをめくりあげて立ちバックしてくれませんか。'>, <Tweet id=1443104345420038144 text='東京の下品なOLが全国どこでも会いに行きます。東京に来るのは修学旅行以来で怖いでしょ？私が行きますからね。'>, <Tweet id=1439507388034211842 text='中出しセフレちゃん募集♡既婚者でも気にしません。未成年者だけは🆖です。ひかりです。杉並区です。\\n https://t.co/rBm7oMW3JD\\n日本全国どこでも会いに行きますよ。ただし会えますかやれますかだけのメールには返事はしません✋ホテル代は私が払いますよ。しつこく誘ってくれると気が付きやすいです。'>, <Tweet id=1439506970415747074 text='わたしとセックスしたい人あつまれ'>, <Tweet id=1438448908384948230 text='小娘時代に処女なのに不倫にハマって、既婚男のいいなりでアナルまで開発された女です。今もされたいんですよねえ。引きますか？'>, <Tweet id=1437392783824674818 text='おちんちん、腫れてるね？大丈夫？ムヒ塗る？'>, <Tweet id=1435800198719021059 text='せいぜい30分くらい、ゲームから離れてみてはどうですかね。'>, <Tweet id=1435799789816336388 text='ワクチンの会場で、スマホゲームが手放せないおっさんがいました。1秒を惜しんで周りも見えずに夢中になる姿が、心底気持ち悪かったです。'>, <Tweet id=1433219148536967168 text='中出しセフレちゃん募集♡既婚者でも気にしません。未成年者だけは🆖です。ひかりです。杉並区です。\\n https://t.co/rBm7oMW3JD\\n日本全国どこでも会いに行きますよ。ただし会えますかやれますかだけのメールには返事はしません✋ホテル代は私が払いますよ。しつこく誘ってくれると気が付きやすいです。'>, <Tweet id=1433211706512003073 text='セックスしませんか？'>, <Tweet id=1429935025160523786 text='1ヶ月ぶりに中出しセフレちゃん募集♡既婚者でも気にしません。未成年者だけは🆖です。ひかりです。杉並区です。\\n https://t.co/rBm7oMW3JD\\n日本全国どこでも会いに行きますよ。ただし、会えますかやれますかだけのメールには返事はしません✋'>, <Tweet id=1429931990581579797 text='締まりが良すぎて痛くなるけどいいですか'>, <Tweet id=1429266924739858433 text='中出ししていいよ'>, <Tweet id=1428891003864240128 text='いいねをし過ぎたり、リプをつけすぎると一時的にアカウントロックされますよね。'>, <Tweet id=1428579069692575746 text='バックでぱんぱんされたいな。'>, <Tweet id=1426767802833068037 text='四つん這いでフェラチオするように躾けられた女です。需要ありますか。'>, <Tweet id=1424624949843480576 text='熱く煮たこんにゃくをキンタマに乗せて温めますね♪'>, <Tweet id=1422890610080448520 text='焼き鳥&amp;ビールと、フェラチオとどちらがお好みですか？'>, <Tweet id=1421610411325988864 text='セックスしますか？いいですよ。中出しは必須ですからね。'>, <Tweet id=1420035231466369028 text='顔面…じゃなくて『TIMEシャワーに射たれて』って昔の曲ですけど、最近よく聴いてます♫'>, <Tweet id=1418409310091022336 text='仁王立ちフェラはお好きですか？'>, <Tweet id=1418054191327506435 text='おじいちゃん達はなぜ運転するとオラオラになるんですか？ボケ老人だから？若い頃からそうなのかな？'>, <Tweet id=1417621653337432064 text='中出しセフレちゃん募集♡既婚者でも気にしません。未成年者だけは🆖です。ひかりです。杉並区です。\\n https://t.co/rBm7oMW3JD\\n日本全国どこでも会いに行きますよ。ただし、会えますかやれますかだけのメールには返事はしません✋'>], includes={}, errors=[], meta={'next_token': '7140dibdnow9c7btw3z177zo7vb6bxdnzf5d90eya8svo', 'result_count': 100, 'newest_id': '1521655657476153345', 'oldest_id': '1417621653337432064'})\n"
     ]
    },
    {
     "ename": "KeyboardInterrupt",
     "evalue": "",
     "output_type": "error",
     "traceback": [
      "\u001b[0;31m---------------------------------------------------------------------------\u001b[0m",
      "\u001b[0;31mKeyboardInterrupt\u001b[0m                         Traceback (most recent call last)",
      "\u001b[1;32m/Users/ore/Documents/GitHub/DMM/twitter_pic_download/text_get.ipynb Cell 6'\u001b[0m in \u001b[0;36m<cell line: 2>\u001b[0;34m()\u001b[0m\n\u001b[1;32m      <a href='vscode-notebook-cell:/Users/ore/Documents/GitHub/DMM/twitter_pic_download/text_get.ipynb#ch0000005?line=0'>1</a>\u001b[0m t \u001b[39m=\u001b[39m Tweet_text(\u001b[39m'\u001b[39m\u001b[39mhikarinspecial\u001b[39m\u001b[39m'\u001b[39m)\n\u001b[0;32m----> <a href='vscode-notebook-cell:/Users/ore/Documents/GitHub/DMM/twitter_pic_download/text_get.ipynb#ch0000005?line=1'>2</a>\u001b[0m t\u001b[39m.\u001b[39;49mtext_get\n",
      "\u001b[1;32m/Users/ore/Documents/GitHub/DMM/twitter_pic_download/text_get.ipynb Cell 5'\u001b[0m in \u001b[0;36mTweet_text.text_get\u001b[0;34m(self)\u001b[0m\n\u001b[1;32m     <a href='vscode-notebook-cell:/Users/ore/Documents/GitHub/DMM/twitter_pic_download/text_get.ipynb#ch0000004?line=37'>38</a>\u001b[0m     tweet[\u001b[39m'\u001b[39m\u001b[39mtweet\u001b[39m\u001b[39m'\u001b[39m]\u001b[39m.\u001b[39mappend({\u001b[39m\"\u001b[39m\u001b[39mtext\u001b[39m\u001b[39m\"\u001b[39m: text})\n\u001b[1;32m     <a href='vscode-notebook-cell:/Users/ore/Documents/GitHub/DMM/twitter_pic_download/text_get.ipynb#ch0000004?line=39'>40</a>\u001b[0m \u001b[39mwith\u001b[39;00m \u001b[39mopen\u001b[39m(\u001b[39mf\u001b[39m\u001b[39m'\u001b[39m\u001b[39m{\u001b[39;00m\u001b[39mself\u001b[39m\u001b[39m.\u001b[39m__username\u001b[39m}\u001b[39;00m\u001b[39m.json\u001b[39m\u001b[39m'\u001b[39m, \u001b[39m'\u001b[39m\u001b[39mw\u001b[39m\u001b[39m'\u001b[39m, encoding\u001b[39m=\u001b[39m\u001b[39m'\u001b[39m\u001b[39mutf-8\u001b[39m\u001b[39m'\u001b[39m) \u001b[39mas\u001b[39;00m f:\n\u001b[0;32m---> <a href='vscode-notebook-cell:/Users/ore/Documents/GitHub/DMM/twitter_pic_download/text_get.ipynb#ch0000004?line=40'>41</a>\u001b[0m     json\u001b[39m.\u001b[39;49mdump(tweet, f, indent\u001b[39m=\u001b[39;49m\u001b[39m4\u001b[39;49m, ensure_ascii\u001b[39m=\u001b[39;49m\u001b[39mFalse\u001b[39;49;00m)\n\u001b[1;32m     <a href='vscode-notebook-cell:/Users/ore/Documents/GitHub/DMM/twitter_pic_download/text_get.ipynb#ch0000004?line=42'>43</a>\u001b[0m target_tweets \u001b[39m=\u001b[39m \u001b[39mself\u001b[39m\u001b[39m.\u001b[39mclient\u001b[39m.\u001b[39mget_users_tweets(target_response\u001b[39m.\u001b[39mdata[\u001b[39m'\u001b[39m\u001b[39mid\u001b[39m\u001b[39m'\u001b[39m], max_results\u001b[39m=\u001b[39m\u001b[39m100\u001b[39m, exclude\u001b[39m=\u001b[39m[\u001b[39m'\u001b[39m\u001b[39mretweets\u001b[39m\u001b[39m'\u001b[39m, \u001b[39m'\u001b[39m\u001b[39mreplies\u001b[39m\u001b[39m'\u001b[39m])\n\u001b[1;32m     <a href='vscode-notebook-cell:/Users/ore/Documents/GitHub/DMM/twitter_pic_download/text_get.ipynb#ch0000004?line=44'>45</a>\u001b[0m \u001b[39mif\u001b[39;00m next_token \u001b[39mis\u001b[39;00m \u001b[39mNone\u001b[39;00m:\n",
      "File \u001b[0;32m~/opt/anaconda3/envs/scraping/lib/python3.10/json/__init__.py:180\u001b[0m, in \u001b[0;36mdump\u001b[0;34m(obj, fp, skipkeys, ensure_ascii, check_circular, allow_nan, cls, indent, separators, default, sort_keys, **kw)\u001b[0m\n\u001b[1;32m    <a href='file:///Users/ore/opt/anaconda3/envs/scraping/lib/python3.10/json/__init__.py?line=176'>177</a>\u001b[0m \u001b[39m# could accelerate with writelines in some versions of Python, at\u001b[39;00m\n\u001b[1;32m    <a href='file:///Users/ore/opt/anaconda3/envs/scraping/lib/python3.10/json/__init__.py?line=177'>178</a>\u001b[0m \u001b[39m# a debuggability cost\u001b[39;00m\n\u001b[1;32m    <a href='file:///Users/ore/opt/anaconda3/envs/scraping/lib/python3.10/json/__init__.py?line=178'>179</a>\u001b[0m \u001b[39mfor\u001b[39;00m chunk \u001b[39min\u001b[39;00m iterable:\n\u001b[0;32m--> <a href='file:///Users/ore/opt/anaconda3/envs/scraping/lib/python3.10/json/__init__.py?line=179'>180</a>\u001b[0m     fp\u001b[39m.\u001b[39;49mwrite(chunk)\n",
      "\u001b[0;31mKeyboardInterrupt\u001b[0m: "
     ]
    }
   ],
   "source": [
    "t = Tweet_text('hikarinspecial')\n",
    "t.text_get"
   ]
  },
  {
   "cell_type": "code",
   "execution_count": null,
   "metadata": {},
   "outputs": [],
   "source": []
  }
 ],
 "metadata": {
  "interpreter": {
   "hash": "0a1ece316646461d52424eec54ae6b7be77db122250a261dac31fc3040797f8d"
  },
  "kernelspec": {
   "display_name": "Python 3.10.4 ('scraping')",
   "language": "python",
   "name": "python3"
  },
  "language_info": {
   "codemirror_mode": {
    "name": "ipython",
    "version": 3
   },
   "file_extension": ".py",
   "mimetype": "text/x-python",
   "name": "python",
   "nbconvert_exporter": "python",
   "pygments_lexer": "ipython3",
   "version": "3.10.4"
  },
  "orig_nbformat": 4
 },
 "nbformat": 4,
 "nbformat_minor": 2
}
