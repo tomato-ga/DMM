{
 "cells": [
  {
   "cell_type": "markdown",
   "metadata": {},
   "source": [
    "# アカウントのテキストと画像をもらう"
   ]
  },
  {
   "cell_type": "code",
   "execution_count": null,
   "metadata": {},
   "outputs": [],
   "source": [
    "import tweepy\n",
    "import API_config_katudon\n",
    "import json\n",
    "\n",
    "\n",
    "class Tweet_text:\n",
    "\n",
    "    def __init__(self):\n",
    "\n",
    "        self.client = tweepy.Client(consumer_key=API_config_katudon.API_KEY, consumer_secret=API_config_katudon.API_SECRET, access_token=API_config_katudon.ACCESS_TOKEN, access_token_secret=API_config_katudon.ACCESS_TOKEN_SECRET, bearer_token=API_config_katudon.Bearer_token)\n",
    "        self.count = 5\n",
    "\n",
    "\n",
    "    @property\n",
    "    def text_zget(self):\n",
    "        \"\"\"_summary_\n",
    "        usernameにアカウント名を入力\n",
    "\n",
    "        画像を取る場合は以下を有効にする\n",
    "        for tweets_img in target_tweets.includes['media']:\n",
    "\n",
    "        \"\"\"\n",
    "\n",
    "        tweet: dict[dict] = {}\n",
    "        tweet['tweet'] = []\n",
    "\n",
    "        target_response = self.client.get_user(username='hikarinspecial') # usernameにアカウント名を入力\n",
    "        target_tweets = self.client.get_users_tweets(target_response.data['id'], expansions=[\"attachments.media_keys\"], max_results=10, media_fields=['preview_image_url', 'url'], exclude='retweets')\n",
    "\n",
    "        while True:\n",
    "            print(target_tweets)\n",
    "            next_token = target_tweets.meta['next_token']\n",
    "\n",
    "            # テキストを取る\n",
    "            for tweets in target_tweets.data:\n",
    "                text = tweets.data['text']\n",
    "                print(text)\n",
    "\n",
    "            # 画像を取る\n",
    "            for tweets_img in target_tweets.includes['media']:\n",
    "                img_url = tweets_img['url']\n",
    "                print(img_url)\n",
    "\n",
    "            tweet['tweet'].append({\"text\": text,\"img\": img_url})\n",
    "            print(tweet)\n",
    "\n",
    "            with open('imada_mio.json', 'w', encoding='utf-8') as f:\n",
    "                json.dump(tweet, f, indent=4, ensure_ascii=False)\n",
    "\n",
    "            target_tweets = self.client.get_users_tweets(target_response.data['id'], expansions=[\"attachments.media_keys\"], max_results=10, media_fields=['preview_image_url', 'url'], exclude='retweets', pagination_token=next_token)\n",
    "\n",
    "            if next_token is None:\n",
    "                break\n",
    "\n",
    "\n",
    "\n",
    "t = Tweet_text()\n",
    "t.text_get\n",
    "\n",
    "\n",
    "        # for tweets in tweepy.Paginator(self.client.get_users_tweets, target_response.data['id'], max_results=10, media_fields=['preview_image_url', 'url'], expansions=['attachments.media_keys'], tweet_fields=[\"entities\"]).flatten(limit=250):\n"
   ]
  },
  {
   "cell_type": "markdown",
   "metadata": {},
   "source": [
    "# v1でテキストと画像取得できた"
   ]
  },
  {
   "cell_type": "markdown",
   "metadata": {},
   "source": [
    "- v2 テキストと画像取得しようとしたけどうまくいかない→ v1.1でやった方が楽という結論\n",
    "- v1でOK"
   ]
  },
  {
   "cell_type": "code",
   "execution_count": 71,
   "metadata": {},
   "outputs": [],
   "source": [
    "import tweepy\n",
    "import API_config_katudon\n",
    "import json\n",
    "import requests\n",
    "import re\n",
    "import os\n",
    "\n",
    "\n",
    "class Tweet_text:\n",
    "\n",
    "    def __init__(self, username):\n",
    "\n",
    "        auth = tweepy.OAuthHandler(API_config_katudon.API_KEY, API_config_katudon.API_SECRET)\n",
    "        auth.set_access_token(API_config_katudon.ACCESS_TOKEN, API_config_katudon.ACCESS_TOKEN_SECRET)\n",
    "        self.api = tweepy.API(auth, wait_on_rate_limit=True)\n",
    "        self.__username = username\n",
    "\n",
    "    def text_image_get(self):\n",
    "\n",
    "\n",
    "        count_no = 200\n",
    "        tweet: dict[dict] = {}\n",
    "        tweet['tweet'] = []\n",
    "\n",
    "        results: iter = tweepy.Cursor(self.api.user_timeline, # タイムラインの取得\n",
    "                    id=self.__username, # 取得対象のユーザーを指定\n",
    "                    include_entities=True, # 省略されたリンクを全て取得\n",
    "                    tweet_mode='extended', # 省略されたツイートを全て取得\n",
    "                    lang='ja',\n",
    "                    exclude_replies=False,\n",
    "                    include_rts=False).items(limit=count_no) # 取得件数を指定\n",
    "\n",
    "        index = 1\n",
    "\n",
    "        for result in results:\n",
    "            if 'media' in result.entities:\n",
    "                image_url = result.extended_entities['media'][0]['media_url']\n",
    "                texts = result.full_text\n",
    "                text = texts.split()\n",
    "                tweet_text = text[0]\n",
    "\n",
    "                print(tweet)\n",
    "\n",
    "                img_response = requests.get(image_url)\n",
    "                match img_response.status_code:\n",
    "                    case 200:\n",
    "                        os.makedirs(f'{self.__username}', mode=0o777, exist_ok=True)\n",
    "                        with open(f'{self.__username}/{index}.jpg', 'wb') as image:\n",
    "                            image.write(img_response.content)\n",
    "\n",
    "                        tweet['tweet'].append({\"text\": tweet_text, 'img': image_url, 'img_file': f'{index}.jpg'})\n",
    "                        index += 1\n",
    "\n",
    "                with open(f'{self.__username}.json', 'w', encoding='utf-8') as f:\n",
    "                    json.dump(tweet, f, indent=4, ensure_ascii=False)"
   ]
  },
  {
   "cell_type": "code",
   "execution_count": 72,
   "metadata": {},
   "outputs": [
    {
     "name": "stderr",
     "output_type": "stream",
     "text": [
      "Unexpected parameter: id\n",
      "Unexpected parameter: include_entities\n",
      "Unexpected parameter: lang\n",
      "Unexpected parameter: id\n",
      "Unexpected parameter: include_entities\n",
      "Unexpected parameter: lang\n"
     ]
    },
    {
     "name": "stdout",
     "output_type": "stream",
     "text": [
      "{'tweet': []}\n",
      "{'tweet': [{'text': '五月病予防にどうですか？🥴', 'img': 'http://pbs.twimg.com/media/FRoRVE7akAAchJJ.jpg', 'img_file': '1.jpg'}]}\n",
      "{'tweet': [{'text': '五月病予防にどうですか？🥴', 'img': 'http://pbs.twimg.com/media/FRoRVE7akAAchJJ.jpg', 'img_file': '1.jpg'}, {'text': 'なんか知らない間に凄いことになってました😂', 'img': 'http://pbs.twimg.com/media/FQojlOfaMAUQu2s.jpg', 'img_file': '2.jpg'}]}\n",
      "{'tweet': [{'text': '五月病予防にどうですか？🥴', 'img': 'http://pbs.twimg.com/media/FRoRVE7akAAchJJ.jpg', 'img_file': '1.jpg'}, {'text': 'なんか知らない間に凄いことになってました😂', 'img': 'http://pbs.twimg.com/media/FQojlOfaMAUQu2s.jpg', 'img_file': '2.jpg'}, {'text': 'このブラ盛れるっ😋✨', 'img': 'http://pbs.twimg.com/media/FQg_3_CakAArWpn.jpg', 'img_file': '3.jpg'}]}\n",
      "{'tweet': [{'text': '五月病予防にどうですか？🥴', 'img': 'http://pbs.twimg.com/media/FRoRVE7akAAchJJ.jpg', 'img_file': '1.jpg'}, {'text': 'なんか知らない間に凄いことになってました😂', 'img': 'http://pbs.twimg.com/media/FQojlOfaMAUQu2s.jpg', 'img_file': '2.jpg'}, {'text': 'このブラ盛れるっ😋✨', 'img': 'http://pbs.twimg.com/media/FQg_3_CakAArWpn.jpg', 'img_file': '3.jpg'}, {'text': 'おっぱいようでございます🤗', 'img': 'http://pbs.twimg.com/media/FQGLoR6akAIGbYI.jpg', 'img_file': '4.jpg'}]}\n",
      "{'tweet': [{'text': '五月病予防にどうですか？🥴', 'img': 'http://pbs.twimg.com/media/FRoRVE7akAAchJJ.jpg', 'img_file': '1.jpg'}, {'text': 'なんか知らない間に凄いことになってました😂', 'img': 'http://pbs.twimg.com/media/FQojlOfaMAUQu2s.jpg', 'img_file': '2.jpg'}, {'text': 'このブラ盛れるっ😋✨', 'img': 'http://pbs.twimg.com/media/FQg_3_CakAArWpn.jpg', 'img_file': '3.jpg'}, {'text': 'おっぱいようでございます🤗', 'img': 'http://pbs.twimg.com/media/FQGLoR6akAIGbYI.jpg', 'img_file': '4.jpg'}, {'text': '見えちゃいまひた😆', 'img': 'http://pbs.twimg.com/media/FPgK0ScaAAQ2gsU.jpg', 'img_file': '5.jpg'}]}\n"
     ]
    },
    {
     "name": "stderr",
     "output_type": "stream",
     "text": [
      "Unexpected parameter: id\n",
      "Unexpected parameter: include_entities\n",
      "Unexpected parameter: lang\n"
     ]
    },
    {
     "name": "stdout",
     "output_type": "stream",
     "text": [
      "{'tweet': [{'text': '五月病予防にどうですか？🥴', 'img': 'http://pbs.twimg.com/media/FRoRVE7akAAchJJ.jpg', 'img_file': '1.jpg'}, {'text': 'なんか知らない間に凄いことになってました😂', 'img': 'http://pbs.twimg.com/media/FQojlOfaMAUQu2s.jpg', 'img_file': '2.jpg'}, {'text': 'このブラ盛れるっ😋✨', 'img': 'http://pbs.twimg.com/media/FQg_3_CakAArWpn.jpg', 'img_file': '3.jpg'}, {'text': 'おっぱいようでございます🤗', 'img': 'http://pbs.twimg.com/media/FQGLoR6akAIGbYI.jpg', 'img_file': '4.jpg'}, {'text': '見えちゃいまひた😆', 'img': 'http://pbs.twimg.com/media/FPgK0ScaAAQ2gsU.jpg', 'img_file': '5.jpg'}, {'text': 'みんないつもコメントありがとぉ〜🥰', 'img': 'http://pbs.twimg.com/media/FOSOdnWacAcyjpr.jpg', 'img_file': '6.jpg'}]}\n",
      "{'tweet': [{'text': '五月病予防にどうですか？🥴', 'img': 'http://pbs.twimg.com/media/FRoRVE7akAAchJJ.jpg', 'img_file': '1.jpg'}, {'text': 'なんか知らない間に凄いことになってました😂', 'img': 'http://pbs.twimg.com/media/FQojlOfaMAUQu2s.jpg', 'img_file': '2.jpg'}, {'text': 'このブラ盛れるっ😋✨', 'img': 'http://pbs.twimg.com/media/FQg_3_CakAArWpn.jpg', 'img_file': '3.jpg'}, {'text': 'おっぱいようでございます🤗', 'img': 'http://pbs.twimg.com/media/FQGLoR6akAIGbYI.jpg', 'img_file': '4.jpg'}, {'text': '見えちゃいまひた😆', 'img': 'http://pbs.twimg.com/media/FPgK0ScaAAQ2gsU.jpg', 'img_file': '5.jpg'}, {'text': 'みんないつもコメントありがとぉ〜🥰', 'img': 'http://pbs.twimg.com/media/FOSOdnWacAcyjpr.jpg', 'img_file': '6.jpg'}, {'text': '気づいたら4000フォロワーいってました🎉', 'img': 'http://pbs.twimg.com/media/FMqjzHKaIAA_0Yk.jpg', 'img_file': '7.jpg'}]}\n",
      "{'tweet': [{'text': '五月病予防にどうですか？🥴', 'img': 'http://pbs.twimg.com/media/FRoRVE7akAAchJJ.jpg', 'img_file': '1.jpg'}, {'text': 'なんか知らない間に凄いことになってました😂', 'img': 'http://pbs.twimg.com/media/FQojlOfaMAUQu2s.jpg', 'img_file': '2.jpg'}, {'text': 'このブラ盛れるっ😋✨', 'img': 'http://pbs.twimg.com/media/FQg_3_CakAArWpn.jpg', 'img_file': '3.jpg'}, {'text': 'おっぱいようでございます🤗', 'img': 'http://pbs.twimg.com/media/FQGLoR6akAIGbYI.jpg', 'img_file': '4.jpg'}, {'text': '見えちゃいまひた😆', 'img': 'http://pbs.twimg.com/media/FPgK0ScaAAQ2gsU.jpg', 'img_file': '5.jpg'}, {'text': 'みんないつもコメントありがとぉ〜🥰', 'img': 'http://pbs.twimg.com/media/FOSOdnWacAcyjpr.jpg', 'img_file': '6.jpg'}, {'text': '気づいたら4000フォロワーいってました🎉', 'img': 'http://pbs.twimg.com/media/FMqjzHKaIAA_0Yk.jpg', 'img_file': '7.jpg'}, {'text': 'お久しぶりです🌹', 'img': 'http://pbs.twimg.com/media/FMmLQ2JakAE3y8b.jpg', 'img_file': '8.jpg'}]}\n",
      "{'tweet': [{'text': '五月病予防にどうですか？🥴', 'img': 'http://pbs.twimg.com/media/FRoRVE7akAAchJJ.jpg', 'img_file': '1.jpg'}, {'text': 'なんか知らない間に凄いことになってました😂', 'img': 'http://pbs.twimg.com/media/FQojlOfaMAUQu2s.jpg', 'img_file': '2.jpg'}, {'text': 'このブラ盛れるっ😋✨', 'img': 'http://pbs.twimg.com/media/FQg_3_CakAArWpn.jpg', 'img_file': '3.jpg'}, {'text': 'おっぱいようでございます🤗', 'img': 'http://pbs.twimg.com/media/FQGLoR6akAIGbYI.jpg', 'img_file': '4.jpg'}, {'text': '見えちゃいまひた😆', 'img': 'http://pbs.twimg.com/media/FPgK0ScaAAQ2gsU.jpg', 'img_file': '5.jpg'}, {'text': 'みんないつもコメントありがとぉ〜🥰', 'img': 'http://pbs.twimg.com/media/FOSOdnWacAcyjpr.jpg', 'img_file': '6.jpg'}, {'text': '気づいたら4000フォロワーいってました🎉', 'img': 'http://pbs.twimg.com/media/FMqjzHKaIAA_0Yk.jpg', 'img_file': '7.jpg'}, {'text': 'お久しぶりです🌹', 'img': 'http://pbs.twimg.com/media/FMmLQ2JakAE3y8b.jpg', 'img_file': '8.jpg'}, {'text': 'この時ぐらいまで髪切ろうか迷ってる、、', 'img': 'http://pbs.twimg.com/media/FKLxVsRaIAEto1-.jpg', 'img_file': '9.jpg'}]}\n",
      "{'tweet': [{'text': '五月病予防にどうですか？🥴', 'img': 'http://pbs.twimg.com/media/FRoRVE7akAAchJJ.jpg', 'img_file': '1.jpg'}, {'text': 'なんか知らない間に凄いことになってました😂', 'img': 'http://pbs.twimg.com/media/FQojlOfaMAUQu2s.jpg', 'img_file': '2.jpg'}, {'text': 'このブラ盛れるっ😋✨', 'img': 'http://pbs.twimg.com/media/FQg_3_CakAArWpn.jpg', 'img_file': '3.jpg'}, {'text': 'おっぱいようでございます🤗', 'img': 'http://pbs.twimg.com/media/FQGLoR6akAIGbYI.jpg', 'img_file': '4.jpg'}, {'text': '見えちゃいまひた😆', 'img': 'http://pbs.twimg.com/media/FPgK0ScaAAQ2gsU.jpg', 'img_file': '5.jpg'}, {'text': 'みんないつもコメントありがとぉ〜🥰', 'img': 'http://pbs.twimg.com/media/FOSOdnWacAcyjpr.jpg', 'img_file': '6.jpg'}, {'text': '気づいたら4000フォロワーいってました🎉', 'img': 'http://pbs.twimg.com/media/FMqjzHKaIAA_0Yk.jpg', 'img_file': '7.jpg'}, {'text': 'お久しぶりです🌹', 'img': 'http://pbs.twimg.com/media/FMmLQ2JakAE3y8b.jpg', 'img_file': '8.jpg'}, {'text': 'この時ぐらいまで髪切ろうか迷ってる、、', 'img': 'http://pbs.twimg.com/media/FKLxVsRaIAEto1-.jpg', 'img_file': '9.jpg'}, {'text': '今夜は脚メインでいかせてください😳', 'img': 'http://pbs.twimg.com/media/FJoY94faUAQfYvY.jpg', 'img_file': '10.jpg'}]}\n",
      "{'tweet': [{'text': '五月病予防にどうですか？🥴', 'img': 'http://pbs.twimg.com/media/FRoRVE7akAAchJJ.jpg', 'img_file': '1.jpg'}, {'text': 'なんか知らない間に凄いことになってました😂', 'img': 'http://pbs.twimg.com/media/FQojlOfaMAUQu2s.jpg', 'img_file': '2.jpg'}, {'text': 'このブラ盛れるっ😋✨', 'img': 'http://pbs.twimg.com/media/FQg_3_CakAArWpn.jpg', 'img_file': '3.jpg'}, {'text': 'おっぱいようでございます🤗', 'img': 'http://pbs.twimg.com/media/FQGLoR6akAIGbYI.jpg', 'img_file': '4.jpg'}, {'text': '見えちゃいまひた😆', 'img': 'http://pbs.twimg.com/media/FPgK0ScaAAQ2gsU.jpg', 'img_file': '5.jpg'}, {'text': 'みんないつもコメントありがとぉ〜🥰', 'img': 'http://pbs.twimg.com/media/FOSOdnWacAcyjpr.jpg', 'img_file': '6.jpg'}, {'text': '気づいたら4000フォロワーいってました🎉', 'img': 'http://pbs.twimg.com/media/FMqjzHKaIAA_0Yk.jpg', 'img_file': '7.jpg'}, {'text': 'お久しぶりです🌹', 'img': 'http://pbs.twimg.com/media/FMmLQ2JakAE3y8b.jpg', 'img_file': '8.jpg'}, {'text': 'この時ぐらいまで髪切ろうか迷ってる、、', 'img': 'http://pbs.twimg.com/media/FKLxVsRaIAEto1-.jpg', 'img_file': '9.jpg'}, {'text': '今夜は脚メインでいかせてください😳', 'img': 'http://pbs.twimg.com/media/FJoY94faUAQfYvY.jpg', 'img_file': '10.jpg'}, {'text': '華金やな〜🥰', 'img': 'http://pbs.twimg.com/media/FIfkEUVaQAwkKjS.jpg', 'img_file': '11.jpg'}]}\n"
     ]
    },
    {
     "name": "stderr",
     "output_type": "stream",
     "text": [
      "Unexpected parameter: id\n",
      "Unexpected parameter: include_entities\n",
      "Unexpected parameter: lang\n"
     ]
    },
    {
     "name": "stdout",
     "output_type": "stream",
     "text": [
      "{'tweet': [{'text': '五月病予防にどうですか？🥴', 'img': 'http://pbs.twimg.com/media/FRoRVE7akAAchJJ.jpg', 'img_file': '1.jpg'}, {'text': 'なんか知らない間に凄いことになってました😂', 'img': 'http://pbs.twimg.com/media/FQojlOfaMAUQu2s.jpg', 'img_file': '2.jpg'}, {'text': 'このブラ盛れるっ😋✨', 'img': 'http://pbs.twimg.com/media/FQg_3_CakAArWpn.jpg', 'img_file': '3.jpg'}, {'text': 'おっぱいようでございます🤗', 'img': 'http://pbs.twimg.com/media/FQGLoR6akAIGbYI.jpg', 'img_file': '4.jpg'}, {'text': '見えちゃいまひた😆', 'img': 'http://pbs.twimg.com/media/FPgK0ScaAAQ2gsU.jpg', 'img_file': '5.jpg'}, {'text': 'みんないつもコメントありがとぉ〜🥰', 'img': 'http://pbs.twimg.com/media/FOSOdnWacAcyjpr.jpg', 'img_file': '6.jpg'}, {'text': '気づいたら4000フォロワーいってました🎉', 'img': 'http://pbs.twimg.com/media/FMqjzHKaIAA_0Yk.jpg', 'img_file': '7.jpg'}, {'text': 'お久しぶりです🌹', 'img': 'http://pbs.twimg.com/media/FMmLQ2JakAE3y8b.jpg', 'img_file': '8.jpg'}, {'text': 'この時ぐらいまで髪切ろうか迷ってる、、', 'img': 'http://pbs.twimg.com/media/FKLxVsRaIAEto1-.jpg', 'img_file': '9.jpg'}, {'text': '今夜は脚メインでいかせてください😳', 'img': 'http://pbs.twimg.com/media/FJoY94faUAQfYvY.jpg', 'img_file': '10.jpg'}, {'text': '華金やな〜🥰', 'img': 'http://pbs.twimg.com/media/FIfkEUVaQAwkKjS.jpg', 'img_file': '11.jpg'}, {'text': 'あけましておめでとうございます㊗️', 'img': 'http://pbs.twimg.com/media/FH-Pwi8aMAAbtr_.jpg', 'img_file': '12.jpg'}]}\n",
      "{'tweet': [{'text': '五月病予防にどうですか？🥴', 'img': 'http://pbs.twimg.com/media/FRoRVE7akAAchJJ.jpg', 'img_file': '1.jpg'}, {'text': 'なんか知らない間に凄いことになってました😂', 'img': 'http://pbs.twimg.com/media/FQojlOfaMAUQu2s.jpg', 'img_file': '2.jpg'}, {'text': 'このブラ盛れるっ😋✨', 'img': 'http://pbs.twimg.com/media/FQg_3_CakAArWpn.jpg', 'img_file': '3.jpg'}, {'text': 'おっぱいようでございます🤗', 'img': 'http://pbs.twimg.com/media/FQGLoR6akAIGbYI.jpg', 'img_file': '4.jpg'}, {'text': '見えちゃいまひた😆', 'img': 'http://pbs.twimg.com/media/FPgK0ScaAAQ2gsU.jpg', 'img_file': '5.jpg'}, {'text': 'みんないつもコメントありがとぉ〜🥰', 'img': 'http://pbs.twimg.com/media/FOSOdnWacAcyjpr.jpg', 'img_file': '6.jpg'}, {'text': '気づいたら4000フォロワーいってました🎉', 'img': 'http://pbs.twimg.com/media/FMqjzHKaIAA_0Yk.jpg', 'img_file': '7.jpg'}, {'text': 'お久しぶりです🌹', 'img': 'http://pbs.twimg.com/media/FMmLQ2JakAE3y8b.jpg', 'img_file': '8.jpg'}, {'text': 'この時ぐらいまで髪切ろうか迷ってる、、', 'img': 'http://pbs.twimg.com/media/FKLxVsRaIAEto1-.jpg', 'img_file': '9.jpg'}, {'text': '今夜は脚メインでいかせてください😳', 'img': 'http://pbs.twimg.com/media/FJoY94faUAQfYvY.jpg', 'img_file': '10.jpg'}, {'text': '華金やな〜🥰', 'img': 'http://pbs.twimg.com/media/FIfkEUVaQAwkKjS.jpg', 'img_file': '11.jpg'}, {'text': 'あけましておめでとうございます㊗️', 'img': 'http://pbs.twimg.com/media/FH-Pwi8aMAAbtr_.jpg', 'img_file': '12.jpg'}, {'text': '下乳、、、', 'img': 'http://pbs.twimg.com/media/FGQV6hIUYAUJ7Dg.jpg', 'img_file': '13.jpg'}]}\n",
      "{'tweet': [{'text': '五月病予防にどうですか？🥴', 'img': 'http://pbs.twimg.com/media/FRoRVE7akAAchJJ.jpg', 'img_file': '1.jpg'}, {'text': 'なんか知らない間に凄いことになってました😂', 'img': 'http://pbs.twimg.com/media/FQojlOfaMAUQu2s.jpg', 'img_file': '2.jpg'}, {'text': 'このブラ盛れるっ😋✨', 'img': 'http://pbs.twimg.com/media/FQg_3_CakAArWpn.jpg', 'img_file': '3.jpg'}, {'text': 'おっぱいようでございます🤗', 'img': 'http://pbs.twimg.com/media/FQGLoR6akAIGbYI.jpg', 'img_file': '4.jpg'}, {'text': '見えちゃいまひた😆', 'img': 'http://pbs.twimg.com/media/FPgK0ScaAAQ2gsU.jpg', 'img_file': '5.jpg'}, {'text': 'みんないつもコメントありがとぉ〜🥰', 'img': 'http://pbs.twimg.com/media/FOSOdnWacAcyjpr.jpg', 'img_file': '6.jpg'}, {'text': '気づいたら4000フォロワーいってました🎉', 'img': 'http://pbs.twimg.com/media/FMqjzHKaIAA_0Yk.jpg', 'img_file': '7.jpg'}, {'text': 'お久しぶりです🌹', 'img': 'http://pbs.twimg.com/media/FMmLQ2JakAE3y8b.jpg', 'img_file': '8.jpg'}, {'text': 'この時ぐらいまで髪切ろうか迷ってる、、', 'img': 'http://pbs.twimg.com/media/FKLxVsRaIAEto1-.jpg', 'img_file': '9.jpg'}, {'text': '今夜は脚メインでいかせてください😳', 'img': 'http://pbs.twimg.com/media/FJoY94faUAQfYvY.jpg', 'img_file': '10.jpg'}, {'text': '華金やな〜🥰', 'img': 'http://pbs.twimg.com/media/FIfkEUVaQAwkKjS.jpg', 'img_file': '11.jpg'}, {'text': 'あけましておめでとうございます㊗️', 'img': 'http://pbs.twimg.com/media/FH-Pwi8aMAAbtr_.jpg', 'img_file': '12.jpg'}, {'text': '下乳、、、', 'img': 'http://pbs.twimg.com/media/FGQV6hIUYAUJ7Dg.jpg', 'img_file': '13.jpg'}, {'text': '眠れない深夜に投下します', 'img': 'http://pbs.twimg.com/media/FFS-_ksaIAAZQlK.jpg', 'img_file': '14.jpg'}]}\n",
      "{'tweet': [{'text': '五月病予防にどうですか？🥴', 'img': 'http://pbs.twimg.com/media/FRoRVE7akAAchJJ.jpg', 'img_file': '1.jpg'}, {'text': 'なんか知らない間に凄いことになってました😂', 'img': 'http://pbs.twimg.com/media/FQojlOfaMAUQu2s.jpg', 'img_file': '2.jpg'}, {'text': 'このブラ盛れるっ😋✨', 'img': 'http://pbs.twimg.com/media/FQg_3_CakAArWpn.jpg', 'img_file': '3.jpg'}, {'text': 'おっぱいようでございます🤗', 'img': 'http://pbs.twimg.com/media/FQGLoR6akAIGbYI.jpg', 'img_file': '4.jpg'}, {'text': '見えちゃいまひた😆', 'img': 'http://pbs.twimg.com/media/FPgK0ScaAAQ2gsU.jpg', 'img_file': '5.jpg'}, {'text': 'みんないつもコメントありがとぉ〜🥰', 'img': 'http://pbs.twimg.com/media/FOSOdnWacAcyjpr.jpg', 'img_file': '6.jpg'}, {'text': '気づいたら4000フォロワーいってました🎉', 'img': 'http://pbs.twimg.com/media/FMqjzHKaIAA_0Yk.jpg', 'img_file': '7.jpg'}, {'text': 'お久しぶりです🌹', 'img': 'http://pbs.twimg.com/media/FMmLQ2JakAE3y8b.jpg', 'img_file': '8.jpg'}, {'text': 'この時ぐらいまで髪切ろうか迷ってる、、', 'img': 'http://pbs.twimg.com/media/FKLxVsRaIAEto1-.jpg', 'img_file': '9.jpg'}, {'text': '今夜は脚メインでいかせてください😳', 'img': 'http://pbs.twimg.com/media/FJoY94faUAQfYvY.jpg', 'img_file': '10.jpg'}, {'text': '華金やな〜🥰', 'img': 'http://pbs.twimg.com/media/FIfkEUVaQAwkKjS.jpg', 'img_file': '11.jpg'}, {'text': 'あけましておめでとうございます㊗️', 'img': 'http://pbs.twimg.com/media/FH-Pwi8aMAAbtr_.jpg', 'img_file': '12.jpg'}, {'text': '下乳、、、', 'img': 'http://pbs.twimg.com/media/FGQV6hIUYAUJ7Dg.jpg', 'img_file': '13.jpg'}, {'text': '眠れない深夜に投下します', 'img': 'http://pbs.twimg.com/media/FFS-_ksaIAAZQlK.jpg', 'img_file': '14.jpg'}, {'text': '久しぶりなので3枚あげます😚', 'img': 'http://pbs.twimg.com/media/FDJxZ73agAA_w6P.jpg', 'img_file': '15.jpg'}]}\n"
     ]
    },
    {
     "name": "stderr",
     "output_type": "stream",
     "text": [
      "Unexpected parameter: id\n",
      "Unexpected parameter: include_entities\n",
      "Unexpected parameter: lang\n"
     ]
    },
    {
     "name": "stdout",
     "output_type": "stream",
     "text": [
      "{'tweet': [{'text': '五月病予防にどうですか？🥴', 'img': 'http://pbs.twimg.com/media/FRoRVE7akAAchJJ.jpg', 'img_file': '1.jpg'}, {'text': 'なんか知らない間に凄いことになってました😂', 'img': 'http://pbs.twimg.com/media/FQojlOfaMAUQu2s.jpg', 'img_file': '2.jpg'}, {'text': 'このブラ盛れるっ😋✨', 'img': 'http://pbs.twimg.com/media/FQg_3_CakAArWpn.jpg', 'img_file': '3.jpg'}, {'text': 'おっぱいようでございます🤗', 'img': 'http://pbs.twimg.com/media/FQGLoR6akAIGbYI.jpg', 'img_file': '4.jpg'}, {'text': '見えちゃいまひた😆', 'img': 'http://pbs.twimg.com/media/FPgK0ScaAAQ2gsU.jpg', 'img_file': '5.jpg'}, {'text': 'みんないつもコメントありがとぉ〜🥰', 'img': 'http://pbs.twimg.com/media/FOSOdnWacAcyjpr.jpg', 'img_file': '6.jpg'}, {'text': '気づいたら4000フォロワーいってました🎉', 'img': 'http://pbs.twimg.com/media/FMqjzHKaIAA_0Yk.jpg', 'img_file': '7.jpg'}, {'text': 'お久しぶりです🌹', 'img': 'http://pbs.twimg.com/media/FMmLQ2JakAE3y8b.jpg', 'img_file': '8.jpg'}, {'text': 'この時ぐらいまで髪切ろうか迷ってる、、', 'img': 'http://pbs.twimg.com/media/FKLxVsRaIAEto1-.jpg', 'img_file': '9.jpg'}, {'text': '今夜は脚メインでいかせてください😳', 'img': 'http://pbs.twimg.com/media/FJoY94faUAQfYvY.jpg', 'img_file': '10.jpg'}, {'text': '華金やな〜🥰', 'img': 'http://pbs.twimg.com/media/FIfkEUVaQAwkKjS.jpg', 'img_file': '11.jpg'}, {'text': 'あけましておめでとうございます㊗️', 'img': 'http://pbs.twimg.com/media/FH-Pwi8aMAAbtr_.jpg', 'img_file': '12.jpg'}, {'text': '下乳、、、', 'img': 'http://pbs.twimg.com/media/FGQV6hIUYAUJ7Dg.jpg', 'img_file': '13.jpg'}, {'text': '眠れない深夜に投下します', 'img': 'http://pbs.twimg.com/media/FFS-_ksaIAAZQlK.jpg', 'img_file': '14.jpg'}, {'text': '久しぶりなので3枚あげます😚', 'img': 'http://pbs.twimg.com/media/FDJxZ73agAA_w6P.jpg', 'img_file': '15.jpg'}, {'text': '🤗🤗🤗', 'img': 'http://pbs.twimg.com/media/FB5T9boUUAALg39.jpg', 'img_file': '16.jpg'}]}\n",
      "{'tweet': [{'text': '五月病予防にどうですか？🥴', 'img': 'http://pbs.twimg.com/media/FRoRVE7akAAchJJ.jpg', 'img_file': '1.jpg'}, {'text': 'なんか知らない間に凄いことになってました😂', 'img': 'http://pbs.twimg.com/media/FQojlOfaMAUQu2s.jpg', 'img_file': '2.jpg'}, {'text': 'このブラ盛れるっ😋✨', 'img': 'http://pbs.twimg.com/media/FQg_3_CakAArWpn.jpg', 'img_file': '3.jpg'}, {'text': 'おっぱいようでございます🤗', 'img': 'http://pbs.twimg.com/media/FQGLoR6akAIGbYI.jpg', 'img_file': '4.jpg'}, {'text': '見えちゃいまひた😆', 'img': 'http://pbs.twimg.com/media/FPgK0ScaAAQ2gsU.jpg', 'img_file': '5.jpg'}, {'text': 'みんないつもコメントありがとぉ〜🥰', 'img': 'http://pbs.twimg.com/media/FOSOdnWacAcyjpr.jpg', 'img_file': '6.jpg'}, {'text': '気づいたら4000フォロワーいってました🎉', 'img': 'http://pbs.twimg.com/media/FMqjzHKaIAA_0Yk.jpg', 'img_file': '7.jpg'}, {'text': 'お久しぶりです🌹', 'img': 'http://pbs.twimg.com/media/FMmLQ2JakAE3y8b.jpg', 'img_file': '8.jpg'}, {'text': 'この時ぐらいまで髪切ろうか迷ってる、、', 'img': 'http://pbs.twimg.com/media/FKLxVsRaIAEto1-.jpg', 'img_file': '9.jpg'}, {'text': '今夜は脚メインでいかせてください😳', 'img': 'http://pbs.twimg.com/media/FJoY94faUAQfYvY.jpg', 'img_file': '10.jpg'}, {'text': '華金やな〜🥰', 'img': 'http://pbs.twimg.com/media/FIfkEUVaQAwkKjS.jpg', 'img_file': '11.jpg'}, {'text': 'あけましておめでとうございます㊗️', 'img': 'http://pbs.twimg.com/media/FH-Pwi8aMAAbtr_.jpg', 'img_file': '12.jpg'}, {'text': '下乳、、、', 'img': 'http://pbs.twimg.com/media/FGQV6hIUYAUJ7Dg.jpg', 'img_file': '13.jpg'}, {'text': '眠れない深夜に投下します', 'img': 'http://pbs.twimg.com/media/FFS-_ksaIAAZQlK.jpg', 'img_file': '14.jpg'}, {'text': '久しぶりなので3枚あげます😚', 'img': 'http://pbs.twimg.com/media/FDJxZ73agAA_w6P.jpg', 'img_file': '15.jpg'}, {'text': '🤗🤗🤗', 'img': 'http://pbs.twimg.com/media/FB5T9boUUAALg39.jpg', 'img_file': '16.jpg'}, {'text': 'メイク盛れた💄✨', 'img': 'http://pbs.twimg.com/media/FBBboFtVgAgK5NZ.jpg', 'img_file': '17.jpg'}]}\n",
      "{'tweet': [{'text': '五月病予防にどうですか？🥴', 'img': 'http://pbs.twimg.com/media/FRoRVE7akAAchJJ.jpg', 'img_file': '1.jpg'}, {'text': 'なんか知らない間に凄いことになってました😂', 'img': 'http://pbs.twimg.com/media/FQojlOfaMAUQu2s.jpg', 'img_file': '2.jpg'}, {'text': 'このブラ盛れるっ😋✨', 'img': 'http://pbs.twimg.com/media/FQg_3_CakAArWpn.jpg', 'img_file': '3.jpg'}, {'text': 'おっぱいようでございます🤗', 'img': 'http://pbs.twimg.com/media/FQGLoR6akAIGbYI.jpg', 'img_file': '4.jpg'}, {'text': '見えちゃいまひた😆', 'img': 'http://pbs.twimg.com/media/FPgK0ScaAAQ2gsU.jpg', 'img_file': '5.jpg'}, {'text': 'みんないつもコメントありがとぉ〜🥰', 'img': 'http://pbs.twimg.com/media/FOSOdnWacAcyjpr.jpg', 'img_file': '6.jpg'}, {'text': '気づいたら4000フォロワーいってました🎉', 'img': 'http://pbs.twimg.com/media/FMqjzHKaIAA_0Yk.jpg', 'img_file': '7.jpg'}, {'text': 'お久しぶりです🌹', 'img': 'http://pbs.twimg.com/media/FMmLQ2JakAE3y8b.jpg', 'img_file': '8.jpg'}, {'text': 'この時ぐらいまで髪切ろうか迷ってる、、', 'img': 'http://pbs.twimg.com/media/FKLxVsRaIAEto1-.jpg', 'img_file': '9.jpg'}, {'text': '今夜は脚メインでいかせてください😳', 'img': 'http://pbs.twimg.com/media/FJoY94faUAQfYvY.jpg', 'img_file': '10.jpg'}, {'text': '華金やな〜🥰', 'img': 'http://pbs.twimg.com/media/FIfkEUVaQAwkKjS.jpg', 'img_file': '11.jpg'}, {'text': 'あけましておめでとうございます㊗️', 'img': 'http://pbs.twimg.com/media/FH-Pwi8aMAAbtr_.jpg', 'img_file': '12.jpg'}, {'text': '下乳、、、', 'img': 'http://pbs.twimg.com/media/FGQV6hIUYAUJ7Dg.jpg', 'img_file': '13.jpg'}, {'text': '眠れない深夜に投下します', 'img': 'http://pbs.twimg.com/media/FFS-_ksaIAAZQlK.jpg', 'img_file': '14.jpg'}, {'text': '久しぶりなので3枚あげます😚', 'img': 'http://pbs.twimg.com/media/FDJxZ73agAA_w6P.jpg', 'img_file': '15.jpg'}, {'text': '🤗🤗🤗', 'img': 'http://pbs.twimg.com/media/FB5T9boUUAALg39.jpg', 'img_file': '16.jpg'}, {'text': 'メイク盛れた💄✨', 'img': 'http://pbs.twimg.com/media/FBBboFtVgAgK5NZ.jpg', 'img_file': '17.jpg'}, {'text': 'ピンクが好きー💕', 'img': 'http://pbs.twimg.com/media/FA2QahWVkAMcwan.jpg', 'img_file': '18.jpg'}]}\n",
      "{'tweet': [{'text': '五月病予防にどうですか？🥴', 'img': 'http://pbs.twimg.com/media/FRoRVE7akAAchJJ.jpg', 'img_file': '1.jpg'}, {'text': 'なんか知らない間に凄いことになってました😂', 'img': 'http://pbs.twimg.com/media/FQojlOfaMAUQu2s.jpg', 'img_file': '2.jpg'}, {'text': 'このブラ盛れるっ😋✨', 'img': 'http://pbs.twimg.com/media/FQg_3_CakAArWpn.jpg', 'img_file': '3.jpg'}, {'text': 'おっぱいようでございます🤗', 'img': 'http://pbs.twimg.com/media/FQGLoR6akAIGbYI.jpg', 'img_file': '4.jpg'}, {'text': '見えちゃいまひた😆', 'img': 'http://pbs.twimg.com/media/FPgK0ScaAAQ2gsU.jpg', 'img_file': '5.jpg'}, {'text': 'みんないつもコメントありがとぉ〜🥰', 'img': 'http://pbs.twimg.com/media/FOSOdnWacAcyjpr.jpg', 'img_file': '6.jpg'}, {'text': '気づいたら4000フォロワーいってました🎉', 'img': 'http://pbs.twimg.com/media/FMqjzHKaIAA_0Yk.jpg', 'img_file': '7.jpg'}, {'text': 'お久しぶりです🌹', 'img': 'http://pbs.twimg.com/media/FMmLQ2JakAE3y8b.jpg', 'img_file': '8.jpg'}, {'text': 'この時ぐらいまで髪切ろうか迷ってる、、', 'img': 'http://pbs.twimg.com/media/FKLxVsRaIAEto1-.jpg', 'img_file': '9.jpg'}, {'text': '今夜は脚メインでいかせてください😳', 'img': 'http://pbs.twimg.com/media/FJoY94faUAQfYvY.jpg', 'img_file': '10.jpg'}, {'text': '華金やな〜🥰', 'img': 'http://pbs.twimg.com/media/FIfkEUVaQAwkKjS.jpg', 'img_file': '11.jpg'}, {'text': 'あけましておめでとうございます㊗️', 'img': 'http://pbs.twimg.com/media/FH-Pwi8aMAAbtr_.jpg', 'img_file': '12.jpg'}, {'text': '下乳、、、', 'img': 'http://pbs.twimg.com/media/FGQV6hIUYAUJ7Dg.jpg', 'img_file': '13.jpg'}, {'text': '眠れない深夜に投下します', 'img': 'http://pbs.twimg.com/media/FFS-_ksaIAAZQlK.jpg', 'img_file': '14.jpg'}, {'text': '久しぶりなので3枚あげます😚', 'img': 'http://pbs.twimg.com/media/FDJxZ73agAA_w6P.jpg', 'img_file': '15.jpg'}, {'text': '🤗🤗🤗', 'img': 'http://pbs.twimg.com/media/FB5T9boUUAALg39.jpg', 'img_file': '16.jpg'}, {'text': 'メイク盛れた💄✨', 'img': 'http://pbs.twimg.com/media/FBBboFtVgAgK5NZ.jpg', 'img_file': '17.jpg'}, {'text': 'ピンクが好きー💕', 'img': 'http://pbs.twimg.com/media/FA2QahWVkAMcwan.jpg', 'img_file': '18.jpg'}, {'text': 'ノーブラはどうですか？😋', 'img': 'http://pbs.twimg.com/media/FAYRcr4UcAQpA5e.jpg', 'img_file': '19.jpg'}]}\n",
      "{'tweet': [{'text': '五月病予防にどうですか？🥴', 'img': 'http://pbs.twimg.com/media/FRoRVE7akAAchJJ.jpg', 'img_file': '1.jpg'}, {'text': 'なんか知らない間に凄いことになってました😂', 'img': 'http://pbs.twimg.com/media/FQojlOfaMAUQu2s.jpg', 'img_file': '2.jpg'}, {'text': 'このブラ盛れるっ😋✨', 'img': 'http://pbs.twimg.com/media/FQg_3_CakAArWpn.jpg', 'img_file': '3.jpg'}, {'text': 'おっぱいようでございます🤗', 'img': 'http://pbs.twimg.com/media/FQGLoR6akAIGbYI.jpg', 'img_file': '4.jpg'}, {'text': '見えちゃいまひた😆', 'img': 'http://pbs.twimg.com/media/FPgK0ScaAAQ2gsU.jpg', 'img_file': '5.jpg'}, {'text': 'みんないつもコメントありがとぉ〜🥰', 'img': 'http://pbs.twimg.com/media/FOSOdnWacAcyjpr.jpg', 'img_file': '6.jpg'}, {'text': '気づいたら4000フォロワーいってました🎉', 'img': 'http://pbs.twimg.com/media/FMqjzHKaIAA_0Yk.jpg', 'img_file': '7.jpg'}, {'text': 'お久しぶりです🌹', 'img': 'http://pbs.twimg.com/media/FMmLQ2JakAE3y8b.jpg', 'img_file': '8.jpg'}, {'text': 'この時ぐらいまで髪切ろうか迷ってる、、', 'img': 'http://pbs.twimg.com/media/FKLxVsRaIAEto1-.jpg', 'img_file': '9.jpg'}, {'text': '今夜は脚メインでいかせてください😳', 'img': 'http://pbs.twimg.com/media/FJoY94faUAQfYvY.jpg', 'img_file': '10.jpg'}, {'text': '華金やな〜🥰', 'img': 'http://pbs.twimg.com/media/FIfkEUVaQAwkKjS.jpg', 'img_file': '11.jpg'}, {'text': 'あけましておめでとうございます㊗️', 'img': 'http://pbs.twimg.com/media/FH-Pwi8aMAAbtr_.jpg', 'img_file': '12.jpg'}, {'text': '下乳、、、', 'img': 'http://pbs.twimg.com/media/FGQV6hIUYAUJ7Dg.jpg', 'img_file': '13.jpg'}, {'text': '眠れない深夜に投下します', 'img': 'http://pbs.twimg.com/media/FFS-_ksaIAAZQlK.jpg', 'img_file': '14.jpg'}, {'text': '久しぶりなので3枚あげます😚', 'img': 'http://pbs.twimg.com/media/FDJxZ73agAA_w6P.jpg', 'img_file': '15.jpg'}, {'text': '🤗🤗🤗', 'img': 'http://pbs.twimg.com/media/FB5T9boUUAALg39.jpg', 'img_file': '16.jpg'}, {'text': 'メイク盛れた💄✨', 'img': 'http://pbs.twimg.com/media/FBBboFtVgAgK5NZ.jpg', 'img_file': '17.jpg'}, {'text': 'ピンクが好きー💕', 'img': 'http://pbs.twimg.com/media/FA2QahWVkAMcwan.jpg', 'img_file': '18.jpg'}, {'text': 'ノーブラはどうですか？😋', 'img': 'http://pbs.twimg.com/media/FAYRcr4UcAQpA5e.jpg', 'img_file': '19.jpg'}, {'text': 'こういうのはどうかな？☺️', 'img': 'http://pbs.twimg.com/media/FAH80_SVUAYEJf4.jpg', 'img_file': '20.jpg'}]}\n"
     ]
    },
    {
     "name": "stderr",
     "output_type": "stream",
     "text": [
      "Unexpected parameter: id\n",
      "Unexpected parameter: include_entities\n",
      "Unexpected parameter: lang\n"
     ]
    },
    {
     "name": "stdout",
     "output_type": "stream",
     "text": [
      "{'tweet': [{'text': '五月病予防にどうですか？🥴', 'img': 'http://pbs.twimg.com/media/FRoRVE7akAAchJJ.jpg', 'img_file': '1.jpg'}, {'text': 'なんか知らない間に凄いことになってました😂', 'img': 'http://pbs.twimg.com/media/FQojlOfaMAUQu2s.jpg', 'img_file': '2.jpg'}, {'text': 'このブラ盛れるっ😋✨', 'img': 'http://pbs.twimg.com/media/FQg_3_CakAArWpn.jpg', 'img_file': '3.jpg'}, {'text': 'おっぱいようでございます🤗', 'img': 'http://pbs.twimg.com/media/FQGLoR6akAIGbYI.jpg', 'img_file': '4.jpg'}, {'text': '見えちゃいまひた😆', 'img': 'http://pbs.twimg.com/media/FPgK0ScaAAQ2gsU.jpg', 'img_file': '5.jpg'}, {'text': 'みんないつもコメントありがとぉ〜🥰', 'img': 'http://pbs.twimg.com/media/FOSOdnWacAcyjpr.jpg', 'img_file': '6.jpg'}, {'text': '気づいたら4000フォロワーいってました🎉', 'img': 'http://pbs.twimg.com/media/FMqjzHKaIAA_0Yk.jpg', 'img_file': '7.jpg'}, {'text': 'お久しぶりです🌹', 'img': 'http://pbs.twimg.com/media/FMmLQ2JakAE3y8b.jpg', 'img_file': '8.jpg'}, {'text': 'この時ぐらいまで髪切ろうか迷ってる、、', 'img': 'http://pbs.twimg.com/media/FKLxVsRaIAEto1-.jpg', 'img_file': '9.jpg'}, {'text': '今夜は脚メインでいかせてください😳', 'img': 'http://pbs.twimg.com/media/FJoY94faUAQfYvY.jpg', 'img_file': '10.jpg'}, {'text': '華金やな〜🥰', 'img': 'http://pbs.twimg.com/media/FIfkEUVaQAwkKjS.jpg', 'img_file': '11.jpg'}, {'text': 'あけましておめでとうございます㊗️', 'img': 'http://pbs.twimg.com/media/FH-Pwi8aMAAbtr_.jpg', 'img_file': '12.jpg'}, {'text': '下乳、、、', 'img': 'http://pbs.twimg.com/media/FGQV6hIUYAUJ7Dg.jpg', 'img_file': '13.jpg'}, {'text': '眠れない深夜に投下します', 'img': 'http://pbs.twimg.com/media/FFS-_ksaIAAZQlK.jpg', 'img_file': '14.jpg'}, {'text': '久しぶりなので3枚あげます😚', 'img': 'http://pbs.twimg.com/media/FDJxZ73agAA_w6P.jpg', 'img_file': '15.jpg'}, {'text': '🤗🤗🤗', 'img': 'http://pbs.twimg.com/media/FB5T9boUUAALg39.jpg', 'img_file': '16.jpg'}, {'text': 'メイク盛れた💄✨', 'img': 'http://pbs.twimg.com/media/FBBboFtVgAgK5NZ.jpg', 'img_file': '17.jpg'}, {'text': 'ピンクが好きー💕', 'img': 'http://pbs.twimg.com/media/FA2QahWVkAMcwan.jpg', 'img_file': '18.jpg'}, {'text': 'ノーブラはどうですか？😋', 'img': 'http://pbs.twimg.com/media/FAYRcr4UcAQpA5e.jpg', 'img_file': '19.jpg'}, {'text': 'こういうのはどうかな？☺️', 'img': 'http://pbs.twimg.com/media/FAH80_SVUAYEJf4.jpg', 'img_file': '20.jpg'}, {'text': 'このブラ盛れる😋✨', 'img': 'http://pbs.twimg.com/media/E_pcyTMUYAEzlmx.jpg', 'img_file': '21.jpg'}]}\n",
      "{'tweet': [{'text': '五月病予防にどうですか？🥴', 'img': 'http://pbs.twimg.com/media/FRoRVE7akAAchJJ.jpg', 'img_file': '1.jpg'}, {'text': 'なんか知らない間に凄いことになってました😂', 'img': 'http://pbs.twimg.com/media/FQojlOfaMAUQu2s.jpg', 'img_file': '2.jpg'}, {'text': 'このブラ盛れるっ😋✨', 'img': 'http://pbs.twimg.com/media/FQg_3_CakAArWpn.jpg', 'img_file': '3.jpg'}, {'text': 'おっぱいようでございます🤗', 'img': 'http://pbs.twimg.com/media/FQGLoR6akAIGbYI.jpg', 'img_file': '4.jpg'}, {'text': '見えちゃいまひた😆', 'img': 'http://pbs.twimg.com/media/FPgK0ScaAAQ2gsU.jpg', 'img_file': '5.jpg'}, {'text': 'みんないつもコメントありがとぉ〜🥰', 'img': 'http://pbs.twimg.com/media/FOSOdnWacAcyjpr.jpg', 'img_file': '6.jpg'}, {'text': '気づいたら4000フォロワーいってました🎉', 'img': 'http://pbs.twimg.com/media/FMqjzHKaIAA_0Yk.jpg', 'img_file': '7.jpg'}, {'text': 'お久しぶりです🌹', 'img': 'http://pbs.twimg.com/media/FMmLQ2JakAE3y8b.jpg', 'img_file': '8.jpg'}, {'text': 'この時ぐらいまで髪切ろうか迷ってる、、', 'img': 'http://pbs.twimg.com/media/FKLxVsRaIAEto1-.jpg', 'img_file': '9.jpg'}, {'text': '今夜は脚メインでいかせてください😳', 'img': 'http://pbs.twimg.com/media/FJoY94faUAQfYvY.jpg', 'img_file': '10.jpg'}, {'text': '華金やな〜🥰', 'img': 'http://pbs.twimg.com/media/FIfkEUVaQAwkKjS.jpg', 'img_file': '11.jpg'}, {'text': 'あけましておめでとうございます㊗️', 'img': 'http://pbs.twimg.com/media/FH-Pwi8aMAAbtr_.jpg', 'img_file': '12.jpg'}, {'text': '下乳、、、', 'img': 'http://pbs.twimg.com/media/FGQV6hIUYAUJ7Dg.jpg', 'img_file': '13.jpg'}, {'text': '眠れない深夜に投下します', 'img': 'http://pbs.twimg.com/media/FFS-_ksaIAAZQlK.jpg', 'img_file': '14.jpg'}, {'text': '久しぶりなので3枚あげます😚', 'img': 'http://pbs.twimg.com/media/FDJxZ73agAA_w6P.jpg', 'img_file': '15.jpg'}, {'text': '🤗🤗🤗', 'img': 'http://pbs.twimg.com/media/FB5T9boUUAALg39.jpg', 'img_file': '16.jpg'}, {'text': 'メイク盛れた💄✨', 'img': 'http://pbs.twimg.com/media/FBBboFtVgAgK5NZ.jpg', 'img_file': '17.jpg'}, {'text': 'ピンクが好きー💕', 'img': 'http://pbs.twimg.com/media/FA2QahWVkAMcwan.jpg', 'img_file': '18.jpg'}, {'text': 'ノーブラはどうですか？😋', 'img': 'http://pbs.twimg.com/media/FAYRcr4UcAQpA5e.jpg', 'img_file': '19.jpg'}, {'text': 'こういうのはどうかな？☺️', 'img': 'http://pbs.twimg.com/media/FAH80_SVUAYEJf4.jpg', 'img_file': '20.jpg'}, {'text': 'このブラ盛れる😋✨', 'img': 'http://pbs.twimg.com/media/E_pcyTMUYAEzlmx.jpg', 'img_file': '21.jpg'}, {'text': 'ゴロゴロ🌻', 'img': 'http://pbs.twimg.com/media/E_U3R5UUUAEgzTj.jpg', 'img_file': '22.jpg'}]}\n",
      "{'tweet': [{'text': '五月病予防にどうですか？🥴', 'img': 'http://pbs.twimg.com/media/FRoRVE7akAAchJJ.jpg', 'img_file': '1.jpg'}, {'text': 'なんか知らない間に凄いことになってました😂', 'img': 'http://pbs.twimg.com/media/FQojlOfaMAUQu2s.jpg', 'img_file': '2.jpg'}, {'text': 'このブラ盛れるっ😋✨', 'img': 'http://pbs.twimg.com/media/FQg_3_CakAArWpn.jpg', 'img_file': '3.jpg'}, {'text': 'おっぱいようでございます🤗', 'img': 'http://pbs.twimg.com/media/FQGLoR6akAIGbYI.jpg', 'img_file': '4.jpg'}, {'text': '見えちゃいまひた😆', 'img': 'http://pbs.twimg.com/media/FPgK0ScaAAQ2gsU.jpg', 'img_file': '5.jpg'}, {'text': 'みんないつもコメントありがとぉ〜🥰', 'img': 'http://pbs.twimg.com/media/FOSOdnWacAcyjpr.jpg', 'img_file': '6.jpg'}, {'text': '気づいたら4000フォロワーいってました🎉', 'img': 'http://pbs.twimg.com/media/FMqjzHKaIAA_0Yk.jpg', 'img_file': '7.jpg'}, {'text': 'お久しぶりです🌹', 'img': 'http://pbs.twimg.com/media/FMmLQ2JakAE3y8b.jpg', 'img_file': '8.jpg'}, {'text': 'この時ぐらいまで髪切ろうか迷ってる、、', 'img': 'http://pbs.twimg.com/media/FKLxVsRaIAEto1-.jpg', 'img_file': '9.jpg'}, {'text': '今夜は脚メインでいかせてください😳', 'img': 'http://pbs.twimg.com/media/FJoY94faUAQfYvY.jpg', 'img_file': '10.jpg'}, {'text': '華金やな〜🥰', 'img': 'http://pbs.twimg.com/media/FIfkEUVaQAwkKjS.jpg', 'img_file': '11.jpg'}, {'text': 'あけましておめでとうございます㊗️', 'img': 'http://pbs.twimg.com/media/FH-Pwi8aMAAbtr_.jpg', 'img_file': '12.jpg'}, {'text': '下乳、、、', 'img': 'http://pbs.twimg.com/media/FGQV6hIUYAUJ7Dg.jpg', 'img_file': '13.jpg'}, {'text': '眠れない深夜に投下します', 'img': 'http://pbs.twimg.com/media/FFS-_ksaIAAZQlK.jpg', 'img_file': '14.jpg'}, {'text': '久しぶりなので3枚あげます😚', 'img': 'http://pbs.twimg.com/media/FDJxZ73agAA_w6P.jpg', 'img_file': '15.jpg'}, {'text': '🤗🤗🤗', 'img': 'http://pbs.twimg.com/media/FB5T9boUUAALg39.jpg', 'img_file': '16.jpg'}, {'text': 'メイク盛れた💄✨', 'img': 'http://pbs.twimg.com/media/FBBboFtVgAgK5NZ.jpg', 'img_file': '17.jpg'}, {'text': 'ピンクが好きー💕', 'img': 'http://pbs.twimg.com/media/FA2QahWVkAMcwan.jpg', 'img_file': '18.jpg'}, {'text': 'ノーブラはどうですか？😋', 'img': 'http://pbs.twimg.com/media/FAYRcr4UcAQpA5e.jpg', 'img_file': '19.jpg'}, {'text': 'こういうのはどうかな？☺️', 'img': 'http://pbs.twimg.com/media/FAH80_SVUAYEJf4.jpg', 'img_file': '20.jpg'}, {'text': 'このブラ盛れる😋✨', 'img': 'http://pbs.twimg.com/media/E_pcyTMUYAEzlmx.jpg', 'img_file': '21.jpg'}, {'text': 'ゴロゴロ🌻', 'img': 'http://pbs.twimg.com/media/E_U3R5UUUAEgzTj.jpg', 'img_file': '22.jpg'}, {'text': '暑いから脱ぐの手伝ってくれない？🥺', 'img': 'http://pbs.twimg.com/media/E-6rkj8VkAYdLKX.jpg', 'img_file': '23.jpg'}]}\n",
      "{'tweet': [{'text': '五月病予防にどうですか？🥴', 'img': 'http://pbs.twimg.com/media/FRoRVE7akAAchJJ.jpg', 'img_file': '1.jpg'}, {'text': 'なんか知らない間に凄いことになってました😂', 'img': 'http://pbs.twimg.com/media/FQojlOfaMAUQu2s.jpg', 'img_file': '2.jpg'}, {'text': 'このブラ盛れるっ😋✨', 'img': 'http://pbs.twimg.com/media/FQg_3_CakAArWpn.jpg', 'img_file': '3.jpg'}, {'text': 'おっぱいようでございます🤗', 'img': 'http://pbs.twimg.com/media/FQGLoR6akAIGbYI.jpg', 'img_file': '4.jpg'}, {'text': '見えちゃいまひた😆', 'img': 'http://pbs.twimg.com/media/FPgK0ScaAAQ2gsU.jpg', 'img_file': '5.jpg'}, {'text': 'みんないつもコメントありがとぉ〜🥰', 'img': 'http://pbs.twimg.com/media/FOSOdnWacAcyjpr.jpg', 'img_file': '6.jpg'}, {'text': '気づいたら4000フォロワーいってました🎉', 'img': 'http://pbs.twimg.com/media/FMqjzHKaIAA_0Yk.jpg', 'img_file': '7.jpg'}, {'text': 'お久しぶりです🌹', 'img': 'http://pbs.twimg.com/media/FMmLQ2JakAE3y8b.jpg', 'img_file': '8.jpg'}, {'text': 'この時ぐらいまで髪切ろうか迷ってる、、', 'img': 'http://pbs.twimg.com/media/FKLxVsRaIAEto1-.jpg', 'img_file': '9.jpg'}, {'text': '今夜は脚メインでいかせてください😳', 'img': 'http://pbs.twimg.com/media/FJoY94faUAQfYvY.jpg', 'img_file': '10.jpg'}, {'text': '華金やな〜🥰', 'img': 'http://pbs.twimg.com/media/FIfkEUVaQAwkKjS.jpg', 'img_file': '11.jpg'}, {'text': 'あけましておめでとうございます㊗️', 'img': 'http://pbs.twimg.com/media/FH-Pwi8aMAAbtr_.jpg', 'img_file': '12.jpg'}, {'text': '下乳、、、', 'img': 'http://pbs.twimg.com/media/FGQV6hIUYAUJ7Dg.jpg', 'img_file': '13.jpg'}, {'text': '眠れない深夜に投下します', 'img': 'http://pbs.twimg.com/media/FFS-_ksaIAAZQlK.jpg', 'img_file': '14.jpg'}, {'text': '久しぶりなので3枚あげます😚', 'img': 'http://pbs.twimg.com/media/FDJxZ73agAA_w6P.jpg', 'img_file': '15.jpg'}, {'text': '🤗🤗🤗', 'img': 'http://pbs.twimg.com/media/FB5T9boUUAALg39.jpg', 'img_file': '16.jpg'}, {'text': 'メイク盛れた💄✨', 'img': 'http://pbs.twimg.com/media/FBBboFtVgAgK5NZ.jpg', 'img_file': '17.jpg'}, {'text': 'ピンクが好きー💕', 'img': 'http://pbs.twimg.com/media/FA2QahWVkAMcwan.jpg', 'img_file': '18.jpg'}, {'text': 'ノーブラはどうですか？😋', 'img': 'http://pbs.twimg.com/media/FAYRcr4UcAQpA5e.jpg', 'img_file': '19.jpg'}, {'text': 'こういうのはどうかな？☺️', 'img': 'http://pbs.twimg.com/media/FAH80_SVUAYEJf4.jpg', 'img_file': '20.jpg'}, {'text': 'このブラ盛れる😋✨', 'img': 'http://pbs.twimg.com/media/E_pcyTMUYAEzlmx.jpg', 'img_file': '21.jpg'}, {'text': 'ゴロゴロ🌻', 'img': 'http://pbs.twimg.com/media/E_U3R5UUUAEgzTj.jpg', 'img_file': '22.jpg'}, {'text': '暑いから脱ぐの手伝ってくれない？🥺', 'img': 'http://pbs.twimg.com/media/E-6rkj8VkAYdLKX.jpg', 'img_file': '23.jpg'}, {'text': '目線下がった人挙手✋', 'img': 'http://pbs.twimg.com/media/E-yRqG-VkAElZ5R.jpg', 'img_file': '24.jpg'}]}\n",
      "{'tweet': [{'text': '五月病予防にどうですか？🥴', 'img': 'http://pbs.twimg.com/media/FRoRVE7akAAchJJ.jpg', 'img_file': '1.jpg'}, {'text': 'なんか知らない間に凄いことになってました😂', 'img': 'http://pbs.twimg.com/media/FQojlOfaMAUQu2s.jpg', 'img_file': '2.jpg'}, {'text': 'このブラ盛れるっ😋✨', 'img': 'http://pbs.twimg.com/media/FQg_3_CakAArWpn.jpg', 'img_file': '3.jpg'}, {'text': 'おっぱいようでございます🤗', 'img': 'http://pbs.twimg.com/media/FQGLoR6akAIGbYI.jpg', 'img_file': '4.jpg'}, {'text': '見えちゃいまひた😆', 'img': 'http://pbs.twimg.com/media/FPgK0ScaAAQ2gsU.jpg', 'img_file': '5.jpg'}, {'text': 'みんないつもコメントありがとぉ〜🥰', 'img': 'http://pbs.twimg.com/media/FOSOdnWacAcyjpr.jpg', 'img_file': '6.jpg'}, {'text': '気づいたら4000フォロワーいってました🎉', 'img': 'http://pbs.twimg.com/media/FMqjzHKaIAA_0Yk.jpg', 'img_file': '7.jpg'}, {'text': 'お久しぶりです🌹', 'img': 'http://pbs.twimg.com/media/FMmLQ2JakAE3y8b.jpg', 'img_file': '8.jpg'}, {'text': 'この時ぐらいまで髪切ろうか迷ってる、、', 'img': 'http://pbs.twimg.com/media/FKLxVsRaIAEto1-.jpg', 'img_file': '9.jpg'}, {'text': '今夜は脚メインでいかせてください😳', 'img': 'http://pbs.twimg.com/media/FJoY94faUAQfYvY.jpg', 'img_file': '10.jpg'}, {'text': '華金やな〜🥰', 'img': 'http://pbs.twimg.com/media/FIfkEUVaQAwkKjS.jpg', 'img_file': '11.jpg'}, {'text': 'あけましておめでとうございます㊗️', 'img': 'http://pbs.twimg.com/media/FH-Pwi8aMAAbtr_.jpg', 'img_file': '12.jpg'}, {'text': '下乳、、、', 'img': 'http://pbs.twimg.com/media/FGQV6hIUYAUJ7Dg.jpg', 'img_file': '13.jpg'}, {'text': '眠れない深夜に投下します', 'img': 'http://pbs.twimg.com/media/FFS-_ksaIAAZQlK.jpg', 'img_file': '14.jpg'}, {'text': '久しぶりなので3枚あげます😚', 'img': 'http://pbs.twimg.com/media/FDJxZ73agAA_w6P.jpg', 'img_file': '15.jpg'}, {'text': '🤗🤗🤗', 'img': 'http://pbs.twimg.com/media/FB5T9boUUAALg39.jpg', 'img_file': '16.jpg'}, {'text': 'メイク盛れた💄✨', 'img': 'http://pbs.twimg.com/media/FBBboFtVgAgK5NZ.jpg', 'img_file': '17.jpg'}, {'text': 'ピンクが好きー💕', 'img': 'http://pbs.twimg.com/media/FA2QahWVkAMcwan.jpg', 'img_file': '18.jpg'}, {'text': 'ノーブラはどうですか？😋', 'img': 'http://pbs.twimg.com/media/FAYRcr4UcAQpA5e.jpg', 'img_file': '19.jpg'}, {'text': 'こういうのはどうかな？☺️', 'img': 'http://pbs.twimg.com/media/FAH80_SVUAYEJf4.jpg', 'img_file': '20.jpg'}, {'text': 'このブラ盛れる😋✨', 'img': 'http://pbs.twimg.com/media/E_pcyTMUYAEzlmx.jpg', 'img_file': '21.jpg'}, {'text': 'ゴロゴロ🌻', 'img': 'http://pbs.twimg.com/media/E_U3R5UUUAEgzTj.jpg', 'img_file': '22.jpg'}, {'text': '暑いから脱ぐの手伝ってくれない？🥺', 'img': 'http://pbs.twimg.com/media/E-6rkj8VkAYdLKX.jpg', 'img_file': '23.jpg'}, {'text': '目線下がった人挙手✋', 'img': 'http://pbs.twimg.com/media/E-yRqG-VkAElZ5R.jpg', 'img_file': '24.jpg'}, {'text': 'フォロワー900いった✨', 'img': 'http://pbs.twimg.com/media/E-qOCS-VQAEikfY.jpg', 'img_file': '25.jpg'}]}\n"
     ]
    },
    {
     "name": "stderr",
     "output_type": "stream",
     "text": [
      "Unexpected parameter: id\n",
      "Unexpected parameter: include_entities\n",
      "Unexpected parameter: lang\n"
     ]
    },
    {
     "name": "stdout",
     "output_type": "stream",
     "text": [
      "{'tweet': [{'text': '五月病予防にどうですか？🥴', 'img': 'http://pbs.twimg.com/media/FRoRVE7akAAchJJ.jpg', 'img_file': '1.jpg'}, {'text': 'なんか知らない間に凄いことになってました😂', 'img': 'http://pbs.twimg.com/media/FQojlOfaMAUQu2s.jpg', 'img_file': '2.jpg'}, {'text': 'このブラ盛れるっ😋✨', 'img': 'http://pbs.twimg.com/media/FQg_3_CakAArWpn.jpg', 'img_file': '3.jpg'}, {'text': 'おっぱいようでございます🤗', 'img': 'http://pbs.twimg.com/media/FQGLoR6akAIGbYI.jpg', 'img_file': '4.jpg'}, {'text': '見えちゃいまひた😆', 'img': 'http://pbs.twimg.com/media/FPgK0ScaAAQ2gsU.jpg', 'img_file': '5.jpg'}, {'text': 'みんないつもコメントありがとぉ〜🥰', 'img': 'http://pbs.twimg.com/media/FOSOdnWacAcyjpr.jpg', 'img_file': '6.jpg'}, {'text': '気づいたら4000フォロワーいってました🎉', 'img': 'http://pbs.twimg.com/media/FMqjzHKaIAA_0Yk.jpg', 'img_file': '7.jpg'}, {'text': 'お久しぶりです🌹', 'img': 'http://pbs.twimg.com/media/FMmLQ2JakAE3y8b.jpg', 'img_file': '8.jpg'}, {'text': 'この時ぐらいまで髪切ろうか迷ってる、、', 'img': 'http://pbs.twimg.com/media/FKLxVsRaIAEto1-.jpg', 'img_file': '9.jpg'}, {'text': '今夜は脚メインでいかせてください😳', 'img': 'http://pbs.twimg.com/media/FJoY94faUAQfYvY.jpg', 'img_file': '10.jpg'}, {'text': '華金やな〜🥰', 'img': 'http://pbs.twimg.com/media/FIfkEUVaQAwkKjS.jpg', 'img_file': '11.jpg'}, {'text': 'あけましておめでとうございます㊗️', 'img': 'http://pbs.twimg.com/media/FH-Pwi8aMAAbtr_.jpg', 'img_file': '12.jpg'}, {'text': '下乳、、、', 'img': 'http://pbs.twimg.com/media/FGQV6hIUYAUJ7Dg.jpg', 'img_file': '13.jpg'}, {'text': '眠れない深夜に投下します', 'img': 'http://pbs.twimg.com/media/FFS-_ksaIAAZQlK.jpg', 'img_file': '14.jpg'}, {'text': '久しぶりなので3枚あげます😚', 'img': 'http://pbs.twimg.com/media/FDJxZ73agAA_w6P.jpg', 'img_file': '15.jpg'}, {'text': '🤗🤗🤗', 'img': 'http://pbs.twimg.com/media/FB5T9boUUAALg39.jpg', 'img_file': '16.jpg'}, {'text': 'メイク盛れた💄✨', 'img': 'http://pbs.twimg.com/media/FBBboFtVgAgK5NZ.jpg', 'img_file': '17.jpg'}, {'text': 'ピンクが好きー💕', 'img': 'http://pbs.twimg.com/media/FA2QahWVkAMcwan.jpg', 'img_file': '18.jpg'}, {'text': 'ノーブラはどうですか？😋', 'img': 'http://pbs.twimg.com/media/FAYRcr4UcAQpA5e.jpg', 'img_file': '19.jpg'}, {'text': 'こういうのはどうかな？☺️', 'img': 'http://pbs.twimg.com/media/FAH80_SVUAYEJf4.jpg', 'img_file': '20.jpg'}, {'text': 'このブラ盛れる😋✨', 'img': 'http://pbs.twimg.com/media/E_pcyTMUYAEzlmx.jpg', 'img_file': '21.jpg'}, {'text': 'ゴロゴロ🌻', 'img': 'http://pbs.twimg.com/media/E_U3R5UUUAEgzTj.jpg', 'img_file': '22.jpg'}, {'text': '暑いから脱ぐの手伝ってくれない？🥺', 'img': 'http://pbs.twimg.com/media/E-6rkj8VkAYdLKX.jpg', 'img_file': '23.jpg'}, {'text': '目線下がった人挙手✋', 'img': 'http://pbs.twimg.com/media/E-yRqG-VkAElZ5R.jpg', 'img_file': '24.jpg'}, {'text': 'フォロワー900いった✨', 'img': 'http://pbs.twimg.com/media/E-qOCS-VQAEikfY.jpg', 'img_file': '25.jpg'}, {'text': '今日もお疲れ様でした😚', 'img': 'http://pbs.twimg.com/media/E-mSTJQVgAs3xow.jpg', 'img_file': '26.jpg'}]}\n",
      "{'tweet': [{'text': '五月病予防にどうですか？🥴', 'img': 'http://pbs.twimg.com/media/FRoRVE7akAAchJJ.jpg', 'img_file': '1.jpg'}, {'text': 'なんか知らない間に凄いことになってました😂', 'img': 'http://pbs.twimg.com/media/FQojlOfaMAUQu2s.jpg', 'img_file': '2.jpg'}, {'text': 'このブラ盛れるっ😋✨', 'img': 'http://pbs.twimg.com/media/FQg_3_CakAArWpn.jpg', 'img_file': '3.jpg'}, {'text': 'おっぱいようでございます🤗', 'img': 'http://pbs.twimg.com/media/FQGLoR6akAIGbYI.jpg', 'img_file': '4.jpg'}, {'text': '見えちゃいまひた😆', 'img': 'http://pbs.twimg.com/media/FPgK0ScaAAQ2gsU.jpg', 'img_file': '5.jpg'}, {'text': 'みんないつもコメントありがとぉ〜🥰', 'img': 'http://pbs.twimg.com/media/FOSOdnWacAcyjpr.jpg', 'img_file': '6.jpg'}, {'text': '気づいたら4000フォロワーいってました🎉', 'img': 'http://pbs.twimg.com/media/FMqjzHKaIAA_0Yk.jpg', 'img_file': '7.jpg'}, {'text': 'お久しぶりです🌹', 'img': 'http://pbs.twimg.com/media/FMmLQ2JakAE3y8b.jpg', 'img_file': '8.jpg'}, {'text': 'この時ぐらいまで髪切ろうか迷ってる、、', 'img': 'http://pbs.twimg.com/media/FKLxVsRaIAEto1-.jpg', 'img_file': '9.jpg'}, {'text': '今夜は脚メインでいかせてください😳', 'img': 'http://pbs.twimg.com/media/FJoY94faUAQfYvY.jpg', 'img_file': '10.jpg'}, {'text': '華金やな〜🥰', 'img': 'http://pbs.twimg.com/media/FIfkEUVaQAwkKjS.jpg', 'img_file': '11.jpg'}, {'text': 'あけましておめでとうございます㊗️', 'img': 'http://pbs.twimg.com/media/FH-Pwi8aMAAbtr_.jpg', 'img_file': '12.jpg'}, {'text': '下乳、、、', 'img': 'http://pbs.twimg.com/media/FGQV6hIUYAUJ7Dg.jpg', 'img_file': '13.jpg'}, {'text': '眠れない深夜に投下します', 'img': 'http://pbs.twimg.com/media/FFS-_ksaIAAZQlK.jpg', 'img_file': '14.jpg'}, {'text': '久しぶりなので3枚あげます😚', 'img': 'http://pbs.twimg.com/media/FDJxZ73agAA_w6P.jpg', 'img_file': '15.jpg'}, {'text': '🤗🤗🤗', 'img': 'http://pbs.twimg.com/media/FB5T9boUUAALg39.jpg', 'img_file': '16.jpg'}, {'text': 'メイク盛れた💄✨', 'img': 'http://pbs.twimg.com/media/FBBboFtVgAgK5NZ.jpg', 'img_file': '17.jpg'}, {'text': 'ピンクが好きー💕', 'img': 'http://pbs.twimg.com/media/FA2QahWVkAMcwan.jpg', 'img_file': '18.jpg'}, {'text': 'ノーブラはどうですか？😋', 'img': 'http://pbs.twimg.com/media/FAYRcr4UcAQpA5e.jpg', 'img_file': '19.jpg'}, {'text': 'こういうのはどうかな？☺️', 'img': 'http://pbs.twimg.com/media/FAH80_SVUAYEJf4.jpg', 'img_file': '20.jpg'}, {'text': 'このブラ盛れる😋✨', 'img': 'http://pbs.twimg.com/media/E_pcyTMUYAEzlmx.jpg', 'img_file': '21.jpg'}, {'text': 'ゴロゴロ🌻', 'img': 'http://pbs.twimg.com/media/E_U3R5UUUAEgzTj.jpg', 'img_file': '22.jpg'}, {'text': '暑いから脱ぐの手伝ってくれない？🥺', 'img': 'http://pbs.twimg.com/media/E-6rkj8VkAYdLKX.jpg', 'img_file': '23.jpg'}, {'text': '目線下がった人挙手✋', 'img': 'http://pbs.twimg.com/media/E-yRqG-VkAElZ5R.jpg', 'img_file': '24.jpg'}, {'text': 'フォロワー900いった✨', 'img': 'http://pbs.twimg.com/media/E-qOCS-VQAEikfY.jpg', 'img_file': '25.jpg'}, {'text': '今日もお疲れ様でした😚', 'img': 'http://pbs.twimg.com/media/E-mSTJQVgAs3xow.jpg', 'img_file': '26.jpg'}, {'text': 'いいねとフォローしてくれたら嬉しいな💕', 'img': 'http://pbs.twimg.com/media/E-Z2A9DVIAErQ22.jpg', 'img_file': '27.jpg'}]}\n",
      "{'tweet': [{'text': '五月病予防にどうですか？🥴', 'img': 'http://pbs.twimg.com/media/FRoRVE7akAAchJJ.jpg', 'img_file': '1.jpg'}, {'text': 'なんか知らない間に凄いことになってました😂', 'img': 'http://pbs.twimg.com/media/FQojlOfaMAUQu2s.jpg', 'img_file': '2.jpg'}, {'text': 'このブラ盛れるっ😋✨', 'img': 'http://pbs.twimg.com/media/FQg_3_CakAArWpn.jpg', 'img_file': '3.jpg'}, {'text': 'おっぱいようでございます🤗', 'img': 'http://pbs.twimg.com/media/FQGLoR6akAIGbYI.jpg', 'img_file': '4.jpg'}, {'text': '見えちゃいまひた😆', 'img': 'http://pbs.twimg.com/media/FPgK0ScaAAQ2gsU.jpg', 'img_file': '5.jpg'}, {'text': 'みんないつもコメントありがとぉ〜🥰', 'img': 'http://pbs.twimg.com/media/FOSOdnWacAcyjpr.jpg', 'img_file': '6.jpg'}, {'text': '気づいたら4000フォロワーいってました🎉', 'img': 'http://pbs.twimg.com/media/FMqjzHKaIAA_0Yk.jpg', 'img_file': '7.jpg'}, {'text': 'お久しぶりです🌹', 'img': 'http://pbs.twimg.com/media/FMmLQ2JakAE3y8b.jpg', 'img_file': '8.jpg'}, {'text': 'この時ぐらいまで髪切ろうか迷ってる、、', 'img': 'http://pbs.twimg.com/media/FKLxVsRaIAEto1-.jpg', 'img_file': '9.jpg'}, {'text': '今夜は脚メインでいかせてください😳', 'img': 'http://pbs.twimg.com/media/FJoY94faUAQfYvY.jpg', 'img_file': '10.jpg'}, {'text': '華金やな〜🥰', 'img': 'http://pbs.twimg.com/media/FIfkEUVaQAwkKjS.jpg', 'img_file': '11.jpg'}, {'text': 'あけましておめでとうございます㊗️', 'img': 'http://pbs.twimg.com/media/FH-Pwi8aMAAbtr_.jpg', 'img_file': '12.jpg'}, {'text': '下乳、、、', 'img': 'http://pbs.twimg.com/media/FGQV6hIUYAUJ7Dg.jpg', 'img_file': '13.jpg'}, {'text': '眠れない深夜に投下します', 'img': 'http://pbs.twimg.com/media/FFS-_ksaIAAZQlK.jpg', 'img_file': '14.jpg'}, {'text': '久しぶりなので3枚あげます😚', 'img': 'http://pbs.twimg.com/media/FDJxZ73agAA_w6P.jpg', 'img_file': '15.jpg'}, {'text': '🤗🤗🤗', 'img': 'http://pbs.twimg.com/media/FB5T9boUUAALg39.jpg', 'img_file': '16.jpg'}, {'text': 'メイク盛れた💄✨', 'img': 'http://pbs.twimg.com/media/FBBboFtVgAgK5NZ.jpg', 'img_file': '17.jpg'}, {'text': 'ピンクが好きー💕', 'img': 'http://pbs.twimg.com/media/FA2QahWVkAMcwan.jpg', 'img_file': '18.jpg'}, {'text': 'ノーブラはどうですか？😋', 'img': 'http://pbs.twimg.com/media/FAYRcr4UcAQpA5e.jpg', 'img_file': '19.jpg'}, {'text': 'こういうのはどうかな？☺️', 'img': 'http://pbs.twimg.com/media/FAH80_SVUAYEJf4.jpg', 'img_file': '20.jpg'}, {'text': 'このブラ盛れる😋✨', 'img': 'http://pbs.twimg.com/media/E_pcyTMUYAEzlmx.jpg', 'img_file': '21.jpg'}, {'text': 'ゴロゴロ🌻', 'img': 'http://pbs.twimg.com/media/E_U3R5UUUAEgzTj.jpg', 'img_file': '22.jpg'}, {'text': '暑いから脱ぐの手伝ってくれない？🥺', 'img': 'http://pbs.twimg.com/media/E-6rkj8VkAYdLKX.jpg', 'img_file': '23.jpg'}, {'text': '目線下がった人挙手✋', 'img': 'http://pbs.twimg.com/media/E-yRqG-VkAElZ5R.jpg', 'img_file': '24.jpg'}, {'text': 'フォロワー900いった✨', 'img': 'http://pbs.twimg.com/media/E-qOCS-VQAEikfY.jpg', 'img_file': '25.jpg'}, {'text': '今日もお疲れ様でした😚', 'img': 'http://pbs.twimg.com/media/E-mSTJQVgAs3xow.jpg', 'img_file': '26.jpg'}, {'text': 'いいねとフォローしてくれたら嬉しいな💕', 'img': 'http://pbs.twimg.com/media/E-Z2A9DVIAErQ22.jpg', 'img_file': '27.jpg'}, {'text': 'ブラの紐がキラキラでお気に入り😘', 'img': 'http://pbs.twimg.com/media/E-VV-KuVcAM5wtD.jpg', 'img_file': '28.jpg'}]}\n",
      "{'tweet': [{'text': '五月病予防にどうですか？🥴', 'img': 'http://pbs.twimg.com/media/FRoRVE7akAAchJJ.jpg', 'img_file': '1.jpg'}, {'text': 'なんか知らない間に凄いことになってました😂', 'img': 'http://pbs.twimg.com/media/FQojlOfaMAUQu2s.jpg', 'img_file': '2.jpg'}, {'text': 'このブラ盛れるっ😋✨', 'img': 'http://pbs.twimg.com/media/FQg_3_CakAArWpn.jpg', 'img_file': '3.jpg'}, {'text': 'おっぱいようでございます🤗', 'img': 'http://pbs.twimg.com/media/FQGLoR6akAIGbYI.jpg', 'img_file': '4.jpg'}, {'text': '見えちゃいまひた😆', 'img': 'http://pbs.twimg.com/media/FPgK0ScaAAQ2gsU.jpg', 'img_file': '5.jpg'}, {'text': 'みんないつもコメントありがとぉ〜🥰', 'img': 'http://pbs.twimg.com/media/FOSOdnWacAcyjpr.jpg', 'img_file': '6.jpg'}, {'text': '気づいたら4000フォロワーいってました🎉', 'img': 'http://pbs.twimg.com/media/FMqjzHKaIAA_0Yk.jpg', 'img_file': '7.jpg'}, {'text': 'お久しぶりです🌹', 'img': 'http://pbs.twimg.com/media/FMmLQ2JakAE3y8b.jpg', 'img_file': '8.jpg'}, {'text': 'この時ぐらいまで髪切ろうか迷ってる、、', 'img': 'http://pbs.twimg.com/media/FKLxVsRaIAEto1-.jpg', 'img_file': '9.jpg'}, {'text': '今夜は脚メインでいかせてください😳', 'img': 'http://pbs.twimg.com/media/FJoY94faUAQfYvY.jpg', 'img_file': '10.jpg'}, {'text': '華金やな〜🥰', 'img': 'http://pbs.twimg.com/media/FIfkEUVaQAwkKjS.jpg', 'img_file': '11.jpg'}, {'text': 'あけましておめでとうございます㊗️', 'img': 'http://pbs.twimg.com/media/FH-Pwi8aMAAbtr_.jpg', 'img_file': '12.jpg'}, {'text': '下乳、、、', 'img': 'http://pbs.twimg.com/media/FGQV6hIUYAUJ7Dg.jpg', 'img_file': '13.jpg'}, {'text': '眠れない深夜に投下します', 'img': 'http://pbs.twimg.com/media/FFS-_ksaIAAZQlK.jpg', 'img_file': '14.jpg'}, {'text': '久しぶりなので3枚あげます😚', 'img': 'http://pbs.twimg.com/media/FDJxZ73agAA_w6P.jpg', 'img_file': '15.jpg'}, {'text': '🤗🤗🤗', 'img': 'http://pbs.twimg.com/media/FB5T9boUUAALg39.jpg', 'img_file': '16.jpg'}, {'text': 'メイク盛れた💄✨', 'img': 'http://pbs.twimg.com/media/FBBboFtVgAgK5NZ.jpg', 'img_file': '17.jpg'}, {'text': 'ピンクが好きー💕', 'img': 'http://pbs.twimg.com/media/FA2QahWVkAMcwan.jpg', 'img_file': '18.jpg'}, {'text': 'ノーブラはどうですか？😋', 'img': 'http://pbs.twimg.com/media/FAYRcr4UcAQpA5e.jpg', 'img_file': '19.jpg'}, {'text': 'こういうのはどうかな？☺️', 'img': 'http://pbs.twimg.com/media/FAH80_SVUAYEJf4.jpg', 'img_file': '20.jpg'}, {'text': 'このブラ盛れる😋✨', 'img': 'http://pbs.twimg.com/media/E_pcyTMUYAEzlmx.jpg', 'img_file': '21.jpg'}, {'text': 'ゴロゴロ🌻', 'img': 'http://pbs.twimg.com/media/E_U3R5UUUAEgzTj.jpg', 'img_file': '22.jpg'}, {'text': '暑いから脱ぐの手伝ってくれない？🥺', 'img': 'http://pbs.twimg.com/media/E-6rkj8VkAYdLKX.jpg', 'img_file': '23.jpg'}, {'text': '目線下がった人挙手✋', 'img': 'http://pbs.twimg.com/media/E-yRqG-VkAElZ5R.jpg', 'img_file': '24.jpg'}, {'text': 'フォロワー900いった✨', 'img': 'http://pbs.twimg.com/media/E-qOCS-VQAEikfY.jpg', 'img_file': '25.jpg'}, {'text': '今日もお疲れ様でした😚', 'img': 'http://pbs.twimg.com/media/E-mSTJQVgAs3xow.jpg', 'img_file': '26.jpg'}, {'text': 'いいねとフォローしてくれたら嬉しいな💕', 'img': 'http://pbs.twimg.com/media/E-Z2A9DVIAErQ22.jpg', 'img_file': '27.jpg'}, {'text': 'ブラの紐がキラキラでお気に入り😘', 'img': 'http://pbs.twimg.com/media/E-VV-KuVcAM5wtD.jpg', 'img_file': '28.jpg'}, {'text': 'お風呂の前に1枚', 'img': 'http://pbs.twimg.com/media/E-RoLKGVIAgvADL.jpg', 'img_file': '29.jpg'}]}\n",
      "{'tweet': [{'text': '五月病予防にどうですか？🥴', 'img': 'http://pbs.twimg.com/media/FRoRVE7akAAchJJ.jpg', 'img_file': '1.jpg'}, {'text': 'なんか知らない間に凄いことになってました😂', 'img': 'http://pbs.twimg.com/media/FQojlOfaMAUQu2s.jpg', 'img_file': '2.jpg'}, {'text': 'このブラ盛れるっ😋✨', 'img': 'http://pbs.twimg.com/media/FQg_3_CakAArWpn.jpg', 'img_file': '3.jpg'}, {'text': 'おっぱいようでございます🤗', 'img': 'http://pbs.twimg.com/media/FQGLoR6akAIGbYI.jpg', 'img_file': '4.jpg'}, {'text': '見えちゃいまひた😆', 'img': 'http://pbs.twimg.com/media/FPgK0ScaAAQ2gsU.jpg', 'img_file': '5.jpg'}, {'text': 'みんないつもコメントありがとぉ〜🥰', 'img': 'http://pbs.twimg.com/media/FOSOdnWacAcyjpr.jpg', 'img_file': '6.jpg'}, {'text': '気づいたら4000フォロワーいってました🎉', 'img': 'http://pbs.twimg.com/media/FMqjzHKaIAA_0Yk.jpg', 'img_file': '7.jpg'}, {'text': 'お久しぶりです🌹', 'img': 'http://pbs.twimg.com/media/FMmLQ2JakAE3y8b.jpg', 'img_file': '8.jpg'}, {'text': 'この時ぐらいまで髪切ろうか迷ってる、、', 'img': 'http://pbs.twimg.com/media/FKLxVsRaIAEto1-.jpg', 'img_file': '9.jpg'}, {'text': '今夜は脚メインでいかせてください😳', 'img': 'http://pbs.twimg.com/media/FJoY94faUAQfYvY.jpg', 'img_file': '10.jpg'}, {'text': '華金やな〜🥰', 'img': 'http://pbs.twimg.com/media/FIfkEUVaQAwkKjS.jpg', 'img_file': '11.jpg'}, {'text': 'あけましておめでとうございます㊗️', 'img': 'http://pbs.twimg.com/media/FH-Pwi8aMAAbtr_.jpg', 'img_file': '12.jpg'}, {'text': '下乳、、、', 'img': 'http://pbs.twimg.com/media/FGQV6hIUYAUJ7Dg.jpg', 'img_file': '13.jpg'}, {'text': '眠れない深夜に投下します', 'img': 'http://pbs.twimg.com/media/FFS-_ksaIAAZQlK.jpg', 'img_file': '14.jpg'}, {'text': '久しぶりなので3枚あげます😚', 'img': 'http://pbs.twimg.com/media/FDJxZ73agAA_w6P.jpg', 'img_file': '15.jpg'}, {'text': '🤗🤗🤗', 'img': 'http://pbs.twimg.com/media/FB5T9boUUAALg39.jpg', 'img_file': '16.jpg'}, {'text': 'メイク盛れた💄✨', 'img': 'http://pbs.twimg.com/media/FBBboFtVgAgK5NZ.jpg', 'img_file': '17.jpg'}, {'text': 'ピンクが好きー💕', 'img': 'http://pbs.twimg.com/media/FA2QahWVkAMcwan.jpg', 'img_file': '18.jpg'}, {'text': 'ノーブラはどうですか？😋', 'img': 'http://pbs.twimg.com/media/FAYRcr4UcAQpA5e.jpg', 'img_file': '19.jpg'}, {'text': 'こういうのはどうかな？☺️', 'img': 'http://pbs.twimg.com/media/FAH80_SVUAYEJf4.jpg', 'img_file': '20.jpg'}, {'text': 'このブラ盛れる😋✨', 'img': 'http://pbs.twimg.com/media/E_pcyTMUYAEzlmx.jpg', 'img_file': '21.jpg'}, {'text': 'ゴロゴロ🌻', 'img': 'http://pbs.twimg.com/media/E_U3R5UUUAEgzTj.jpg', 'img_file': '22.jpg'}, {'text': '暑いから脱ぐの手伝ってくれない？🥺', 'img': 'http://pbs.twimg.com/media/E-6rkj8VkAYdLKX.jpg', 'img_file': '23.jpg'}, {'text': '目線下がった人挙手✋', 'img': 'http://pbs.twimg.com/media/E-yRqG-VkAElZ5R.jpg', 'img_file': '24.jpg'}, {'text': 'フォロワー900いった✨', 'img': 'http://pbs.twimg.com/media/E-qOCS-VQAEikfY.jpg', 'img_file': '25.jpg'}, {'text': '今日もお疲れ様でした😚', 'img': 'http://pbs.twimg.com/media/E-mSTJQVgAs3xow.jpg', 'img_file': '26.jpg'}, {'text': 'いいねとフォローしてくれたら嬉しいな💕', 'img': 'http://pbs.twimg.com/media/E-Z2A9DVIAErQ22.jpg', 'img_file': '27.jpg'}, {'text': 'ブラの紐がキラキラでお気に入り😘', 'img': 'http://pbs.twimg.com/media/E-VV-KuVcAM5wtD.jpg', 'img_file': '28.jpg'}, {'text': 'お風呂の前に1枚', 'img': 'http://pbs.twimg.com/media/E-RoLKGVIAgvADL.jpg', 'img_file': '29.jpg'}, {'text': 'すごい勢いでフォロワー増えてびっくり‼️', 'img': 'http://pbs.twimg.com/media/E-PqWF8UcAAg9iK.jpg', 'img_file': '30.jpg'}]}\n",
      "{'tweet': [{'text': '五月病予防にどうですか？🥴', 'img': 'http://pbs.twimg.com/media/FRoRVE7akAAchJJ.jpg', 'img_file': '1.jpg'}, {'text': 'なんか知らない間に凄いことになってました😂', 'img': 'http://pbs.twimg.com/media/FQojlOfaMAUQu2s.jpg', 'img_file': '2.jpg'}, {'text': 'このブラ盛れるっ😋✨', 'img': 'http://pbs.twimg.com/media/FQg_3_CakAArWpn.jpg', 'img_file': '3.jpg'}, {'text': 'おっぱいようでございます🤗', 'img': 'http://pbs.twimg.com/media/FQGLoR6akAIGbYI.jpg', 'img_file': '4.jpg'}, {'text': '見えちゃいまひた😆', 'img': 'http://pbs.twimg.com/media/FPgK0ScaAAQ2gsU.jpg', 'img_file': '5.jpg'}, {'text': 'みんないつもコメントありがとぉ〜🥰', 'img': 'http://pbs.twimg.com/media/FOSOdnWacAcyjpr.jpg', 'img_file': '6.jpg'}, {'text': '気づいたら4000フォロワーいってました🎉', 'img': 'http://pbs.twimg.com/media/FMqjzHKaIAA_0Yk.jpg', 'img_file': '7.jpg'}, {'text': 'お久しぶりです🌹', 'img': 'http://pbs.twimg.com/media/FMmLQ2JakAE3y8b.jpg', 'img_file': '8.jpg'}, {'text': 'この時ぐらいまで髪切ろうか迷ってる、、', 'img': 'http://pbs.twimg.com/media/FKLxVsRaIAEto1-.jpg', 'img_file': '9.jpg'}, {'text': '今夜は脚メインでいかせてください😳', 'img': 'http://pbs.twimg.com/media/FJoY94faUAQfYvY.jpg', 'img_file': '10.jpg'}, {'text': '華金やな〜🥰', 'img': 'http://pbs.twimg.com/media/FIfkEUVaQAwkKjS.jpg', 'img_file': '11.jpg'}, {'text': 'あけましておめでとうございます㊗️', 'img': 'http://pbs.twimg.com/media/FH-Pwi8aMAAbtr_.jpg', 'img_file': '12.jpg'}, {'text': '下乳、、、', 'img': 'http://pbs.twimg.com/media/FGQV6hIUYAUJ7Dg.jpg', 'img_file': '13.jpg'}, {'text': '眠れない深夜に投下します', 'img': 'http://pbs.twimg.com/media/FFS-_ksaIAAZQlK.jpg', 'img_file': '14.jpg'}, {'text': '久しぶりなので3枚あげます😚', 'img': 'http://pbs.twimg.com/media/FDJxZ73agAA_w6P.jpg', 'img_file': '15.jpg'}, {'text': '🤗🤗🤗', 'img': 'http://pbs.twimg.com/media/FB5T9boUUAALg39.jpg', 'img_file': '16.jpg'}, {'text': 'メイク盛れた💄✨', 'img': 'http://pbs.twimg.com/media/FBBboFtVgAgK5NZ.jpg', 'img_file': '17.jpg'}, {'text': 'ピンクが好きー💕', 'img': 'http://pbs.twimg.com/media/FA2QahWVkAMcwan.jpg', 'img_file': '18.jpg'}, {'text': 'ノーブラはどうですか？😋', 'img': 'http://pbs.twimg.com/media/FAYRcr4UcAQpA5e.jpg', 'img_file': '19.jpg'}, {'text': 'こういうのはどうかな？☺️', 'img': 'http://pbs.twimg.com/media/FAH80_SVUAYEJf4.jpg', 'img_file': '20.jpg'}, {'text': 'このブラ盛れる😋✨', 'img': 'http://pbs.twimg.com/media/E_pcyTMUYAEzlmx.jpg', 'img_file': '21.jpg'}, {'text': 'ゴロゴロ🌻', 'img': 'http://pbs.twimg.com/media/E_U3R5UUUAEgzTj.jpg', 'img_file': '22.jpg'}, {'text': '暑いから脱ぐの手伝ってくれない？🥺', 'img': 'http://pbs.twimg.com/media/E-6rkj8VkAYdLKX.jpg', 'img_file': '23.jpg'}, {'text': '目線下がった人挙手✋', 'img': 'http://pbs.twimg.com/media/E-yRqG-VkAElZ5R.jpg', 'img_file': '24.jpg'}, {'text': 'フォロワー900いった✨', 'img': 'http://pbs.twimg.com/media/E-qOCS-VQAEikfY.jpg', 'img_file': '25.jpg'}, {'text': '今日もお疲れ様でした😚', 'img': 'http://pbs.twimg.com/media/E-mSTJQVgAs3xow.jpg', 'img_file': '26.jpg'}, {'text': 'いいねとフォローしてくれたら嬉しいな💕', 'img': 'http://pbs.twimg.com/media/E-Z2A9DVIAErQ22.jpg', 'img_file': '27.jpg'}, {'text': 'ブラの紐がキラキラでお気に入り😘', 'img': 'http://pbs.twimg.com/media/E-VV-KuVcAM5wtD.jpg', 'img_file': '28.jpg'}, {'text': 'お風呂の前に1枚', 'img': 'http://pbs.twimg.com/media/E-RoLKGVIAgvADL.jpg', 'img_file': '29.jpg'}, {'text': 'すごい勢いでフォロワー増えてびっくり‼️', 'img': 'http://pbs.twimg.com/media/E-PqWF8UcAAg9iK.jpg', 'img_file': '30.jpg'}, {'text': '足舐められるの好きだから誰か舐めて', 'img': 'http://pbs.twimg.com/media/E-PNMP1VUAArWJE.jpg', 'img_file': '31.jpg'}]}\n",
      "{'tweet': [{'text': '五月病予防にどうですか？🥴', 'img': 'http://pbs.twimg.com/media/FRoRVE7akAAchJJ.jpg', 'img_file': '1.jpg'}, {'text': 'なんか知らない間に凄いことになってました😂', 'img': 'http://pbs.twimg.com/media/FQojlOfaMAUQu2s.jpg', 'img_file': '2.jpg'}, {'text': 'このブラ盛れるっ😋✨', 'img': 'http://pbs.twimg.com/media/FQg_3_CakAArWpn.jpg', 'img_file': '3.jpg'}, {'text': 'おっぱいようでございます🤗', 'img': 'http://pbs.twimg.com/media/FQGLoR6akAIGbYI.jpg', 'img_file': '4.jpg'}, {'text': '見えちゃいまひた😆', 'img': 'http://pbs.twimg.com/media/FPgK0ScaAAQ2gsU.jpg', 'img_file': '5.jpg'}, {'text': 'みんないつもコメントありがとぉ〜🥰', 'img': 'http://pbs.twimg.com/media/FOSOdnWacAcyjpr.jpg', 'img_file': '6.jpg'}, {'text': '気づいたら4000フォロワーいってました🎉', 'img': 'http://pbs.twimg.com/media/FMqjzHKaIAA_0Yk.jpg', 'img_file': '7.jpg'}, {'text': 'お久しぶりです🌹', 'img': 'http://pbs.twimg.com/media/FMmLQ2JakAE3y8b.jpg', 'img_file': '8.jpg'}, {'text': 'この時ぐらいまで髪切ろうか迷ってる、、', 'img': 'http://pbs.twimg.com/media/FKLxVsRaIAEto1-.jpg', 'img_file': '9.jpg'}, {'text': '今夜は脚メインでいかせてください😳', 'img': 'http://pbs.twimg.com/media/FJoY94faUAQfYvY.jpg', 'img_file': '10.jpg'}, {'text': '華金やな〜🥰', 'img': 'http://pbs.twimg.com/media/FIfkEUVaQAwkKjS.jpg', 'img_file': '11.jpg'}, {'text': 'あけましておめでとうございます㊗️', 'img': 'http://pbs.twimg.com/media/FH-Pwi8aMAAbtr_.jpg', 'img_file': '12.jpg'}, {'text': '下乳、、、', 'img': 'http://pbs.twimg.com/media/FGQV6hIUYAUJ7Dg.jpg', 'img_file': '13.jpg'}, {'text': '眠れない深夜に投下します', 'img': 'http://pbs.twimg.com/media/FFS-_ksaIAAZQlK.jpg', 'img_file': '14.jpg'}, {'text': '久しぶりなので3枚あげます😚', 'img': 'http://pbs.twimg.com/media/FDJxZ73agAA_w6P.jpg', 'img_file': '15.jpg'}, {'text': '🤗🤗🤗', 'img': 'http://pbs.twimg.com/media/FB5T9boUUAALg39.jpg', 'img_file': '16.jpg'}, {'text': 'メイク盛れた💄✨', 'img': 'http://pbs.twimg.com/media/FBBboFtVgAgK5NZ.jpg', 'img_file': '17.jpg'}, {'text': 'ピンクが好きー💕', 'img': 'http://pbs.twimg.com/media/FA2QahWVkAMcwan.jpg', 'img_file': '18.jpg'}, {'text': 'ノーブラはどうですか？😋', 'img': 'http://pbs.twimg.com/media/FAYRcr4UcAQpA5e.jpg', 'img_file': '19.jpg'}, {'text': 'こういうのはどうかな？☺️', 'img': 'http://pbs.twimg.com/media/FAH80_SVUAYEJf4.jpg', 'img_file': '20.jpg'}, {'text': 'このブラ盛れる😋✨', 'img': 'http://pbs.twimg.com/media/E_pcyTMUYAEzlmx.jpg', 'img_file': '21.jpg'}, {'text': 'ゴロゴロ🌻', 'img': 'http://pbs.twimg.com/media/E_U3R5UUUAEgzTj.jpg', 'img_file': '22.jpg'}, {'text': '暑いから脱ぐの手伝ってくれない？🥺', 'img': 'http://pbs.twimg.com/media/E-6rkj8VkAYdLKX.jpg', 'img_file': '23.jpg'}, {'text': '目線下がった人挙手✋', 'img': 'http://pbs.twimg.com/media/E-yRqG-VkAElZ5R.jpg', 'img_file': '24.jpg'}, {'text': 'フォロワー900いった✨', 'img': 'http://pbs.twimg.com/media/E-qOCS-VQAEikfY.jpg', 'img_file': '25.jpg'}, {'text': '今日もお疲れ様でした😚', 'img': 'http://pbs.twimg.com/media/E-mSTJQVgAs3xow.jpg', 'img_file': '26.jpg'}, {'text': 'いいねとフォローしてくれたら嬉しいな💕', 'img': 'http://pbs.twimg.com/media/E-Z2A9DVIAErQ22.jpg', 'img_file': '27.jpg'}, {'text': 'ブラの紐がキラキラでお気に入り😘', 'img': 'http://pbs.twimg.com/media/E-VV-KuVcAM5wtD.jpg', 'img_file': '28.jpg'}, {'text': 'お風呂の前に1枚', 'img': 'http://pbs.twimg.com/media/E-RoLKGVIAgvADL.jpg', 'img_file': '29.jpg'}, {'text': 'すごい勢いでフォロワー増えてびっくり‼️', 'img': 'http://pbs.twimg.com/media/E-PqWF8UcAAg9iK.jpg', 'img_file': '30.jpg'}, {'text': '足舐められるの好きだから誰か舐めて', 'img': 'http://pbs.twimg.com/media/E-PNMP1VUAArWJE.jpg', 'img_file': '31.jpg'}, {'text': 'もじもじしちゃう🥺', 'img': 'http://pbs.twimg.com/media/E-PKsEuVcAA8pzQ.jpg', 'img_file': '32.jpg'}]}\n",
      "{'tweet': [{'text': '五月病予防にどうですか？🥴', 'img': 'http://pbs.twimg.com/media/FRoRVE7akAAchJJ.jpg', 'img_file': '1.jpg'}, {'text': 'なんか知らない間に凄いことになってました😂', 'img': 'http://pbs.twimg.com/media/FQojlOfaMAUQu2s.jpg', 'img_file': '2.jpg'}, {'text': 'このブラ盛れるっ😋✨', 'img': 'http://pbs.twimg.com/media/FQg_3_CakAArWpn.jpg', 'img_file': '3.jpg'}, {'text': 'おっぱいようでございます🤗', 'img': 'http://pbs.twimg.com/media/FQGLoR6akAIGbYI.jpg', 'img_file': '4.jpg'}, {'text': '見えちゃいまひた😆', 'img': 'http://pbs.twimg.com/media/FPgK0ScaAAQ2gsU.jpg', 'img_file': '5.jpg'}, {'text': 'みんないつもコメントありがとぉ〜🥰', 'img': 'http://pbs.twimg.com/media/FOSOdnWacAcyjpr.jpg', 'img_file': '6.jpg'}, {'text': '気づいたら4000フォロワーいってました🎉', 'img': 'http://pbs.twimg.com/media/FMqjzHKaIAA_0Yk.jpg', 'img_file': '7.jpg'}, {'text': 'お久しぶりです🌹', 'img': 'http://pbs.twimg.com/media/FMmLQ2JakAE3y8b.jpg', 'img_file': '8.jpg'}, {'text': 'この時ぐらいまで髪切ろうか迷ってる、、', 'img': 'http://pbs.twimg.com/media/FKLxVsRaIAEto1-.jpg', 'img_file': '9.jpg'}, {'text': '今夜は脚メインでいかせてください😳', 'img': 'http://pbs.twimg.com/media/FJoY94faUAQfYvY.jpg', 'img_file': '10.jpg'}, {'text': '華金やな〜🥰', 'img': 'http://pbs.twimg.com/media/FIfkEUVaQAwkKjS.jpg', 'img_file': '11.jpg'}, {'text': 'あけましておめでとうございます㊗️', 'img': 'http://pbs.twimg.com/media/FH-Pwi8aMAAbtr_.jpg', 'img_file': '12.jpg'}, {'text': '下乳、、、', 'img': 'http://pbs.twimg.com/media/FGQV6hIUYAUJ7Dg.jpg', 'img_file': '13.jpg'}, {'text': '眠れない深夜に投下します', 'img': 'http://pbs.twimg.com/media/FFS-_ksaIAAZQlK.jpg', 'img_file': '14.jpg'}, {'text': '久しぶりなので3枚あげます😚', 'img': 'http://pbs.twimg.com/media/FDJxZ73agAA_w6P.jpg', 'img_file': '15.jpg'}, {'text': '🤗🤗🤗', 'img': 'http://pbs.twimg.com/media/FB5T9boUUAALg39.jpg', 'img_file': '16.jpg'}, {'text': 'メイク盛れた💄✨', 'img': 'http://pbs.twimg.com/media/FBBboFtVgAgK5NZ.jpg', 'img_file': '17.jpg'}, {'text': 'ピンクが好きー💕', 'img': 'http://pbs.twimg.com/media/FA2QahWVkAMcwan.jpg', 'img_file': '18.jpg'}, {'text': 'ノーブラはどうですか？😋', 'img': 'http://pbs.twimg.com/media/FAYRcr4UcAQpA5e.jpg', 'img_file': '19.jpg'}, {'text': 'こういうのはどうかな？☺️', 'img': 'http://pbs.twimg.com/media/FAH80_SVUAYEJf4.jpg', 'img_file': '20.jpg'}, {'text': 'このブラ盛れる😋✨', 'img': 'http://pbs.twimg.com/media/E_pcyTMUYAEzlmx.jpg', 'img_file': '21.jpg'}, {'text': 'ゴロゴロ🌻', 'img': 'http://pbs.twimg.com/media/E_U3R5UUUAEgzTj.jpg', 'img_file': '22.jpg'}, {'text': '暑いから脱ぐの手伝ってくれない？🥺', 'img': 'http://pbs.twimg.com/media/E-6rkj8VkAYdLKX.jpg', 'img_file': '23.jpg'}, {'text': '目線下がった人挙手✋', 'img': 'http://pbs.twimg.com/media/E-yRqG-VkAElZ5R.jpg', 'img_file': '24.jpg'}, {'text': 'フォロワー900いった✨', 'img': 'http://pbs.twimg.com/media/E-qOCS-VQAEikfY.jpg', 'img_file': '25.jpg'}, {'text': '今日もお疲れ様でした😚', 'img': 'http://pbs.twimg.com/media/E-mSTJQVgAs3xow.jpg', 'img_file': '26.jpg'}, {'text': 'いいねとフォローしてくれたら嬉しいな💕', 'img': 'http://pbs.twimg.com/media/E-Z2A9DVIAErQ22.jpg', 'img_file': '27.jpg'}, {'text': 'ブラの紐がキラキラでお気に入り😘', 'img': 'http://pbs.twimg.com/media/E-VV-KuVcAM5wtD.jpg', 'img_file': '28.jpg'}, {'text': 'お風呂の前に1枚', 'img': 'http://pbs.twimg.com/media/E-RoLKGVIAgvADL.jpg', 'img_file': '29.jpg'}, {'text': 'すごい勢いでフォロワー増えてびっくり‼️', 'img': 'http://pbs.twimg.com/media/E-PqWF8UcAAg9iK.jpg', 'img_file': '30.jpg'}, {'text': '足舐められるの好きだから誰か舐めて', 'img': 'http://pbs.twimg.com/media/E-PNMP1VUAArWJE.jpg', 'img_file': '31.jpg'}, {'text': 'もじもじしちゃう🥺', 'img': 'http://pbs.twimg.com/media/E-PKsEuVcAA8pzQ.jpg', 'img_file': '32.jpg'}, {'text': '下着にあってますか？', 'img': 'http://pbs.twimg.com/media/E-PF5tSVkAARA4w.jpg', 'img_file': '33.jpg'}]}\n"
     ]
    }
   ],
   "source": [
    "t = Tweet_text('erika_1837')\n",
    "t.text_image_get()"
   ]
  },
  {
   "cell_type": "code",
   "execution_count": 58,
   "metadata": {},
   "outputs": [
    {
     "name": "stdout",
     "output_type": "stream",
     "text": [
      "http://pbs.twimg.com/media/FRoRVE7akAAchJJ.jpg\n",
      "http://pbs.twimg.com/media/FQojlOfaMAUQu2s.jpg\n",
      "http://pbs.twimg.com/media/FQg_3_CakAArWpn.jpg\n",
      "http://pbs.twimg.com/media/FQGLoR6akAIGbYI.jpg\n",
      "http://pbs.twimg.com/media/FPgK0ScaAAQ2gsU.jpg\n",
      "http://pbs.twimg.com/media/FOSOdnWacAcyjpr.jpg\n",
      "http://pbs.twimg.com/media/FMqjzHKaIAA_0Yk.jpg\n",
      "http://pbs.twimg.com/media/FMmLQ2JakAE3y8b.jpg\n",
      "http://pbs.twimg.com/media/FKLxVsRaIAEto1-.jpg\n",
      "http://pbs.twimg.com/media/FJoY94faUAQfYvY.jpg\n",
      "http://pbs.twimg.com/media/FIfkEUVaQAwkKjS.jpg\n",
      "http://pbs.twimg.com/media/FH-Pwi8aMAAbtr_.jpg\n",
      "http://pbs.twimg.com/media/FGQV6hIUYAUJ7Dg.jpg\n",
      "http://pbs.twimg.com/media/FFS-_ksaIAAZQlK.jpg\n",
      "http://pbs.twimg.com/media/FDJxZ73agAA_w6P.jpg\n",
      "http://pbs.twimg.com/media/FB5T9boUUAALg39.jpg\n",
      "http://pbs.twimg.com/media/FBBboFtVgAgK5NZ.jpg\n",
      "http://pbs.twimg.com/media/FA2QahWVkAMcwan.jpg\n",
      "http://pbs.twimg.com/media/FAYRcr4UcAQpA5e.jpg\n",
      "http://pbs.twimg.com/media/FAH80_SVUAYEJf4.jpg\n",
      "http://pbs.twimg.com/media/E_pcyTMUYAEzlmx.jpg\n",
      "http://pbs.twimg.com/media/E_U3R5UUUAEgzTj.jpg\n",
      "http://pbs.twimg.com/media/E-6rkj8VkAYdLKX.jpg\n",
      "http://pbs.twimg.com/media/E-yRqG-VkAElZ5R.jpg\n",
      "http://pbs.twimg.com/media/E-qOCS-VQAEikfY.jpg\n",
      "http://pbs.twimg.com/media/E-mSTJQVgAs3xow.jpg\n",
      "http://pbs.twimg.com/media/E-Z2A9DVIAErQ22.jpg\n",
      "http://pbs.twimg.com/media/E-VV-KuVcAM5wtD.jpg\n",
      "http://pbs.twimg.com/media/E-RoLKGVIAgvADL.jpg\n",
      "http://pbs.twimg.com/media/E-PqWF8UcAAg9iK.jpg\n",
      "http://pbs.twimg.com/media/E-PNMP1VUAArWJE.jpg\n",
      "http://pbs.twimg.com/media/E-PKsEuVcAA8pzQ.jpg\n",
      "http://pbs.twimg.com/media/E-PF5tSVkAARA4w.jpg\n",
      "http://pbs.twimg.com/media/E-PFjizVQAMOojf.jpg\n"
     ]
    }
   ],
   "source": [
    "load = json.load(open('erika_1837.json', 'r'))\n",
    "l = load['tweet']\n",
    "\n",
    "\n",
    "for i in l:\n",
    "    print(i['img'])\n",
    "    img_response = requests.get(i['img'])"
   ]
  },
  {
   "cell_type": "markdown",
   "metadata": {},
   "source": [
    "NG エロアカウントからテキストだけもらう"
   ]
  },
  {
   "cell_type": "code",
   "execution_count": 1,
   "metadata": {},
   "outputs": [],
   "source": [
    "import tweepy\n",
    "import API_config_katudon\n",
    "import json\n",
    "\n",
    "\n",
    "class Tweet_text:\n",
    "\n",
    "    def __init__(self, username):\n",
    "\n",
    "        self.client = tweepy.Client(consumer_key=API_config_katudon.API_KEY, consumer_secret=API_config_katudon.API_SECRET, access_token=API_config_katudon.ACCESS_TOKEN, access_token_secret=API_config_katudon.ACCESS_TOKEN_SECRET, bearer_token=API_config_katudon.Bearer_token, wait_on_rate_limit=True)\n",
    "        self.count = 5\n",
    "        self.__username = username\n",
    "\n",
    "    def text_get(self):\n",
    "        \"\"\"_summary_\n",
    "        usernameにアカウント名を入力\n",
    "        \"\"\"\n",
    "\n",
    "        tweet: dict[dict] = {}\n",
    "        tweet['tweet'] = []\n",
    "\n",
    "        target_response = self.client.get_user(username=self.__username) # usernameにアカウント名を入力\n",
    "        # テキストだけ\n",
    "        target_tweets = self.client.get_users_tweets(target_response.data['id'], max_results=100, exclude=['retweets', 'replies'])\n",
    "        print(target_tweets)\n",
    "\n",
    "        while True:\n",
    "            next_token = target_tweets.meta['next_token']\n",
    "\n",
    "            for tweets in target_tweets.data:\n",
    "                text = tweets.data['text']\n",
    "                tweet['tweet'].append({\"text\": text})\n",
    "\n",
    "            with open(f'{self.__username}.json', 'w', encoding='utf-8') as f:\n",
    "                json.dump(tweet, f, indent=4, ensure_ascii=False)\n",
    "\n",
    "            target_tweets = self.client.get_users_tweets(target_response.data['id'], max_results=100, exclude=['retweets', 'replies'])\n",
    "\n",
    "            if next_token is None:\n",
    "                break\n",
    "\n",
    "        # if next_token:\n",
    "        #     while True:\n",
    "        #         target_tweets_next = self.client.get_users_tweets(target_response.data['id'], max_results=100, exclude=['retweets', 'replies'], pagination_token=next_token)\n",
    "        #         next_token = target_tweets_next.meta['next_token']\n",
    "\n",
    "        #         for tweets in target_tweets_next.data:\n",
    "        #             text = tweets.data['text']\n",
    "        #             print(text)\n",
    "\n",
    "        #             tweet['tweet'].append({\"text\": text})\n",
    "        #             print(tweet)\n",
    "\n",
    "        #             with open(f'{self.__username}.json', 'w', encoding='utf-8') as f:\n",
    "        #                 json.dump(tweet, f, indent=4, ensure_ascii=False)\n",
    "\n",
    "        #         if next_token is None:\n",
    "        #             break\n",
    "\n",
    "        # for tweets in tweepy.Paginator(self.client.get_users_tweets, target_response.data['id'], max_results=10, media_fields=['preview_image_url', 'url'], expansions=['attachments.media_keys'], tweet_fields=[\"entities\"]).flatten(limit=250):\n"
   ]
  },
  {
   "cell_type": "code",
   "execution_count": null,
   "metadata": {},
   "outputs": [],
   "source": [
    "t = Tweet_text('hikarinspecial')\n",
    "t.text_get"
   ]
  },
  {
   "cell_type": "markdown",
   "metadata": {},
   "source": [
    "# テキストだけ取得（paginatorを使う）"
   ]
  },
  {
   "cell_type": "code",
   "execution_count": 15,
   "metadata": {},
   "outputs": [],
   "source": [
    "import tweepy\n",
    "import API_config_katudon\n",
    "import json\n",
    "\n",
    "\n",
    "class Tweet_text:\n",
    "\n",
    "    def __init__(self, username):\n",
    "\n",
    "        self.client = tweepy.Client(consumer_key=API_config_katudon.API_KEY, consumer_secret=API_config_katudon.API_SECRET, access_token=API_config_katudon.ACCESS_TOKEN, access_token_secret=API_config_katudon.ACCESS_TOKEN_SECRET, bearer_token=API_config_katudon.Bearer_token, wait_on_rate_limit=True)\n",
    "        self.count = 5\n",
    "        self.__username = username\n",
    "\n",
    "    def text_get(self):\n",
    "        \"\"\"_summary_\n",
    "        usernameにアカウント名を入力\n",
    "        \"\"\"\n",
    "\n",
    "        tweet: dict[dict] = {}\n",
    "        tweet['tweet'] = []\n",
    "        target_response = self.client.get_user(username=self.__username) # usernameにアカウント名を入力\n",
    "\n",
    "        for tweets in tweepy.Paginator(self.client.get_users_tweets,target_response.data['id'], exclude=['retweets', 'replies'],max_results=100).flatten(limit=1000):\n",
    "\n",
    "            text = tweets.data['text']\n",
    "            tweet['tweet'].append({\"text\": text})\n",
    "\n",
    "            with open(f'{self.__username}.json', 'w', encoding='utf-8') as f:\n",
    "                json.dump(tweet, f, indent=4, ensure_ascii=False)\n"
   ]
  },
  {
   "cell_type": "code",
   "execution_count": 18,
   "metadata": {},
   "outputs": [],
   "source": [
    "t = Tweet_text('Lillian46612363')\n",
    "t.text_get()"
   ]
  },
  {
   "cell_type": "code",
   "execution_count": 2,
   "metadata": {},
   "outputs": [],
   "source": [
    "import tweepy\n",
    "import API_config_katudon\n",
    "import json\n",
    "\n",
    "\n",
    "class Tweet_text:\n",
    "\n",
    "    def __init__(self, username):\n",
    "\n",
    "        self.client = tweepy.Client(consumer_key=API_config_katudon.API_KEY, consumer_secret=API_config_katudon.API_SECRET, access_token=API_config_katudon.ACCESS_TOKEN, access_token_secret=API_config_katudon.ACCESS_TOKEN_SECRET, bearer_token=API_config_katudon.Bearer_token, wait_on_rate_limit=True)\n",
    "        self.__username = username\n",
    "\n",
    "    def text_get(self):\n",
    "        \"\"\"_summary_\n",
    "        usernameにアカウント名を入力\n",
    "        \"\"\"\n",
    "\n",
    "        tweet: dict[dict] = {}\n",
    "        tweet['tweet'] = []\n",
    "        target_response = self.client.get_user(username=self.__username) # usernameにアカウント名を入力\n",
    "\n",
    "        for tweets in tweepy.Paginator(self.client.get_users_tweets,target_response.data['id'], exclude=['replies'],max_results=100).flatten(limit=3000):\n",
    "\n",
    "            self.client.delete_tweet(tweets.id)\n",
    "\n",
    "            # JSON保存\n",
    "            # text = tweets.data['text']\n",
    "            # tweet['tweet'].append({\"text\": text})\n",
    "            # with open(f'{self.__username}.json', 'w', encoding='utf-8') as f:\n",
    "            #     json.dump(tweet, f, indent=4, ensure_ascii=False)\n",
    "\n",
    "t = Tweet_text('katudon')\n",
    "t.text_get()"
   ]
  },
  {
   "cell_type": "code",
   "execution_count": null,
   "metadata": {},
   "outputs": [],
   "source": []
  }
 ],
 "metadata": {
  "interpreter": {
   "hash": "0a1ece316646461d52424eec54ae6b7be77db122250a261dac31fc3040797f8d"
  },
  "kernelspec": {
   "display_name": "Python 3.10.4 ('scraping')",
   "language": "python",
   "name": "python3"
  },
  "language_info": {
   "codemirror_mode": {
    "name": "ipython",
    "version": 3
   },
   "file_extension": ".py",
   "mimetype": "text/x-python",
   "name": "python",
   "nbconvert_exporter": "python",
   "pygments_lexer": "ipython3",
   "version": "3.10.4"
  },
  "orig_nbformat": 4
 },
 "nbformat": 4,
 "nbformat_minor": 2
}
