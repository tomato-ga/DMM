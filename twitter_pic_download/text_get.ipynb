{
 "cells": [
  {
   "cell_type": "markdown",
   "metadata": {},
   "source": [
    "# 今田美桜アカウントのテキストと画像をもらう"
   ]
  },
  {
   "cell_type": "code",
   "execution_count": null,
   "metadata": {},
   "outputs": [],
   "source": [
    "import tweepy\n",
    "import API_config_katudon\n",
    "import json\n",
    "\n",
    "\n",
    "class Tweet_text:\n",
    "\n",
    "    def __init__(self):\n",
    "\n",
    "        self.client = tweepy.Client(consumer_key=API_config_katudon.API_KEY, consumer_secret=API_config_katudon.API_SECRET, access_token=API_config_katudon.ACCESS_TOKEN, access_token_secret=API_config_katudon.ACCESS_TOKEN_SECRET, bearer_token=API_config_katudon.Bearer_token)\n",
    "        self.count = 5\n",
    "\n",
    "\n",
    "    @property\n",
    "    def text_get(self):\n",
    "        \"\"\"_summary_\n",
    "        usernameにアカウント名を入力\n",
    "\n",
    "        画像を取る場合は以下を有効にする\n",
    "        for tweets_img in target_tweets.includes['media']:\n",
    "\n",
    "        \"\"\"\n",
    "\n",
    "        tweet: dict[dict] = {}\n",
    "        tweet['tweet'] = []\n",
    "\n",
    "        target_response = self.client.get_user(username='hikarinspecial') # usernameにアカウント名を入力\n",
    "        target_tweets = self.client.get_users_tweets(target_response.data['id'], expansions=[\"attachments.media_keys\"], max_results=10, media_fields=['preview_image_url', 'url'], exclude='retweets')\n",
    "\n",
    "        while True:\n",
    "            print(target_tweets)\n",
    "            next_token = target_tweets.meta['next_token']\n",
    "\n",
    "            # テキストを取る\n",
    "            for tweets in target_tweets.data:\n",
    "                text = tweets.data['text']\n",
    "                print(text)\n",
    "\n",
    "            # 画像を取る\n",
    "            for tweets_img in target_tweets.includes['media']:\n",
    "                img_url = tweets_img['url']\n",
    "                print(img_url)\n",
    "\n",
    "            tweet['tweet'].append({\"text\": text,\"img\": img_url})\n",
    "            print(tweet)\n",
    "\n",
    "            with open('imada_mio.json', 'w', encoding='utf-8') as f:\n",
    "                json.dump(tweet, f, indent=4, ensure_ascii=False)\n",
    "\n",
    "            target_tweets = self.client.get_users_tweets(target_response.data['id'], expansions=[\"attachments.media_keys\"], max_results=10, media_fields=['preview_image_url', 'url'], exclude='retweets', pagination_token=next_token)\n",
    "\n",
    "            if next_token is None:\n",
    "                break\n",
    "\n",
    "\n",
    "\n",
    "t = Tweet_text()\n",
    "t.text_get\n",
    "\n",
    "\n",
    "        # for tweets in tweepy.Paginator(self.client.get_users_tweets, target_response.data['id'], max_results=10, media_fields=['preview_image_url', 'url'], expansions=['attachments.media_keys'], tweet_fields=[\"entities\"]).flatten(limit=250):\n"
   ]
  },
  {
   "cell_type": "code",
   "execution_count": 16,
   "metadata": {},
   "outputs": [],
   "source": [
    "load = json.load(open('imada_mio.json', 'r'))\n",
    "l = load['tweet']\n",
    "\n",
    "\n",
    "for i in l:\n",
    "    i['img']\n"
   ]
  },
  {
   "cell_type": "markdown",
   "metadata": {},
   "source": [
    "# エロアカウントからテキストだけもらう"
   ]
  },
  {
   "cell_type": "code",
   "execution_count": 1,
   "metadata": {},
   "outputs": [],
   "source": [
    "import tweepy\n",
    "import API_config_katudon\n",
    "import json\n",
    "\n",
    "\n",
    "class Tweet_text:\n",
    "\n",
    "    def __init__(self, username):\n",
    "\n",
    "        self.client = tweepy.Client(consumer_key=API_config_katudon.API_KEY, consumer_secret=API_config_katudon.API_SECRET, access_token=API_config_katudon.ACCESS_TOKEN, access_token_secret=API_config_katudon.ACCESS_TOKEN_SECRET, bearer_token=API_config_katudon.Bearer_token, wait_on_rate_limit=True)\n",
    "        self.count = 5\n",
    "        self.__username = username\n",
    "\n",
    "    def text_get(self):\n",
    "        \"\"\"_summary_\n",
    "        usernameにアカウント名を入力\n",
    "        \"\"\"\n",
    "\n",
    "        tweet: dict[dict] = {}\n",
    "        tweet['tweet'] = []\n",
    "\n",
    "        target_response = self.client.get_user(username=self.__username) # usernameにアカウント名を入力\n",
    "        # テキストだけ\n",
    "        target_tweets = self.client.get_users_tweets(target_response.data['id'], max_results=100, exclude=['retweets', 'replies'])\n",
    "        print(target_tweets)\n",
    "\n",
    "        while True:\n",
    "            next_token = target_tweets.meta['next_token']\n",
    "\n",
    "            for tweets in target_tweets.data:\n",
    "                text = tweets.data['text']\n",
    "                tweet['tweet'].append({\"text\": text})\n",
    "\n",
    "            with open(f'{self.__username}.json', 'w', encoding='utf-8') as f:\n",
    "                json.dump(tweet, f, indent=4, ensure_ascii=False)\n",
    "\n",
    "            target_tweets = self.client.get_users_tweets(target_response.data['id'], max_results=100, exclude=['retweets', 'replies'])\n",
    "\n",
    "            if next_token is None:\n",
    "                break\n",
    "\n",
    "        # if next_token:\n",
    "        #     while True:\n",
    "        #         target_tweets_next = self.client.get_users_tweets(target_response.data['id'], max_results=100, exclude=['retweets', 'replies'], pagination_token=next_token)\n",
    "        #         next_token = target_tweets_next.meta['next_token']\n",
    "\n",
    "        #         for tweets in target_tweets_next.data:\n",
    "        #             text = tweets.data['text']\n",
    "        #             print(text)\n",
    "\n",
    "        #             tweet['tweet'].append({\"text\": text})\n",
    "        #             print(tweet)\n",
    "\n",
    "        #             with open(f'{self.__username}.json', 'w', encoding='utf-8') as f:\n",
    "        #                 json.dump(tweet, f, indent=4, ensure_ascii=False)\n",
    "\n",
    "        #         if next_token is None:\n",
    "        #             break\n",
    "\n",
    "        # for tweets in tweepy.Paginator(self.client.get_users_tweets, target_response.data['id'], max_results=10, media_fields=['preview_image_url', 'url'], expansions=['attachments.media_keys'], tweet_fields=[\"entities\"]).flatten(limit=250):\n"
   ]
  },
  {
   "cell_type": "code",
   "execution_count": null,
   "metadata": {},
   "outputs": [],
   "source": [
    "t = Tweet_text('hikarinspecial')\n",
    "t.text_get"
   ]
  },
  {
   "cell_type": "markdown",
   "metadata": {},
   "source": [
    "# テキストだけ取得（paginatorを使う）"
   ]
  },
  {
   "cell_type": "code",
   "execution_count": 15,
   "metadata": {},
   "outputs": [],
   "source": [
    "import tweepy\n",
    "import API_config_katudon\n",
    "import json\n",
    "\n",
    "\n",
    "class Tweet_text:\n",
    "\n",
    "    def __init__(self, username):\n",
    "\n",
    "        self.client = tweepy.Client(consumer_key=API_config_katudon.API_KEY, consumer_secret=API_config_katudon.API_SECRET, access_token=API_config_katudon.ACCESS_TOKEN, access_token_secret=API_config_katudon.ACCESS_TOKEN_SECRET, bearer_token=API_config_katudon.Bearer_token, wait_on_rate_limit=True)\n",
    "        self.count = 5\n",
    "        self.__username = username\n",
    "\n",
    "    def text_get(self):\n",
    "        \"\"\"_summary_\n",
    "        usernameにアカウント名を入力\n",
    "        \"\"\"\n",
    "\n",
    "        tweet: dict[dict] = {}\n",
    "        tweet['tweet'] = []\n",
    "        target_response = self.client.get_user(username=self.__username) # usernameにアカウント名を入力\n",
    "\n",
    "        for tweets in tweepy.Paginator(self.client.get_users_tweets,target_response.data['id'], exclude=['retweets', 'replies'],max_results=100).flatten(limit=1000):\n",
    "\n",
    "            text = tweets.data['text']\n",
    "            tweet['tweet'].append({\"text\": text})\n",
    "\n",
    "            with open(f'{self.__username}.json', 'w', encoding='utf-8') as f:\n",
    "                json.dump(tweet, f, indent=4, ensure_ascii=False)\n"
   ]
  },
  {
   "cell_type": "code",
   "execution_count": 18,
   "metadata": {},
   "outputs": [],
   "source": [
    "t = Tweet_text('Lillian46612363')\n",
    "t.text_get()"
   ]
  },
  {
   "cell_type": "markdown",
   "metadata": {},
   "source": [
    "# あやTwitter Bot"
   ]
  },
  {
   "cell_type": "code",
   "execution_count": 49,
   "metadata": {},
   "outputs": [],
   "source": [
    "import tweepy\n",
    "import \n",
    "import json\n",
    "import random\n",
    "\n",
    "\n",
    "def tweet():\n",
    "\n",
    "    client = tweepy.Client(consumer_key=API_config_aya.API_KEY, consumer_secret=API_config_aya.API_SECRET, access_token=API_config_aya.ACCESS_TOKEN, access_token_secret=API_config_aya.ACCESS_TOKEN_SECRET, bearer_token=API_config_aya.Bearer_token)\n",
    "\n",
    "    jk = json.load(open('aya_text.json', 'r'))\n",
    "    text = jk['tweet']\n",
    "    t = random.choice(text)\n",
    "    tweet_text= t['text']\n",
    "\n",
    "    client.create_tweet(text=tweet_text)\n"
   ]
  },
  {
   "cell_type": "code",
   "execution_count": 50,
   "metadata": {},
   "outputs": [],
   "source": [
    "tweet()"
   ]
  },
  {
   "cell_type": "code",
   "execution_count": null,
   "metadata": {},
   "outputs": [],
   "source": []
  }
 ],
 "metadata": {
  "interpreter": {
   "hash": "0a1ece316646461d52424eec54ae6b7be77db122250a261dac31fc3040797f8d"
  },
  "kernelspec": {
   "display_name": "Python 3.10.4 ('scraping')",
   "language": "python",
   "name": "python3"
  },
  "language_info": {
   "codemirror_mode": {
    "name": "ipython",
    "version": 3
   },
   "file_extension": ".py",
   "mimetype": "text/x-python",
   "name": "python",
   "nbconvert_exporter": "python",
   "pygments_lexer": "ipython3",
   "version": "3.10.4"
  },
  "orig_nbformat": 4
 },
 "nbformat": 4,
 "nbformat_minor": 2
}
