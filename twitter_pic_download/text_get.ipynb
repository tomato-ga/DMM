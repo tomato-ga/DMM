{
 "cells": [
  {
   "cell_type": "markdown",
   "metadata": {},
   "source": [
    "# アカウントのテキストと画像をもらう"
   ]
  },
  {
   "cell_type": "code",
   "execution_count": null,
   "metadata": {},
   "outputs": [],
   "source": [
    "import tweepy\n",
    "import API_config_katudon\n",
    "import json\n",
    "\n",
    "\n",
    "class Tweet_text:\n",
    "\n",
    "    def __init__(self):\n",
    "\n",
    "        self.client = tweepy.Client(consumer_key=API_config_katudon.API_KEY, consumer_secret=API_config_katudon.API_SECRET, access_token=API_config_katudon.ACCESS_TOKEN, access_token_secret=API_config_katudon.ACCESS_TOKEN_SECRET, bearer_token=API_config_katudon.Bearer_token)\n",
    "        self.count = 5\n",
    "\n",
    "\n",
    "    @property\n",
    "    def text_zget(self):\n",
    "        \"\"\"_summary_\n",
    "        usernameにアカウント名を入力\n",
    "\n",
    "        画像を取る場合は以下を有効にする\n",
    "        for tweets_img in target_tweets.includes['media']:\n",
    "\n",
    "        \"\"\"\n",
    "\n",
    "        tweet: dict[dict] = {}\n",
    "        tweet['tweet'] = []\n",
    "\n",
    "        target_response = self.client.get_user(username='hikarinspecial') # usernameにアカウント名を入力\n",
    "        target_tweets = self.client.get_users_tweets(target_response.data['id'], expansions=[\"attachments.media_keys\"], max_results=10, media_fields=['preview_image_url', 'url'], exclude='retweets')\n",
    "\n",
    "        while True:\n",
    "            print(target_tweets)\n",
    "            next_token = target_tweets.meta['next_token']\n",
    "\n",
    "            # テキストを取る\n",
    "            for tweets in target_tweets.data:\n",
    "                text = tweets.data['text']\n",
    "                print(text)\n",
    "\n",
    "            # 画像を取る\n",
    "            for tweets_img in target_tweets.includes['media']:\n",
    "                img_url = tweets_img['url']\n",
    "                print(img_url)\n",
    "\n",
    "            tweet['tweet'].append({\"text\": text,\"img\": img_url})\n",
    "            print(tweet)\n",
    "\n",
    "            with open('imada_mio.json', 'w', encoding='utf-8') as f:\n",
    "                json.dump(tweet, f, indent=4, ensure_ascii=False)\n",
    "\n",
    "            target_tweets = self.client.get_users_tweets(target_response.data['id'], expansions=[\"attachments.media_keys\"], max_results=10, media_fields=['preview_image_url', 'url'], exclude='retweets', pagination_token=next_token)\n",
    "\n",
    "            if next_token is None:\n",
    "                break\n",
    "\n",
    "\n",
    "\n",
    "t = Tweet_text()\n",
    "t.text_get\n",
    "\n",
    "\n",
    "        # for tweets in tweepy.Paginator(self.client.get_users_tweets, target_response.data['id'], max_results=10, media_fields=['preview_image_url', 'url'], expansions=['attachments.media_keys'], tweet_fields=[\"entities\"]).flatten(limit=250):\n"
   ]
  },
  {
   "cell_type": "markdown",
   "metadata": {},
   "source": [
    "# v1でテキストと画像取得できた"
   ]
  },
  {
   "cell_type": "markdown",
   "metadata": {},
   "source": [
    "- v2 テキストと画像取得しようとしたけどうまくいかない→ v1.1でやった方が楽という結論\n",
    "- v1でOK"
   ]
  },
  {
   "cell_type": "code",
   "execution_count": 71,
   "metadata": {},
   "outputs": [],
   "source": [
    "import tweepy\n",
    "import API_config_katudon\n",
    "import json\n",
    "import requests\n",
    "import re\n",
    "import os\n",
    "\n",
    "\n",
    "class Tweet_text:\n",
    "\n",
    "    def __init__(self, username):\n",
    "\n",
    "        auth = tweepy.OAuthHandler(API_config_katudon.API_KEY, API_config_katudon.API_SECRET)\n",
    "        auth.set_access_token(API_config_katudon.ACCESS_TOKEN, API_config_katudon.ACCESS_TOKEN_SECRET)\n",
    "        self.api = tweepy.API(auth, wait_on_rate_limit=True)\n",
    "        self.__username = username\n",
    "\n",
    "    def text_image_get(self):\n",
    "\n",
    "\n",
    "        count_no = 200\n",
    "        tweet: dict[dict] = {}\n",
    "        tweet['tweet'] = []\n",
    "\n",
    "        results: iter = tweepy.Cursor(self.api.user_timeline, # タイムラインの取得\n",
    "                    id=self.__username, # 取得対象のユーザーを指定\n",
    "                    include_entities=True, # 省略されたリンクを全て取得\n",
    "                    tweet_mode='extended', # 省略されたツイートを全て取得\n",
    "                    lang='ja',\n",
    "                    exclude_replies=False,\n",
    "                    include_rts=False).items(limit=count_no) # 取得件数を指定\n",
    "\n",
    "        index = 1\n",
    "\n",
    "        for result in results:\n",
    "            if 'media' in result.entities:\n",
    "                image_url = result.extended_entities['media'][0]['media_url']\n",
    "                texts = result.full_text\n",
    "                text = texts.split()\n",
    "                tweet_text = text[0]\n",
    "\n",
    "                print(tweet)\n",
    "\n",
    "                img_response = requests.get(image_url)\n",
    "                match img_response.status_code:\n",
    "                    case 200:\n",
    "                        os.makedirs(f'{self.__username}', mode=0o777, exist_ok=True)\n",
    "                        with open(f'{self.__username}/{index}.jpg', 'wb') as image:\n",
    "                            image.write(img_response.content)\n",
    "\n",
    "                        tweet['tweet'].append({\"text\": tweet_text, 'img': image_url, 'img_file': f'{index}.jpg'})\n",
    "                        index += 1\n",
    "\n",
    "                with open(f'{self.__username}.json', 'w', encoding='utf-8') as f:\n",
    "                    json.dump(tweet, f, indent=4, ensure_ascii=False)"
   ]
  },
  {
   "cell_type": "code",
   "execution_count": null,
   "metadata": {},
   "outputs": [],
   "source": [
    "t = Tweet_text('erika_1837')\n",
    "t.text_image_get()"
   ]
  },
  {
   "cell_type": "code",
   "execution_count": null,
   "metadata": {},
   "outputs": [],
   "source": [
    "load = json.load(open('erika_1837.json', 'r'))\n",
    "l = load['tweet']\n",
    "\n",
    "\n",
    "for i in l:\n",
    "    print(i['img'])\n",
    "    img_response = requests.get(i['img'])"
   ]
  },
  {
   "cell_type": "markdown",
   "metadata": {},
   "source": [
    "NG エロアカウントからテキストだけもらう"
   ]
  },
  {
   "cell_type": "code",
   "execution_count": 1,
   "metadata": {},
   "outputs": [],
   "source": [
    "import tweepy\n",
    "import API_config_katudon\n",
    "import json\n",
    "\n",
    "\n",
    "class Tweet_text:\n",
    "\n",
    "    def __init__(self, username):\n",
    "\n",
    "        self.client = tweepy.Client(consumer_key=API_config_katudon.API_KEY, consumer_secret=API_config_katudon.API_SECRET, access_token=API_config_katudon.ACCESS_TOKEN, access_token_secret=API_config_katudon.ACCESS_TOKEN_SECRET, bearer_token=API_config_katudon.Bearer_token, wait_on_rate_limit=True)\n",
    "        self.count = 5\n",
    "        self.__username = username\n",
    "\n",
    "    def text_get(self):\n",
    "        \"\"\"_summary_\n",
    "        usernameにアカウント名を入力\n",
    "        \"\"\"\n",
    "\n",
    "        tweet: dict[dict] = {}\n",
    "        tweet['tweet'] = []\n",
    "\n",
    "        target_response = self.client.get_user(username=self.__username) # usernameにアカウント名を入力\n",
    "        # テキストだけ\n",
    "        target_tweets = self.client.get_users_tweets(target_response.data['id'], max_results=100, exclude=['retweets', 'replies'])\n",
    "        print(target_tweets)\n",
    "\n",
    "        while True:\n",
    "            next_token = target_tweets.meta['next_token']\n",
    "\n",
    "            for tweets in target_tweets.data:\n",
    "                text = tweets.data['text']\n",
    "                tweet['tweet'].append({\"text\": text})\n",
    "\n",
    "            with open(f'{self.__username}.json', 'w', encoding='utf-8') as f:\n",
    "                json.dump(tweet, f, indent=4, ensure_ascii=False)\n",
    "\n",
    "            target_tweets = self.client.get_users_tweets(target_response.data['id'], max_results=100, exclude=['retweets', 'replies'])\n",
    "\n",
    "            if next_token is None:\n",
    "                break\n",
    "\n",
    "        # if next_token:\n",
    "        #     while True:\n",
    "        #         target_tweets_next = self.client.get_users_tweets(target_response.data['id'], max_results=100, exclude=['retweets', 'replies'], pagination_token=next_token)\n",
    "        #         next_token = target_tweets_next.meta['next_token']\n",
    "\n",
    "        #         for tweets in target_tweets_next.data:\n",
    "        #             text = tweets.data['text']\n",
    "        #             print(text)\n",
    "\n",
    "        #             tweet['tweet'].append({\"text\": text})\n",
    "        #             print(tweet)\n",
    "\n",
    "        #             with open(f'{self.__username}.json', 'w', encoding='utf-8') as f:\n",
    "        #                 json.dump(tweet, f, indent=4, ensure_ascii=False)\n",
    "\n",
    "        #         if next_token is None:\n",
    "        #             break\n",
    "\n",
    "        # for tweets in tweepy.Paginator(self.client.get_users_tweets, target_response.data['id'], max_results=10, media_fields=['preview_image_url', 'url'], expansions=['attachments.media_keys'], tweet_fields=[\"entities\"]).flatten(limit=250):\n"
   ]
  },
  {
   "cell_type": "code",
   "execution_count": null,
   "metadata": {},
   "outputs": [],
   "source": [
    "t = Tweet_text('hikarinspecial')\n",
    "t.text_get"
   ]
  },
  {
   "cell_type": "markdown",
   "metadata": {},
   "source": [
    "# テキストだけ取得（paginatorを使う）"
   ]
  },
  {
   "cell_type": "code",
   "execution_count": 15,
   "metadata": {},
   "outputs": [],
   "source": [
    "import tweepy\n",
    "import API_config_katudon\n",
    "import json\n",
    "\n",
    "\n",
    "class Tweet_text:\n",
    "\n",
    "    def __init__(self, username):\n",
    "\n",
    "        self.client = tweepy.Client(consumer_key=API_config_katudon.API_KEY, consumer_secret=API_config_katudon.API_SECRET, access_token=API_config_katudon.ACCESS_TOKEN, access_token_secret=API_config_katudon.ACCESS_TOKEN_SECRET, bearer_token=API_config_katudon.Bearer_token, wait_on_rate_limit=True)\n",
    "        self.count = 5\n",
    "        self.__username = username\n",
    "\n",
    "    def text_get(self):\n",
    "        \"\"\"_summary_\n",
    "        usernameにアカウント名を入力\n",
    "        \"\"\"\n",
    "\n",
    "        tweet: dict[dict] = {}\n",
    "        tweet['tweet'] = []\n",
    "        target_response = self.client.get_user(username=self.__username) # usernameにアカウント名を入力\n",
    "\n",
    "        for tweets in tweepy.Paginator(self.client.get_users_tweets,target_response.data['id'], exclude=['retweets', 'replies'],max_results=100).flatten(limit=1000):\n",
    "\n",
    "            text = tweets.data['text']\n",
    "            tweet['tweet'].append({\"text\": text})\n",
    "\n",
    "            with open(f'{self.__username}.json', 'w', encoding='utf-8') as f:\n",
    "                json.dump(tweet, f, indent=4, ensure_ascii=False)\n"
   ]
  },
  {
   "cell_type": "code",
   "execution_count": 18,
   "metadata": {},
   "outputs": [],
   "source": [
    "t = Tweet_text('Lillian46612363')\n",
    "t.text_get()"
   ]
  },
  {
   "cell_type": "markdown",
   "metadata": {},
   "source": [
    "# mizugazo更新分だけもらう"
   ]
  },
  {
   "cell_type": "code",
   "execution_count": null,
   "metadata": {},
   "outputs": [
    {
     "ename": "",
     "evalue": "",
     "output_type": "error",
     "traceback": [
      "\u001b[1;31mRunning cells with 'Python 3.10.4 ('basic')' requires ipykernel package.\n",
      "Run the following command to install 'ipykernel' into the Python environment. \n",
      "Command: 'conda install -n basic ipykernel --update-deps --force-reinstall'"
     ]
    }
   ],
   "source": [
    "old_json = json.load(open('old_mizugazo_all_photos.json', 'r'))"
   ]
  },
  {
<<<<<<< HEAD
   "cell_type": "code",
   "execution_count": 2,
   "metadata": {},
   "outputs": [],
   "source": [
    "import tweepy\n",
    "import API_config_katudon\n",
    "import json\n",
    "\n",
    "\n",
    "class Tweet_text:\n",
    "\n",
    "    def __init__(self, username):\n",
    "\n",
    "        self.client = tweepy.Client(consumer_key=API_config_katudon.API_KEY, consumer_secret=API_config_katudon.API_SECRET, access_token=API_config_katudon.ACCESS_TOKEN, access_token_secret=API_config_katudon.ACCESS_TOKEN_SECRET, bearer_token=API_config_katudon.Bearer_token, wait_on_rate_limit=True)\n",
    "        self.__username = username\n",
    "\n",
    "    def text_get(self):\n",
    "        \"\"\"_summary_\n",
    "        usernameにアカウント名を入力\n",
    "        \"\"\"\n",
    "\n",
    "        tweet: dict[dict] = {}\n",
    "        tweet['tweet'] = []\n",
    "        target_response = self.client.get_user(username=self.__username) # usernameにアカウント名を入力\n",
    "\n",
    "        for tweets in tweepy.Paginator(self.client.get_users_tweets,target_response.data['id'], exclude=['replies'],max_results=100).flatten(limit=3000):\n",
    "\n",
    "            self.client.delete_tweet(tweets.id)\n",
    "\n",
    "            # JSON保存\n",
    "            # text = tweets.data['text']\n",
    "            # tweet['tweet'].append({\"text\": text})\n",
    "            # with open(f'{self.__username}.json', 'w', encoding='utf-8') as f:\n",
    "            #     json.dump(tweet, f, indent=4, ensure_ascii=False)\n",
    "\n",
    "t = Tweet_text('katudon')\n",
    "t.text_get()"
   ]
  },
  {
=======
>>>>>>> bb7e9eddce72e78dfbc64a3ac167ae82a96d268e
   "cell_type": "code",
   "execution_count": null,
   "metadata": {},
   "outputs": [],
   "source": []
  }
 ],
 "metadata": {
  "interpreter": {
   "hash": "1f330ea862bacd653c47aee47a3d96104fc7339649b54b9bd81f5bfcd3c1e41f"
  },
  "kernelspec": {
   "display_name": "Python 3.10.4 ('basic')",
   "language": "python",
   "name": "python3"
  },
  "language_info": {
   "codemirror_mode": {
    "name": "ipython",
    "version": 3
   },
   "file_extension": ".py",
   "mimetype": "text/x-python",
   "name": "python",
   "nbconvert_exporter": "python",
   "pygments_lexer": "ipython3",
   "version": "3.10.4"
  },
  "orig_nbformat": 4
 },
 "nbformat": 4,
 "nbformat_minor": 2
}
