{
 "cells": [
  {
   "cell_type": "markdown",
   "metadata": {},
   "source": [
    "# アカウントのテキストと画像をもらう"
   ]
  },
  {
   "cell_type": "code",
   "execution_count": null,
   "metadata": {},
   "outputs": [],
   "source": [
    "import tweepy\n",
    "import API_config_katudon\n",
    "import json\n",
    "\n",
    "\n",
    "class Tweet_text:\n",
    "\n",
    "    def __init__(self):\n",
    "\n",
    "        self.client = tweepy.Client(consumer_key=API_config_katudon.API_KEY, consumer_secret=API_config_katudon.API_SECRET, access_token=API_config_katudon.ACCESS_TOKEN, access_token_secret=API_config_katudon.ACCESS_TOKEN_SECRET, bearer_token=API_config_katudon.Bearer_token)\n",
    "        self.count = 5\n",
    "\n",
    "\n",
    "    @property\n",
    "    def text_media_get(self):\n",
    "        \"\"\"_summary_\n",
    "        usernameにアカウント名を入力\n",
    "\n",
    "        画像を取る場合は以下を有効にする\n",
    "        for tweets_img in target_tweets.includes['media']:\n",
    "\n",
    "        \"\"\"\n",
    "\n",
    "        tweet: dict[dict] = {}\n",
    "        tweet['tweet'] = []\n",
    "\n",
    "        target_response = self.client.get_user(username='cutethigh') # usernameにアカウント名を入力\n",
    "        target_tweets = self.client.get_users_tweets(target_response.data['id'], expansions=[\"attachments.media_keys\"], max_results=10, media_fields=['preview_image_url', 'url'], exclude='retweets')\n",
    "\n",
    "        while True:\n",
    "            print(target_tweets)\n",
    "            next_token = target_tweets.meta['next_token']\n",
    "\n",
    "            # テキストを取る\n",
    "            for tweets in target_tweets.data:\n",
    "                text = tweets.data['text']\n",
    "                print(text)\n",
    "\n",
    "            # 画像を取る\n",
    "            for tweets_img in target_tweets.includes['media']:\n",
    "                img_url = tweets_img['url']\n",
    "                print(img_url)\n",
    "\n",
    "            tweet['tweet'].append({\"text\": text,\"img\": img_url})\n",
    "            print(tweet)\n",
    "\n",
    "            with open('/spanking.json', 'w', encoding='utf-8') as f:\n",
    "                json.dump(tweet, f, indent=4, ensure_ascii=False)\n",
    "\n",
    "            target_tweets = self.client.get_users_tweets(target_response.data['id'], expansions=[\"attachments.media_keys\"], max_results=10, media_fields=['preview_image_url', 'url'], exclude='retweets', pagination_token=next_token)\n",
    "\n",
    "            if next_token is None:\n",
    "                break\n",
    "\n",
    "\n",
    "\n",
    "t = Tweet_text()\n",
    "t.text_media_get\n",
    "\n",
    "\n",
    "        # for tweets in tweepy.Paginator(self.client.get_users_tweets, target_response.data['id'], max_results=10, media_fields=['preview_image_url', 'url'], expansions=['attachments.media_keys'], tweet_fields=[\"entities\"]).flatten(limit=250):\n"
   ]
  },
  {
   "cell_type": "markdown",
   "metadata": {},
   "source": [
    "# v1でテキストと画像取得できた"
   ]
  },
  {
   "cell_type": "markdown",
   "metadata": {},
   "source": [
    "- v2 テキストと画像取得しようとしたけどうまくいかない→ v1.1でやった方が楽という結論\n",
    "- v1でOK"
   ]
  },
  {
   "cell_type": "code",
   "execution_count": 71,
   "metadata": {},
   "outputs": [],
   "source": [
    "import tweepy\n",
    "import API_config_katudon\n",
    "import json\n",
    "import requests\n",
    "import re\n",
    "import os\n",
    "\n",
    "\n",
    "class Tweet_text:\n",
    "\n",
    "    def __init__(self, username):\n",
    "\n",
    "        auth = tweepy.OAuthHandler(API_config_katudon.API_KEY, API_config_katudon.API_SECRET)\n",
    "        auth.set_access_token(API_config_katudon.ACCESS_TOKEN, API_config_katudon.ACCESS_TOKEN_SECRET)\n",
    "        self.api = tweepy.API(auth, wait_on_rate_limit=True)\n",
    "        self.__username = username\n",
    "\n",
    "    def text_image_get(self):\n",
    "\n",
    "\n",
    "        count_no = 200\n",
    "        tweet: dict[dict] = {}\n",
    "        tweet['tweet'] = []\n",
    "\n",
    "        results: iter = tweepy.Cursor(self.api.user_timeline, # タイムラインの取得\n",
    "                    id=self.__username, # 取得対象のユーザーを指定\n",
    "                    include_entities=True, # 省略されたリンクを全て取得\n",
    "                    tweet_mode='extended', # 省略されたツイートを全て取得\n",
    "                    lang='ja',\n",
    "                    exclude_replies=False,\n",
    "                    include_rts=False).items(limit=count_no) # 取得件数を指定\n",
    "\n",
    "        index = 1\n",
    "\n",
    "        for result in results:\n",
    "            if 'media' in result.entities:\n",
    "                image_url = result.extended_entities['media'][0]['media_url']\n",
    "                texts = result.full_text\n",
    "                text = texts.split()\n",
    "                tweet_text = text[0]\n",
    "\n",
    "                print(tweet)\n",
    "\n",
    "                img_response = requests.get(image_url)\n",
    "                match img_response.status_code:\n",
    "                    case 200:\n",
    "                        os.makedirs(f'{self.__username}', mode=0o777, exist_ok=True)\n",
    "                        with open(f'{self.__username}/{index}.jpg', 'wb') as image:\n",
    "                            image.write(img_response.content)\n",
    "\n",
    "                        tweet['tweet'].append({\"text\": tweet_text, 'img': image_url, 'img_file': f'{index}.jpg'})\n",
    "                        index += 1\n",
    "\n",
    "                with open(f'{self.__username}.json', 'w', encoding='utf-8') as f:\n",
    "                    json.dump(tweet, f, indent=4, ensure_ascii=False)"
   ]
  },
  {
   "cell_type": "code",
   "execution_count": null,
   "metadata": {},
   "outputs": [],
   "source": [
    "t = Tweet_text('erika_1837')\n",
    "t.text_image_get()"
   ]
  },
  {
   "cell_type": "code",
   "execution_count": null,
   "metadata": {},
   "outputs": [],
   "source": [
    "load = json.load(open('erika_1837.json', 'r'))\n",
    "l = load['tweet']\n",
    "\n",
    "\n",
    "for i in l:\n",
    "    print(i['img'])\n",
    "    img_response = requests.get(i['img'])"
   ]
  },
  {
   "cell_type": "markdown",
   "metadata": {},
   "source": [
    "NG エロアカウントからテキストだけもらう"
   ]
  },
  {
   "cell_type": "code",
   "execution_count": 1,
   "metadata": {},
   "outputs": [],
   "source": [
    "import tweepy\n",
    "import API_config_katudon\n",
    "import json\n",
    "\n",
    "\n",
    "class Tweet_text:\n",
    "\n",
    "    def __init__(self, username):\n",
    "\n",
    "        self.client = tweepy.Client(consumer_key=API_config_katudon.API_KEY, consumer_secret=API_config_katudon.API_SECRET, access_token=API_config_katudon.ACCESS_TOKEN, access_token_secret=API_config_katudon.ACCESS_TOKEN_SECRET, bearer_token=API_config_katudon.Bearer_token, wait_on_rate_limit=True)\n",
    "        self.count = 5\n",
    "        self.__username = username\n",
    "\n",
    "    def text_get(self):\n",
    "        \"\"\"_summary_\n",
    "        usernameにアカウント名を入力\n",
    "        \"\"\"\n",
    "\n",
    "        tweet: dict[dict] = {}\n",
    "        tweet['tweet'] = []\n",
    "\n",
    "        target_response = self.client.get_user(username=self.__username) # usernameにアカウント名を入力\n",
    "        # テキストだけ\n",
    "        target_tweets = self.client.get_users_tweets(target_response.data['id'], max_results=100, exclude=['retweets', 'replies'])\n",
    "        print(target_tweets)\n",
    "\n",
    "        while True:\n",
    "            next_token = target_tweets.meta['next_token']\n",
    "\n",
    "            for tweets in target_tweets.data:\n",
    "                text = tweets.data['text']\n",
    "                tweet['tweet'].append({\"text\": text})\n",
    "\n",
    "            with open(f'{self.__username}.json', 'w', encoding='utf-8') as f:\n",
    "                json.dump(tweet, f, indent=4, ensure_ascii=False)\n",
    "\n",
    "            target_tweets = self.client.get_users_tweets(target_response.data['id'], max_results=100, exclude=['retweets', 'replies'])\n",
    "\n",
    "            if next_token is None:\n",
    "                break\n",
    "\n",
    "        # if next_token:\n",
    "        #     while True:\n",
    "        #         target_tweets_next = self.client.get_users_tweets(target_response.data['id'], max_results=100, exclude=['retweets', 'replies'], pagination_token=next_token)\n",
    "        #         next_token = target_tweets_next.meta['next_token']\n",
    "\n",
    "        #         for tweets in target_tweets_next.data:\n",
    "        #             text = tweets.data['text']\n",
    "        #             print(text)\n",
    "\n",
    "        #             tweet['tweet'].append({\"text\": text})\n",
    "        #             print(tweet)\n",
    "\n",
    "        #             with open(f'{self.__username}.json', 'w', encoding='utf-8') as f:\n",
    "        #                 json.dump(tweet, f, indent=4, ensure_ascii=False)\n",
    "\n",
    "        #         if next_token is None:\n",
    "        #             break\n",
    "\n",
    "        # for tweets in tweepy.Paginator(self.client.get_users_tweets, target_response.data['id'], max_results=10, media_fields=['preview_image_url', 'url'], expansions=['attachments.media_keys'], tweet_fields=[\"entities\"]).flatten(limit=250):\n"
   ]
  },
  {
   "cell_type": "code",
   "execution_count": null,
   "metadata": {},
   "outputs": [],
   "source": [
    "t = Tweet_text('hikarinspecial')\n",
    "t.text_get"
   ]
  },
  {
   "cell_type": "markdown",
   "metadata": {},
   "source": [
    "# テキストだけ取得（paginatorを使う）"
   ]
  },
  {
   "cell_type": "code",
   "execution_count": 1,
   "metadata": {},
   "outputs": [],
   "source": [
    "import tweepy\n",
    "import API_config_katudon\n",
    "import json\n",
    "\n",
    "\n",
    "class Tweet_text:\n",
    "\n",
    "    def __init__(self, username):\n",
    "\n",
    "        self.client = tweepy.Client(consumer_key=API_config_katudon.API_KEY, consumer_secret=API_config_katudon.API_SECRET, access_token=API_config_katudon.ACCESS_TOKEN, access_token_secret=API_config_katudon.ACCESS_TOKEN_SECRET, bearer_token=API_config_katudon.Bearer_token, wait_on_rate_limit=True)\n",
    "        self.count = 5\n",
    "        self.__username = username\n",
    "\n",
    "    def text_get(self):\n",
    "        \"\"\"_summary_\n",
    "        usernameにアカウント名を入力\n",
    "        \"\"\"\n",
    "\n",
    "        tweet: dict[dict] = {}\n",
    "        tweet['tweet'] = []\n",
    "        target_response = self.client.get_user(username=self.__username) # usernameにアカウント名を入力\n",
    "\n",
    "        for tweets in tweepy.Paginator(self.client.get_users_tweets,target_response.data['id'], exclude=['retweets', 'replies'],max_results=100).flatten(limit=1000):\n",
    "\n",
    "            text = tweets.data['text']\n",
    "            tweet['tweet'].append({\"text\": text})\n",
    "\n",
    "            with open(f'{self.__username}.json', 'w', encoding='utf-8') as f:\n",
    "                json.dump(tweet, f, indent=4, ensure_ascii=False)\n"
   ]
  },
  {
   "cell_type": "code",
   "execution_count": 2,
   "metadata": {},
   "outputs": [
    {
     "ename": "KeyboardInterrupt",
     "evalue": "",
     "output_type": "error",
     "traceback": [
      "\u001b[0;31m---------------------------------------------------------------------------\u001b[0m",
      "\u001b[0;31mKeyboardInterrupt\u001b[0m                         Traceback (most recent call last)",
      "\u001b[1;32m/Users/ore/Documents/GitHub/DMM/twitter_pic_download/text1_get.ipynb Cell 13'\u001b[0m in \u001b[0;36m<cell line: 2>\u001b[0;34m()\u001b[0m\n\u001b[1;32m      <a href='vscode-notebook-cell:/Users/ore/Documents/GitHub/DMM/twitter_pic_download/text1_get.ipynb#ch0000012?line=0'>1</a>\u001b[0m t \u001b[39m=\u001b[39m Tweet_text(\u001b[39m'\u001b[39m\u001b[39mLillian46612363\u001b[39m\u001b[39m'\u001b[39m)\n\u001b[0;32m----> <a href='vscode-notebook-cell:/Users/ore/Documents/GitHub/DMM/twitter_pic_download/text1_get.ipynb#ch0000012?line=1'>2</a>\u001b[0m t\u001b[39m.\u001b[39;49mtext_get()\n",
      "\u001b[1;32m/Users/ore/Documents/GitHub/DMM/twitter_pic_download/text1_get.ipynb Cell 12'\u001b[0m in \u001b[0;36mTweet_text.text_get\u001b[0;34m(self)\u001b[0m\n\u001b[1;32m     <a href='vscode-notebook-cell:/Users/ore/Documents/GitHub/DMM/twitter_pic_download/text1_get.ipynb#ch0000011?line=24'>25</a>\u001b[0m text \u001b[39m=\u001b[39m tweets\u001b[39m.\u001b[39mdata[\u001b[39m'\u001b[39m\u001b[39mtext\u001b[39m\u001b[39m'\u001b[39m]\n\u001b[1;32m     <a href='vscode-notebook-cell:/Users/ore/Documents/GitHub/DMM/twitter_pic_download/text1_get.ipynb#ch0000011?line=25'>26</a>\u001b[0m tweet[\u001b[39m'\u001b[39m\u001b[39mtweet\u001b[39m\u001b[39m'\u001b[39m]\u001b[39m.\u001b[39mappend({\u001b[39m\"\u001b[39m\u001b[39mtext\u001b[39m\u001b[39m\"\u001b[39m: text})\n\u001b[0;32m---> <a href='vscode-notebook-cell:/Users/ore/Documents/GitHub/DMM/twitter_pic_download/text1_get.ipynb#ch0000011?line=27'>28</a>\u001b[0m \u001b[39mwith\u001b[39;00m \u001b[39mopen\u001b[39m(\u001b[39mf\u001b[39m\u001b[39m'\u001b[39m\u001b[39m{\u001b[39;00m\u001b[39mself\u001b[39m\u001b[39m.\u001b[39m__username\u001b[39m}\u001b[39;00m\u001b[39m.json\u001b[39m\u001b[39m'\u001b[39m, \u001b[39m'\u001b[39m\u001b[39mw\u001b[39m\u001b[39m'\u001b[39m, encoding\u001b[39m=\u001b[39m\u001b[39m'\u001b[39m\u001b[39mutf-8\u001b[39m\u001b[39m'\u001b[39m) \u001b[39mas\u001b[39;00m f:\n\u001b[1;32m     <a href='vscode-notebook-cell:/Users/ore/Documents/GitHub/DMM/twitter_pic_download/text1_get.ipynb#ch0000011?line=28'>29</a>\u001b[0m     json\u001b[39m.\u001b[39mdump(tweet, f, indent\u001b[39m=\u001b[39m\u001b[39m4\u001b[39m, ensure_ascii\u001b[39m=\u001b[39m\u001b[39mFalse\u001b[39;00m)\n",
      "\u001b[0;31mKeyboardInterrupt\u001b[0m: "
     ]
    }
   ],
   "source": [
    "t = Tweet_text('Lillian46612363')\n",
    "t.text_get()"
   ]
  },
  {
   "cell_type": "markdown",
   "metadata": {},
   "source": [
    "# mizugazo更新分だけもらう"
   ]
  },
  {
   "cell_type": "code",
   "execution_count": null,
   "metadata": {},
   "outputs": [
    {
     "ename": "",
     "evalue": "",
     "output_type": "error",
     "traceback": [
      "\u001b[1;31mRunning cells with 'Python 3.10.4 ('basic')' requires ipykernel package.\n",
      "Run the following command to install 'ipykernel' into the Python environment. \n",
      "Command: 'conda install -n basic ipykernel --update-deps --force-reinstall'"
     ]
    }
   ],
   "source": [
    "old_json = json.load(open('old_mizugazo_all_photos.json', 'r'))"
   ]
  },
  {
   "cell_type": "code",
   "execution_count": 1,
   "metadata": {},
   "outputs": [],
   "source": []
  },
  {
   "cell_type": "markdown",
   "metadata": {},
   "source": [
    "# ツイ消し"
   ]
  },
  {
   "cell_type": "code",
   "execution_count": 2,
   "metadata": {},
   "outputs": [],
   "source": [
    "import tweepy\n",
    "import API_config_katudon\n",
    "import json\n",
    "\n",
    "\n",
    "class Tweet_text:\n",
    "\n",
    "    def __init__(self, username):\n",
    "\n",
    "        self.client = tweepy.Client(consumer_key=API_config_katudon.API_KEY, consumer_secret=API_config_katudon.API_SECRET, access_token=API_config_katudon.ACCESS_TOKEN, access_token_secret=API_config_katudon.ACCESS_TOKEN_SECRET, bearer_token=API_config_katudon.Bearer_token, wait_on_rate_limit=True)\n",
    "        self.__username = username\n",
    "\n",
    "    def text_get(self):\n",
    "        \"\"\"_summary_\n",
    "        usernameにアカウント名を入力\n",
    "        \"\"\"\n",
    "\n",
    "        tweet: dict[dict] = {}\n",
    "        tweet['tweet'] = []\n",
    "        target_response = self.client.get_user(username=self.__username) # usernameにアカウント名を入力\n",
    "\n",
    "        for tweets in tweepy.Paginator(self.client.get_users_tweets,target_response.data['id'], exclude=['replies'],max_results=100).flatten(limit=3000):\n",
    "\n",
    "            self.client.delete_tweet(tweets.id)\n",
    "\n",
    "            # JSON保存\n",
    "            # text = tweets.data['text']\n",
    "            # tweet['tweet'].append({\"text\": text})\n",
    "            # with open(f'{self.__username}.json', 'w', encoding='utf-8') as f:\n",
    "            #     json.dump(tweet, f, indent=4, ensure_ascii=False)\n",
    "\n",
    "t = Tweet_text('katudon')\n",
    "t.text_get()"
   ]
  },
  {
   "cell_type": "markdown",
   "metadata": {},
   "source": [
    "# 動画だけダウンロード"
   ]
  },
  {
   "cell_type": "code",
   "execution_count": null,
   "metadata": {},
   "outputs": [],
   "source": [
    "# TODO スパンキング動画\n",
    "\n",
    "import tweepy\n",
    "import API_config_katudon\n",
    "import json\n",
    "import requests\n",
    "import re\n",
    "import os\n",
    "\n",
    "\n",
    "class Tweet_text:\n",
    "\n",
    "    def __init__(self, username):\n",
    "\n",
    "        auth = tweepy.OAuthHandler(API_config_katudon.API_KEY, API_config_katudon.API_SECRET)\n",
    "        auth.set_access_token(API_config_katudon.ACCESS_TOKEN, API_config_katudon.ACCESS_TOKEN_SECRET)\n",
    "        self.api = tweepy.API(auth, wait_on_rate_limit=True)\n",
    "        self.__username = username\n",
    "\n",
    "    def text_image_get(self):\n",
    "\n",
    "\n",
    "        count_no = 200\n",
    "        tweet: dict[dict] = {}\n",
    "        tweet['tweet'] = []\n",
    "\n",
    "        results: iter = tweepy.Cursor(self.api.user_timeline, # タイムラインの取得\n",
    "                    id=self.__username, # 取得対象のユーザーを指定\n",
    "                    include_entities=True, # 省略されたリンクを全て取得\n",
    "                    tweet_mode='extended', # 省略されたツイートを全て取得\n",
    "                    lang='ja',\n",
    "                    exclude_replies=False,\n",
    "                    include_rts=False).items(limit=count_no) # 取得件数を指定\n",
    "\n",
    "        index = 1\n",
    "\n",
    "        for result in results:\n",
    "            if 'media' in result.entities:\n",
    "                image_url = result.extended_entities['media'][0]['media_url']\n",
    "                texts = result.full_text\n",
    "                text = texts.split()\n",
    "                tweet_text = text[0]\n",
    "\n",
    "                print(tweet)\n",
    "\n",
    "                img_response = requests.get(image_url)\n",
    "                match img_response.status_code:\n",
    "                    case 200:\n",
    "                        os.makedirs(f'{self.__username}', mode=0o777, exist_ok=True)\n",
    "                        with open(f'{self.__username}/{index}.mp4', 'wb') as image:\n",
    "                            image.write(img_response.content)\n",
    "\n",
    "                        tweet['tweet'].append({\"text\": tweet_text, 'img': image_url, 'img_file': f'{index}.jpg'})\n",
    "                        index += 1\n",
    "\n",
    "                with open(f'{self.__username}.json', 'w', encoding='utf-8') as f:\n",
    "                    json.dump(tweet, f, indent=4, ensure_ascii=False)\n",
    "\n",
    "t = Tweet_text('cutethigh')\n",
    "t.text_image_get()"
   ]
  },
  {
   "cell_type": "markdown",
   "metadata": {},
   "source": [
    "# Twitter api V2 自動RTだけ"
   ]
  },
  {
   "cell_type": "code",
   "execution_count": 2,
   "metadata": {},
   "outputs": [
    {
     "name": "stdout",
     "output_type": "stream",
     "text": [
      "Response(data=[<Tweet id=1527839086148468736 text='https://t.co/Y7RPMxEQmy'>, <Tweet id=1527812130870796291 text=\"Thanks for letting me push in silence for this week. Next week things will begin to get interesting. \\n\\nAlso seen some GREAT art from .@PlaysideStudios for our Shib CCG. Can't wait to share. Great work mates!\">, <Tweet id=1527350736819933207 text='Thanks for the chat about everything #SHIB .@redbull ! Looking forward to speaking more in the future! https://t.co/ROh3RceFyS'>, <Tweet id=1525236841011564544 text=\"Over 250k impressions on this tweet. If it helped even one person I am eternally grateful to be at your service.\\n\\nI was told once by a beautiful butterfly that the hardest part isn't flight; it's breaking, and then climbing out of a chrysalis and waiting for your wings to dry. https://t.co/GpW6JfBFjA\">, <Tweet id=1524610261805670401 text='A personal medium post: The Semicolon Tattoo\\n https://t.co/dQhnw72e3I'>, <Tweet id=1524559207055474695 text='https://t.co/ntkIeeugUA https://t.co/gjiFpYvLpc'>, <Tweet id=1524392451343097856 text='😋 https://t.co/X6IKjn72PT'>, <Tweet id=1524124287489167363 text='Lots to cover in this article including Shibarium, Shi, ShibFE, Shib Narrative Shib MV and our incredible partnershibs (Welly, JR x SHIB) including our introduction to CK1. https://t.co/Afy2xQc3Ij'>, <Tweet id=1524118324539535361 text='Excellent way to hear the article while I write @TwitterSupport... https://t.co/AjFXTBtZrr'>, <Tweet id=1524116981414338562 text='#MercuryRetrograde'>], includes={}, errors=[], meta={'next_token': '7140dibdnow9c7btw421e374riu01ejo8ycoqg0opwgtu', 'result_count': 10, 'newest_id': '1527839086148468736', 'oldest_id': '1524116981414338562'})\n",
      "RT完了!!\n",
      "RT完了!!\n",
      "RT完了!!\n",
      "RT完了!!\n",
      "RT完了!!\n"
     ]
    },
    {
     "ename": "KeyboardInterrupt",
     "evalue": "",
     "output_type": "error",
     "traceback": [
      "\u001b[0;31m---------------------------------------------------------------------------\u001b[0m",
      "\u001b[0;31mKeyboardInterrupt\u001b[0m                         Traceback (most recent call last)",
      "\u001b[1;32m/Users/ore/Documents/GitHub/DMM/twitter_pic_download/text1_get.ipynb Cell 21'\u001b[0m in \u001b[0;36m<cell line: 22>\u001b[0;34m()\u001b[0m\n\u001b[1;32m     <a href='vscode-notebook-cell:/Users/ore/Documents/GitHub/DMM/twitter_pic_download/text1_get.ipynb#ch0000020?line=22'>23</a>\u001b[0m \u001b[39mtry\u001b[39;00m:\n\u001b[1;32m     <a href='vscode-notebook-cell:/Users/ore/Documents/GitHub/DMM/twitter_pic_download/text1_get.ipynb#ch0000020?line=23'>24</a>\u001b[0m     client\u001b[39m.\u001b[39mretweet(tweet\u001b[39m.\u001b[39mid) \u001b[39m# 自動RT\u001b[39;00m\n\u001b[0;32m---> <a href='vscode-notebook-cell:/Users/ore/Documents/GitHub/DMM/twitter_pic_download/text1_get.ipynb#ch0000020?line=24'>25</a>\u001b[0m     time\u001b[39m.\u001b[39;49msleep(waitx)\n\u001b[1;32m     <a href='vscode-notebook-cell:/Users/ore/Documents/GitHub/DMM/twitter_pic_download/text1_get.ipynb#ch0000020?line=26'>27</a>\u001b[0m     \u001b[39mprint\u001b[39m(\u001b[39m'\u001b[39m\u001b[39mRT完了!!\u001b[39m\u001b[39m'\u001b[39m)\n\u001b[1;32m     <a href='vscode-notebook-cell:/Users/ore/Documents/GitHub/DMM/twitter_pic_download/text1_get.ipynb#ch0000020?line=27'>28</a>\u001b[0m \u001b[39mexcept\u001b[39;00m \u001b[39mException\u001b[39;00m \u001b[39mas\u001b[39;00m e:\n",
      "\u001b[0;31mKeyboardInterrupt\u001b[0m: "
     ]
    }
   ],
   "source": [
    "import tweepy\n",
    "import API_config_1oku\n",
    "import time\n",
    "import random\n",
    "\n",
    "\n",
    "# Twitter API v2対応\n",
    "client = tweepy.Client(consumer_key=API_config_1oku.API_KEY, consumer_secret=API_config_1oku.API_SECRET, access_token=API_config_1oku.ACCESS_TOKEN, access_token_secret=API_config_1oku.ACCESS_TOKEN_SECRET, bearer_token=API_config_1oku.Bearer_token)\n",
    "\n",
    "# 取得したい件数 = RTする件数\n",
    "counts = 10\n",
    "\n",
    "#ランダム待機時間\n",
    "wait1 = random.random()\n",
    "wait2 = random.randint(30,50)\n",
    "waitx = round(wait1 + wait2,3)\n",
    "\n",
    "get_id = client.get_user(username='ShytoshiKusama')\n",
    "response =  client.get_users_tweets(get_id.data['id'], exclude=['retweets', 'replies'])\n",
    "print(response)\n",
    "\n",
    "for tweet in response.data:\n",
    "    try:\n",
    "        client.retweet(tweet.id) # 自動RT\n",
    "        time.sleep(waitx)\n",
    "\n",
    "        print('RT完了!!')\n",
    "    except Exception as e:\n",
    "        print(e)\n"
   ]
  },
  {
   "cell_type": "code",
   "execution_count": null,
   "metadata": {},
   "outputs": [],
   "source": []
  }
 ],
 "metadata": {
  "interpreter": {
   "hash": "0a1ece316646461d52424eec54ae6b7be77db122250a261dac31fc3040797f8d"
  },
  "kernelspec": {
   "display_name": "Python 3.10.4 ('scraping')",
   "language": "python",
   "name": "python3"
  },
  "language_info": {
   "codemirror_mode": {
    "name": "ipython",
    "version": 3
   },
   "file_extension": ".py",
   "mimetype": "text/x-python",
   "name": "python",
   "nbconvert_exporter": "python",
   "pygments_lexer": "ipython3",
   "version": "3.10.4"
  },
  "orig_nbformat": 4
 },
 "nbformat": 4,
 "nbformat_minor": 2
}
