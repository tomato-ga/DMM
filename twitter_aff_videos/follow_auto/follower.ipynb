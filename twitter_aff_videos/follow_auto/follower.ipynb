{
 "cells": [
  {
   "cell_type": "code",
   "execution_count": 1,
   "metadata": {},
   "outputs": [],
   "source": [
    "import os\n",
    "import json\n",
    "import requests\n",
    "\n",
    "APIID = os.environ.get('DMM_API_ID', 'b7fkZaG3pW6ZZHpGBbLz')\n",
    "AFFILIATEID = os.environ.get('DMM_AFFILIATE_ID', 'kamipanmen-990')"
   ]
  },
  {
   "cell_type": "code",
   "execution_count": 2,
   "metadata": {},
   "outputs": [
    {
     "name": "stderr",
     "output_type": "stream",
     "text": [
      "<>:44: SyntaxWarning: \"is\" with a literal. Did you mean \"==\"?\n",
      "<>:44: SyntaxWarning: \"is\" with a literal. Did you mean \"==\"?\n",
      "C:\\Users\\PC_User\\AppData\\Local\\Temp\\ipykernel_23348\\1794861392.py:44: SyntaxWarning: \"is\" with a literal. Did you mean \"==\"?\n",
      "  if len(genre_item) is 0:\n"
     ]
    }
   ],
   "source": [
    "def genre_search():\n",
    "    hits_count = 10\n",
    "    offset_count = 1\n",
    "\n",
    "\n",
    "    while True:\n",
    "        genre_url = f'https://api.dmm.com/affiliate/v3/ItemList?api_id={APIID}&affiliate_id={AFFILIATEID}&site=FANZA&service=digital&floor=videoa&hits={hits_count}&sort=date&offset={offset_count}&article=genre&article_id=6940&output=json'\n",
    "        response = requests.get(genre_url)\n",
    "        genre_text = response.text\n",
    "        genre_data = json.loads(genre_text)\n",
    "        genre_item = genre_data['result']['items']\n",
    "\n",
    "\n",
    "        for items in genre_item:\n",
    "            try:\n",
    "                af_url = items['affiliateURL']\n",
    "                title = items['title']\n",
    "                videos_info = items['sampleMovieURL']\n",
    "                del videos_info['pc_flag'], videos_info['sp_flag']\n",
    "\n",
    "                size_array = []\n",
    "                video_array = []\n",
    "                for size, v_url in videos_info.items():\n",
    "\n",
    "                    max_size_info = size.split('_')\n",
    "                    split_size = int(max_size_info[1])\n",
    "                    size_array.append(split_size)\n",
    "                    video_array.append(v_url)\n",
    "\n",
    "                max_size = size_array.index(max(size_array))\n",
    "                if str(size_array[max_size]) in v_url:\n",
    "\n",
    "                    if videos_info:\n",
    "                        yield dict(\n",
    "                            title=title,\n",
    "                            aff_url=af_url,\n",
    "                            video_url=v_url\n",
    "                        )\n",
    "            except Exception as ex:\n",
    "                print(ex)\n",
    "\n",
    "        offset_count = hits_count + offset_count\n",
    "\n",
    "        if len(genre_item) is 0:\n",
    "            break\n"
   ]
  },
  {
   "cell_type": "code",
   "execution_count": null,
   "metadata": {},
   "outputs": [],
   "source": [
    "for i in genre_search():\n",
    "    print(i)"
   ]
  },
  {
   "cell_type": "code",
   "execution_count": 4,
   "metadata": {},
   "outputs": [],
   "source": [
    "videos = {\n",
    "        'size_476_306': 'https:size_476_306',\n",
    "        'size_560_360': 'https:size_644_414',\n",
    "        'size_644_414': 'https:size_644_414',\n",
    "        'size_720_480': 'https:size_720_480',\n",
    "}"
   ]
  },
  {
   "cell_type": "code",
   "execution_count": 6,
   "metadata": {},
   "outputs": [],
   "source": [
    "multiply = lambda x: (int(x.split('_')[1]) * int(x.split('_')[2]),x)\n",
    "key = sorted([*map(multiply, videos.keys())], reverse=False)[0][1]"
   ]
  },
  {
   "cell_type": "code",
   "execution_count": 9,
   "metadata": {},
   "outputs": [
    {
     "data": {
      "text/plain": [
       "'size_476_306'"
      ]
     },
     "execution_count": 9,
     "metadata": {},
     "output_type": "execute_result"
    }
   ],
   "source": [
    "key"
   ]
  },
  {
   "cell_type": "code",
   "execution_count": 7,
   "metadata": {},
   "outputs": [
    {
     "data": {
      "text/plain": [
       "'https:size_476_306'"
      ]
     },
     "execution_count": 7,
     "metadata": {},
     "output_type": "execute_result"
    }
   ],
   "source": [
    "videos[key]"
   ]
  },
  {
   "cell_type": "code",
   "execution_count": null,
   "metadata": {},
   "outputs": [],
   "source": []
  }
 ],
 "metadata": {
  "interpreter": {
   "hash": "11feb1d78534596143a490751b3fe871ec66a4c47892607133a77b452356a240"
  },
  "kernelspec": {
   "display_name": "Python 3.10.4 ('scrapy-test')",
   "language": "python",
   "name": "python3"
  },
  "language_info": {
   "codemirror_mode": {
    "name": "ipython",
    "version": 3
   },
   "file_extension": ".py",
   "mimetype": "text/x-python",
   "name": "python",
   "nbconvert_exporter": "python",
   "pygments_lexer": "ipython3",
   "version": "3.10.4"
  },
  "orig_nbformat": 4
 },
 "nbformat": 4,
 "nbformat_minor": 2
}
