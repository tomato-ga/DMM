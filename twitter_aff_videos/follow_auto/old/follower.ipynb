{
 "cells": [
  {
   "cell_type": "code",
   "execution_count": 1,
   "metadata": {},
   "outputs": [],
   "source": [
    "import os\n",
    "import json\n",
    "import requests\n",
    "\n",
    "APIID = os.environ.get('DMM_API_ID', 'b7fkZaG3pW6ZZHpGBbLz')\n",
    "AFFILIATEID = os.environ.get('DMM_AFFILIATE_ID', 'kamipanmen-990')"
   ]
  },
  {
   "cell_type": "code",
   "execution_count": 2,
   "metadata": {},
   "outputs": [
    {
     "name": "stderr",
     "output_type": "stream",
     "text": [
      "<>:44: SyntaxWarning: \"is\" with a literal. Did you mean \"==\"?\n",
      "<>:44: SyntaxWarning: \"is\" with a literal. Did you mean \"==\"?\n",
      "C:\\Users\\PC_User\\AppData\\Local\\Temp\\ipykernel_23348\\1794861392.py:44: SyntaxWarning: \"is\" with a literal. Did you mean \"==\"?\n",
      "  if len(genre_item) is 0:\n"
     ]
    }
   ],
   "source": [
    "def genre_search():\n",
    "    hits_count = 10\n",
    "    offset_count = 1\n",
    "\n",
    "\n",
    "    while True:\n",
    "        genre_url = f'https://api.dmm.com/affiliate/v3/ItemList?api_id={APIID}&affiliate_id={AFFILIATEID}&site=FANZA&service=digital&floor=videoa&hits={hits_count}&sort=date&offset={offset_count}&article=genre&article_id=6940&output=json'\n",
    "        response = requests.get(genre_url)\n",
    "        genre_text = response.text\n",
    "        genre_data = json.loads(genre_text)\n",
    "        genre_item = genre_data['result']['items']\n",
    "\n",
    "\n",
    "        for items in genre_item:\n",
    "            try:\n",
    "                af_url = items['affiliateURL']\n",
    "                title = items['title']\n",
    "                videos_info = items['sampleMovieURL']\n",
    "                del videos_info['pc_flag'], videos_info['sp_flag']\n",
    "\n",
    "                size_array = []\n",
    "                video_array = []\n",
    "                for size, v_url in videos_info.items():\n",
    "\n",
    "                    max_size_info = size.split('_')\n",
    "                    split_size = int(max_size_info[1])\n",
    "                    size_array.append(split_size)\n",
    "                    video_array.append(v_url)\n",
    "\n",
    "                max_size = size_array.index(max(size_array))\n",
    "                if str(size_array[max_size]) in v_url:\n",
    "\n",
    "                    if videos_info:\n",
    "                        yield dict(\n",
    "                            title=title,\n",
    "                            aff_url=af_url,\n",
    "                            video_url=v_url\n",
    "                        )\n",
    "            except Exception as ex:\n",
    "                print(ex)\n",
    "\n",
    "        offset_count = hits_count + offset_count\n",
    "\n",
    "        if len(genre_item) is 0:\n",
    "            break\n"
   ]
  },
  {
   "cell_type": "code",
   "execution_count": null,
   "metadata": {},
   "outputs": [],
   "source": [
    "for i in genre_search():\n",
    "    print(i)"
   ]
  },
  {
   "cell_type": "code",
   "execution_count": 4,
   "metadata": {},
   "outputs": [],
   "source": [
    "videos = {\n",
    "        'size_476_306': 'https:size_476_306',\n",
    "        'size_560_360': 'https:size_644_414',\n",
    "        'size_644_414': 'https:size_644_414',\n",
    "        'size_720_480': 'https:size_720_480',\n",
    "}"
   ]
  },
  {
   "cell_type": "code",
   "execution_count": 6,
   "metadata": {},
   "outputs": [],
   "source": [
    "multiply = lambda x: (int(x.split('_')[1]) * int(x.split('_')[2]),x)\n",
    "key = sorted([*map(multiply, videos.keys())], reverse=False)[0][1]"
   ]
  },
  {
   "cell_type": "code",
   "execution_count": 9,
   "metadata": {},
   "outputs": [
    {
     "data": {
      "text/plain": [
       "'size_476_306'"
      ]
     },
     "execution_count": 9,
     "metadata": {},
     "output_type": "execute_result"
    }
   ],
   "source": [
    "key"
   ]
  },
  {
   "cell_type": "code",
   "execution_count": 7,
   "metadata": {},
   "outputs": [
    {
     "data": {
      "text/plain": [
       "'https:size_476_306'"
      ]
     },
     "execution_count": 7,
     "metadata": {},
     "output_type": "execute_result"
    }
   ],
   "source": [
    "videos[key]"
   ]
  },
  {
   "cell_type": "code",
   "execution_count": 1,
   "metadata": {},
   "outputs": [],
   "source": [
    "l = ['Mon', 'tuw', 'wed', 'Thu', 'fri', 'sat', 'Sun']"
   ]
  },
  {
   "cell_type": "code",
   "execution_count": 2,
   "metadata": {},
   "outputs": [],
   "source": [
    "def chage(words, func):\n",
    "    for word in words:\n",
    "        print(func(word))"
   ]
  },
  {
   "cell_type": "code",
   "execution_count": 3,
   "metadata": {},
   "outputs": [],
   "source": [
    "def sam_func(word):\n",
    "    return word.capitalize()"
   ]
  },
  {
   "cell_type": "code",
   "execution_count": 4,
   "metadata": {},
   "outputs": [
    {
     "name": "stdout",
     "output_type": "stream",
     "text": [
      "Mon\n",
      "Tuw\n",
      "Wed\n",
      "Thu\n",
      "Fri\n",
      "Sat\n",
      "Sun\n"
     ]
    }
   ],
   "source": [
    "chage(l, sam_func)"
   ]
  },
  {
   "cell_type": "markdown",
   "metadata": {},
   "source": [
    "### フォロー済みIDを取得"
   ]
  },
  {
   "cell_type": "code",
   "execution_count": 6,
   "metadata": {},
   "outputs": [],
   "source": [
    "import tweepy\n",
    "import api_togsi7 as API\n",
    "import json\n",
    "import random\n",
    "\n",
    "import logging\n",
    "\n",
    "logger = logging.getLogger(\"tweepy\")\n",
    "logger.setLevel(logging.DEBUG)\n",
    "handler = logging.FileHandler(filename=\"tweepy.log\")\n",
    "logger.addHandler(handler)\n",
    "\n",
    "def apicall(API):\n",
    "    client = tweepy.Client(consumer_key=API.API_KEY, consumer_secret=API.API_SECRET, access_token=API.ACCESS_TOKEN, \\\n",
    "        access_token_secret=API.ACCESS_TOKEN_SECRET, bearer_token=API.Bearer_token, wait_on_rate_limit=True)\n",
    "    return client\n",
    "\n",
    "def followed_mine(client, my_id):\n",
    "    \"\"\"自分アカウントのフォローしてるIDを取得\"\"\"\n",
    "    followed = client.get_users_following(id=my_id, user_fields=[\"id\", \"name\"])\n",
    "    follow_id_list = [follow.id for follow in followed.data]\n",
    "    # no_follow_id = list(set(fid + new_fid))\n",
    "    # print(no_follow_id)\n",
    "    print(follow_id_list)\n",
    "    print(len(follow_id_list))\n",
    "\n",
    "    follow_dict: dict[str] = {'id': follow_id_list}\n",
    "    print(follow_dict)\n",
    "    return follow_dict"
   ]
  },
  {
   "cell_type": "markdown",
   "metadata": {},
   "source": [
    "### JSONに保存する関数"
   ]
  },
  {
   "cell_type": "code",
   "execution_count": 18,
   "metadata": {},
   "outputs": [],
   "source": [
    "def json_save(ids: dict[str], json_name):\n",
    "    \"\"\"フォロー or フォロワー候補IDをjson dump\"\"\"\n",
    "    with open(f'./{json_name}.json', 'w', encoding='utf-8') as f:\n",
    "        json.dump(ids, f, indent=4, ensure_ascii=False)"
   ]
  },
  {
   "cell_type": "markdown",
   "metadata": {},
   "source": [
    "### フォローしてる人をJSON保存"
   ]
  },
  {
   "cell_type": "code",
   "execution_count": null,
   "metadata": {},
   "outputs": [],
   "source": [
    "my_id = 1515696887781015558 #togsi ID\n",
    "client = apicall(API)\n",
    "follow_dict = followed_mine(client, my_id)\n",
    "json_save(ids=follow_dict, json_name='following_id')"
   ]
  },
  {
   "cell_type": "code",
   "execution_count": 55,
   "metadata": {},
   "outputs": [
    {
     "data": {
      "text/plain": [
       "35"
      ]
     },
     "execution_count": 55,
     "metadata": {},
     "output_type": "execute_result"
    }
   ],
   "source": [
    "load = json.load(open('following_id.json'))\n",
    "len(load['id'])"
   ]
  },
  {
   "cell_type": "markdown",
   "metadata": {},
   "source": [
    "### 新しくフォローするIDを取得"
   ]
  },
  {
   "cell_type": "code",
   "execution_count": 16,
   "metadata": {},
   "outputs": [],
   "source": [
    "def new_follow_id(client):\n",
    "    \"\"\"最新のツイートにいいねしているアカウントIDを取得する\"\"\"\n",
    "\n",
    "    response = client.get_list_tweets(id=1514978714572173313, max_results=15,  expansions=[\"attachments.media_keys\",\"referenced_tweets.id\"])\n",
    "    tweets = response.data\n",
    "    random.shuffle(tweets)\n",
    "\n",
    "    follow_id_lists = []\n",
    "    max_count= 40\n",
    "\n",
    "    for tweet in tweets:\n",
    "        tid = tweet.id\n",
    "        like_users = client.get_liking_users(tid) # TODO マックス40人までとかに制限する\n",
    "        follows = like_users.data\n",
    "\n",
    "        if follows:\n",
    "            print(f'follows（フォローする人）が{len(like_users)}人いました')\n",
    "\n",
    "            for follow in follows:\n",
    "                follow_id_lists.append(follow.id)\n",
    "\n",
    "    new_follow_dict: dict[str] = {'id': follow_id_lists[:max_count]}\n",
    "    print(len(follow_id_lists), follow_id_lists[:max_count])\n",
    "    return new_follow_dict"
   ]
  },
  {
   "cell_type": "code",
   "execution_count": null,
   "metadata": {},
   "outputs": [],
   "source": [
    "client = apicall(API)\n",
    "new_follow_dict = new_follow_id(client)\n",
    "json_save(new_follow_dict, json_name='new_follow_id')"
   ]
  },
  {
   "cell_type": "code",
   "execution_count": 1,
   "metadata": {},
   "outputs": [],
   "source": [
    "import ujson"
   ]
  },
  {
   "cell_type": "code",
   "execution_count": 89,
   "metadata": {},
   "outputs": [
    {
     "data": {
      "text/plain": [
       "50"
      ]
     },
     "execution_count": 89,
     "metadata": {},
     "output_type": "execute_result"
    }
   ],
   "source": [
    "following: json = ujson.load(open('following_id.json'))\n",
    "following_list = following['id']\n",
    "len(following['id'])"
   ]
  },
  {
   "cell_type": "code",
   "execution_count": 86,
   "metadata": {},
   "outputs": [
    {
     "data": {
      "text/plain": [
       "15"
      ]
     },
     "execution_count": 86,
     "metadata": {},
     "output_type": "execute_result"
    }
   ],
   "source": [
    "new_follow: json = ujson.load(open('./new_follow_id.json'))\n",
    "new_follow_list = new_follow['id']\n",
    "len(new_follow_list)"
   ]
  },
  {
   "cell_type": "markdown",
   "metadata": {},
   "source": [
    "### 新しくフォローするIDだけ抽出"
   ]
  },
  {
   "cell_type": "code",
   "execution_count": 87,
   "metadata": {},
   "outputs": [
    {
     "data": {
      "text/plain": [
       "0"
      ]
     },
     "execution_count": 87,
     "metadata": {},
     "output_type": "execute_result"
    }
   ],
   "source": [
    "follow_list = list(set(new_follow_list)- set(following_list))\n",
    "len(follow_list)"
   ]
  },
  {
   "cell_type": "markdown",
   "metadata": {},
   "source": [
    "### 新フォロー実施"
   ]
  },
  {
   "cell_type": "code",
   "execution_count": 92,
   "metadata": {},
   "outputs": [],
   "source": [
    "def follows(client, follow_list):\n",
    "    like_user_follow = 0\n",
    "\n",
    "    for id in follow_list:\n",
    "        client.follow_user(target_user_id=id)\n",
    "        print('フォローしました')\n",
    "        like_user_follow += 1\n",
    "        if like_user_follow >= 40:\n",
    "            break"
   ]
  },
  {
   "cell_type": "markdown",
   "metadata": {},
   "source": [
    "# フォローするとき#外す"
   ]
  },
  {
   "cell_type": "code",
   "execution_count": null,
   "metadata": {},
   "outputs": [],
   "source": [
    "#follows(client, follow_list=follow_list)"
   ]
  },
  {
   "cell_type": "markdown",
   "metadata": {},
   "source": [
    "### フォローしたらjsonへ保存する"
   ]
  },
  {
   "cell_type": "code",
   "execution_count": 67,
   "metadata": {},
   "outputs": [],
   "source": [
    "for i in follow_list:\n",
    "    following_list.append(i)"
   ]
  },
  {
   "cell_type": "code",
   "execution_count": 81,
   "metadata": {},
   "outputs": [],
   "source": [
    "following_list = list(set(following_list)) #setはJSON保存できないのでリストにする\n",
    "new_following = {}\n",
    "new_following['id'] = following_list"
   ]
  },
  {
   "cell_type": "code",
   "execution_count": 82,
   "metadata": {},
   "outputs": [],
   "source": [
    "json_save(ids=new_following, json_name='following_id')"
   ]
  },
  {
   "cell_type": "code",
   "execution_count": 94,
   "metadata": {},
   "outputs": [
    {
     "name": "stdout",
     "output_type": "stream",
     "text": [
      "20220507 17:51\n"
     ]
    }
   ],
   "source": [
    "__update__ = '20220507 17:51'\n",
    "\n",
    "print(__update__)"
   ]
  },
  {
   "cell_type": "markdown",
   "metadata": {},
   "source": [
    "### 自動化する前提でアンフォローも実装"
   ]
  },
  {
   "cell_type": "markdown",
   "metadata": {},
   "source": [
    "# アンフォロー実行スクリプト -> 実行ファイル化してテストする"
   ]
  },
  {
   "cell_type": "code",
   "execution_count": 3,
   "metadata": {},
   "outputs": [
    {
     "name": "stdout",
     "output_type": "stream",
     "text": [
      "[1286592519199961088, 949822493287596033, 2279172336, 1465705811448000524, 1467401884025901059, 1473149795779104769, 1435567344923779072, 1513508550005256197, 1203932458263035905, 1068906813674872833, 1504416469370929161, 911586384334295040, 1465324484613664776, 1518566266919079936, 1517121214669418497, 1515878934671355907, 1471035446285471748, 1501237478514036742, 1158554927142035456, 1514977383216205834, 1515514246775582722, 1515697390480945160]\n",
      "22\n",
      "{'id': [1286592519199961088, 949822493287596033, 2279172336, 1465705811448000524, 1467401884025901059, 1473149795779104769, 1435567344923779072, 1513508550005256197, 1203932458263035905, 1068906813674872833, 1504416469370929161, 911586384334295040, 1465324484613664776, 1518566266919079936, 1517121214669418497, 1515878934671355907, 1471035446285471748, 1501237478514036742, 1158554927142035456, 1514977383216205834, 1515514246775582722, 1515697390480945160]}\n"
     ]
    }
   ],
   "source": [
    "import auto_follow_unfollow_module\n",
    "import api_togsi7 as API\n",
    "\n",
    "client = auto_follow_unfollow_module.apicall(API)\n",
    "my_id = 1515696887781015558 #togsi ID\n",
    "\n",
    "### 最新のJSONにする\n",
    "auto_follow_unfollow_module.follower_json_save(client=client, my_id=my_id)\n",
    "unfollow_list = auto_follow_unfollow_module.unfollow_id_only()\n",
    "\n",
    "### アンフォロー実施 ###\n",
    "unfollow_done_list = auto_follow_unfollow_module.unfollows(client=client, unfollow_list=unfollow_list)\n",
    "\n",
    "\n",
    "### アンフォローしたらJSONへ保存する\n",
    "if unfollow_done_list:\n",
    "    for i in unfollow_done_list:\n",
    "        following_list.append(i)\n",
    "\n",
    "    following_list = list(set(following_list)) #setはJSON保存できないのでリストにする\n",
    "    new_following = {}\n",
    "    new_following['id'] = following_list\n",
    "    json_save(ids=new_following, json_name='following_id')\n"
   ]
  },
  {
   "cell_type": "code",
   "execution_count": 6,
   "metadata": {},
   "outputs": [],
   "source": [
    "import auto_follow_unfollow_module\n",
    "import api_togsi7 as API\n",
    "\n",
    "client = auto_follow_unfollow_module.apicall(API)\n",
    "my_id = 1515696887781015558 #togsi ID"
   ]
  },
  {
   "cell_type": "markdown",
   "metadata": {},
   "source": [
    "# フォロー実行スクリプト"
   ]
  },
  {
   "cell_type": "code",
   "execution_count": null,
   "metadata": {},
   "outputs": [],
   "source": [
    "\n",
    "### 最新のJSONにする\n",
    "auto_follow_unfollow_module.following_json_save(client=client, my_id=my_id)\n",
    "auto_follow_unfollow_module.new_follow_json_save()\n",
    "\n",
    "### フォロー実施 ###\n",
    "follow_list = auto_follow_unfollow_module.new_follow_id_only()\n",
    "follow_done_list = follows(client, follow_list)\n",
    "\n",
    "### フォローしたらJSONへ保存する\n",
    "if follow_done_list:\n",
    "    for i in follow_done_list:\n",
    "        following_list.append(i)\n",
    "\n",
    "    following_list = list(set(following_list)) #setはJSON保存できないのでリストにする\n",
    "    new_following = {}\n",
    "    new_following['id'] = following_list\n",
    "    json_save(ids=new_following, json_name='following_id')"
   ]
  },
  {
   "cell_type": "code",
   "execution_count": 3,
   "metadata": {},
   "outputs": [
    {
     "name": "stdout",
     "output_type": "stream",
     "text": [
      "/Users/ore/Documents/GitHub/DMM/twitter_aff_videos/follow_auto\n"
     ]
    }
   ],
   "source": [
    "import os\n",
    "print(os.getcwd())"
   ]
  },
  {
   "cell_type": "code",
   "execution_count": null,
   "metadata": {},
   "outputs": [],
   "source": []
  }
 ],
 "metadata": {
  "interpreter": {
   "hash": "0a1ece316646461d52424eec54ae6b7be77db122250a261dac31fc3040797f8d"
  },
  "kernelspec": {
   "display_name": "Python 3.10.4 ('scraping')",
   "language": "python",
   "name": "python3"
  },
  "language_info": {
   "codemirror_mode": {
    "name": "ipython",
    "version": 3
   },
   "file_extension": ".py",
   "mimetype": "text/x-python",
   "name": "python",
   "nbconvert_exporter": "python",
   "pygments_lexer": "ipython3",
   "version": "3.10.4"
  },
  "orig_nbformat": 4
 },
 "nbformat": 4,
 "nbformat_minor": 2
}
