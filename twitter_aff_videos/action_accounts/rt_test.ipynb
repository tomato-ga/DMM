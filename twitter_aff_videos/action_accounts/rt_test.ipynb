{
 "cells": [
  {
   "cell_type": "code",
   "execution_count": 1,
   "metadata": {},
   "outputs": [],
   "source": [
    "import tweepy\n",
    "import api_1j_mc\n",
    "import time\n",
    "import random"
   ]
  },
  {
   "cell_type": "code",
   "execution_count": 2,
   "metadata": {},
   "outputs": [],
   "source": [
    "def Tweet():\n",
    "\n",
    "    wait = random.uniform(10, 25)\n",
    "    wait_long = random.uniform(30, 50)\n",
    "    # Twitter API v2対応\n",
    "    client = tweepy.Client(consumer_key=api_1j_mc.API_KEY, consumer_secret=api_1j_mc.API_SECRET, access_token=api_1j_mc.ACCESS_TOKEN, \\\n",
    "        access_token_secret=api_1j_mc.ACCESS_TOKEN_SECRET, bearer_token=api_1j_mc.Bearer_token)\n",
    "\n",
    "    # リストのツイート取得 非公開リストは取得NG 公開設定にする\n",
    "    response = client.get_list_tweets(id=1514978714572173313, max_results=15, expansions=[\"attachments.media_keys\"])\n",
    "    tweet = response.data\n",
    "    random.shuffle(tweet)\n",
    "    print(tweet)\n",
    "\n",
    "    \"\"\"他者アカウント\"\"\"\n",
    "    rt_count = 0\n",
    "    while rt_count > 3:\n",
    "        for media in tweet:\n",
    "            mediatw = media.data\n",
    "            if 'attachments' in mediatw: #動画つきのツイートだけに絞り込む\n",
    "                post = media.id # 動画つきのツイートのIDだけ抜き出す\n",
    "                time.sleep(wait)\n",
    "                try:\n",
    "                    client.retweet(post) # 自動RT\n",
    "                    rt_count += 1\n",
    "                    if rt_count == 3:\n",
    "                        break\n",
    "                except Exception as e:\n",
    "                    print(e)\n",
    "                else:\n",
    "                    print('RT完了')\n"
   ]
  },
  {
   "cell_type": "code",
   "execution_count": null,
   "metadata": {},
   "outputs": [],
   "source": [
    "Tweet()"
   ]
  }
 ],
 "metadata": {
  "interpreter": {
   "hash": "11feb1d78534596143a490751b3fe871ec66a4c47892607133a77b452356a240"
  },
  "kernelspec": {
   "display_name": "Python 3.10.4 ('scrapy-test')",
   "language": "python",
   "name": "python3"
  },
  "language_info": {
   "codemirror_mode": {
    "name": "ipython",
    "version": 3
   },
   "file_extension": ".py",
   "mimetype": "text/x-python",
   "name": "python",
   "nbconvert_exporter": "python",
   "pygments_lexer": "ipython3",
   "version": "3.10.4"
  },
  "orig_nbformat": 4
 },
 "nbformat": 4,
 "nbformat_minor": 2
}
