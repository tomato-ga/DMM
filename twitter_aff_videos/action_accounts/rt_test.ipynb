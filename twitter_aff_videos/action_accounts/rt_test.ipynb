{
 "cells": [
  {
   "cell_type": "code",
   "execution_count": 10,
   "metadata": {},
   "outputs": [],
   "source": [
    "import tweepy\n",
    "import api_1j_mc\n",
    "import time\n",
    "import random"
   ]
  },
  {
   "cell_type": "code",
   "execution_count": 11,
   "metadata": {},
   "outputs": [],
   "source": [
    "def Thirdparty_rt():\n",
    "    \"\"\"他者アカウント\"\"\"\n",
    "\n",
    "    wait = random.uniform(10, 25)\n",
    "    wait_long = random.uniform(30, 50)\n",
    "    # Twitter API v2対応\n",
    "    client = tweepy.Client(consumer_key=api_1j_mc.API_KEY, consumer_secret=api_1j_mc.API_SECRET, access_token=api_1j_mc.ACCESS_TOKEN, \\\n",
    "        access_token_secret=api_1j_mc.ACCESS_TOKEN_SECRET, bearer_token=api_1j_mc.Bearer_token)\n",
    "\n",
    "    # リストのツイート取得 非公開リストは取得NG 公開設定にする\n",
    "    response = client.get_list_tweets(id=1514978714572173313, max_results=15,  expansions=[\"attachments.media_keys\",\"author_id\",\"referenced_tweets.id\"], tweet_fields=[\"context_annotations\",\"public_metrics\",\"created_at\", \"text\", \"source\", \"geo\"])\n",
    "    tweet = response.data\n",
    "    random.shuffle(tweet)\n",
    "    print(tweet)\n",
    "\n",
    "\n",
    "    rt_count = 0\n",
    "    while rt_count < 3:\n",
    "        for media in tweet:\n",
    "            mediatw = media.data\n",
    "            if 'attachments' in mediatw: #動画つきのツイートだけに絞り込む\n",
    "                post = media.id # 動画つきのツイートのIDだけ抜き出す\n",
    "                # time.sleep(wait) #TODO wait外してる\n",
    "                try:\n",
    "                    client.retweet(post) # 自動RT\n",
    "                    rt_count += 1\n",
    "                    if rt_count == 3:\n",
    "                        break\n",
    "                except Exception as e:\n",
    "                    print(e)\n",
    "                else:\n",
    "                    print('RT完了')\n"
   ]
  },
  {
   "cell_type": "code",
   "execution_count": 52,
   "metadata": {},
   "outputs": [],
   "source": [
    "def My_rt():\n",
    "\n",
    "    \"\"\"自分アカウント\"\"\"\n",
    "\n",
    "    client = tweepy.Client(consumer_key=api_1j_mc.API_KEY, consumer_secret=api_1j_mc.API_SECRET, access_token=api_1j_mc.ACCESS_TOKEN, \\\n",
    "        access_token_secret=api_1j_mc.ACCESS_TOKEN_SECRET, bearer_token=api_1j_mc.Bearer_token)\n",
    "\n",
    "    ids: list = [\n",
    "        1515696887781015558,\n",
    "        1514977383216205834,\n",
    "        1515978583730458630,\n",
    "    ]\n",
    "\n",
    "    rt_count_mine = 0\n",
    "    for id_mine in ids:\n",
    "        try:\n",
    "            timeline = client.get_users_tweets(id=id_mine, max_results=5, exclude='retweets', expansions=[\"attachments.media_keys\",\"author_id\",\"referenced_tweets.id\"], tweet_fields=[\"context_annotations\",\"created_at\",\"text\",\"source\",\"entities\"])\n",
    "            name: list = [username_0.data['username'] for username_0 in timeline.includes['users']]\n",
    "            username =name[0]\n",
    "\n",
    "            rts_tweet = timeline.data\n",
    "            random.shuffle(rts_tweet)\n",
    "            print(rts_tweet)\n",
    "        except Exception as ex:\n",
    "            print(ex)\n",
    "            pass\n",
    "\n",
    "        for rt_tweet in rts_tweet:\n",
    "            rttw = rt_tweet.data\n",
    "            if 'attachments' in rttw:\n",
    "                post_mine = rt_tweet.id\n",
    "                #time.sleep(wait)\n",
    "                try:\n",
    "                    ref_tweet = client.create_tweet(text=f'https://twitter.com/{username}/status/{post_mine}/video/1')\n",
    "                    #time.sleep(wait_long)\n",
    "                    reply_id =  ref_tweet[0]['id']\n",
    "                    expand_url = [x['expanded_url'] for x in rttw['entities']['urls']]\n",
    "                    af_url = expand_url[0]\n",
    "\n",
    "                    if 'dmm' in af_url or 'mgs' in af_url:\n",
    "                        client.create_tweet(in_reply_to_tweet_id=reply_id, text=f'作品はこちら{af_url}')\n",
    "                        #time.sleep(wait_long)\n",
    "                except Exception as e:\n",
    "                    print(e)\n",
    "                else:\n",
    "                    print('自分のRTとReply完了!!')\n"
   ]
  },
  {
   "cell_type": "code",
   "execution_count": 53,
   "metadata": {},
   "outputs": [
    {
     "name": "stdout",
     "output_type": "stream",
     "text": [
      "[<Tweet id=1516342468257755141 text='この動画を特定したぞ→ https://t.co/fGnXkoh9rI https://t.co/n2Ie66gQ7j'>, <Tweet id=1516327360915664900 text='この動画を特定したぞ→ https://t.co/yvpFZCPAlD https://t.co/AIg12MXL8I'>, <Tweet id=1516312325758001157 text='この動画を特定したぞ→ https://t.co/RE7aaDQo2M https://t.co/bWVF1jIAPV'>, <Tweet id=1516372736561807365 text='この動画を特定したぞ→ https://t.co/qpxkj5XZIb https://t.co/H4CNItLS28'>, <Tweet id=1516357562366828550 text='この動画を特定したぞ→ https://t.co/U15XacPwn1 https://t.co/5wzLVTt7ey'>]\n",
      "自分のRTとReply完了!!\n",
      "自分のRTとReply完了!!\n",
      "自分のRTとReply完了!!\n",
      "自分のRTとReply完了!!\n",
      "自分のRTとReply完了!!\n"
     ]
    }
   ],
   "source": [
    "My_rt()"
   ]
  }
 ],
 "metadata": {
  "interpreter": {
   "hash": "11feb1d78534596143a490751b3fe871ec66a4c47892607133a77b452356a240"
  },
  "kernelspec": {
   "display_name": "Python 3.10.4 ('scrapy-test')",
   "language": "python",
   "name": "python3"
  },
  "language_info": {
   "codemirror_mode": {
    "name": "ipython",
    "version": 3
   },
   "file_extension": ".py",
   "mimetype": "text/x-python",
   "name": "python",
   "nbconvert_exporter": "python",
   "pygments_lexer": "ipython3",
   "version": "3.10.4"
  },
  "orig_nbformat": 4
 },
 "nbformat": 4,
 "nbformat_minor": 2
}
