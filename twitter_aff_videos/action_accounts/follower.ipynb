{
 "cells": [
  {
   "cell_type": "code",
   "execution_count": 3,
   "metadata": {},
   "outputs": [],
   "source": [
    "import follow_pack\n",
    "import api_tomorrow_genkio as API"
   ]
  },
  {
   "cell_type": "code",
   "execution_count": 5,
   "metadata": {},
   "outputs": [],
   "source": [
    "i = follow_pack.Get_follower()"
   ]
  },
  {
   "cell_type": "code",
   "execution_count": 7,
   "metadata": {},
   "outputs": [
    {
     "name": "stdout",
     "output_type": "stream",
     "text": [
      "Response(data=[<User id=1515696887781015558 name=えちえち username=togsi7>, <User id=1495456096747921409 name=白 username=zM8MThV8Ik7iXE6>, <User id=1511161474529460224 name=Miyuki🐤 username=Miyuki55301698>, <User id=1515514246775582722 name=動画かくさん野郎 username=HjQhq>, <User id=1458613140326076416 name=忍者エロン username=eronosuke777>, <User id=1493900167602335746 name=マースカーキー username=masukaki333>, <User id=1309065409052712961 name=ぱいおつ星人 username=paiotuseizin>, <User id=2197249023 name=えちえちチューブ username=echi2tube>, <User id=1493733495935365124 name=髙橋一史 username=NZ3oawYUtm1J3h8>, <User id=1427510923749588992 name=モジャ username=opopop155>, <User id=1435731528860925952 name=yanou username=you_yy1818>, <User id=903926084080590849 name=AV最高！！ username=AV_saiko_>, <User id=1394312344491024385 name=ニコメノアカ username=PHq0zOej4Fhklza>], includes={}, errors=[], meta={'result_count': 13})\n"
     ]
    }
   ],
   "source": [
    "client = i.apicall(API)\n",
    "i.follower_mine(client, my_id=1514977383216205834)"
   ]
  },
  {
   "cell_type": "code",
   "execution_count": 7,
   "metadata": {},
   "outputs": [
    {
     "name": "stdout",
     "output_type": "stream",
     "text": [
      "0\n",
      "1\n"
     ]
    }
   ],
   "source": [
    "count = 0\n",
    "while count < 4:\n",
    "    print(count)\n",
    "    count +=1\n",
    "    if count == 2:\n",
    "        break\n"
   ]
  },
  {
   "cell_type": "code",
   "execution_count": null,
   "metadata": {},
   "outputs": [],
   "source": []
  }
 ],
 "metadata": {
  "interpreter": {
   "hash": "11feb1d78534596143a490751b3fe871ec66a4c47892607133a77b452356a240"
  },
  "kernelspec": {
   "display_name": "Python 3.10.4 ('scrapy-test')",
   "language": "python",
   "name": "python3"
  },
  "language_info": {
   "codemirror_mode": {
    "name": "ipython",
    "version": 3
   },
   "file_extension": ".py",
   "mimetype": "text/x-python",
   "name": "python",
   "nbconvert_exporter": "python",
   "pygments_lexer": "ipython3",
   "version": "3.10.4"
  },
  "orig_nbformat": 4
 },
 "nbformat": 4,
 "nbformat_minor": 2
}
